{
  "nbformat": 4,
  "nbformat_minor": 0,
  "metadata": {
    "colab": {
      "provenance": []
    },
    "kernelspec": {
      "name": "python3",
      "display_name": "Python 3"
    },
    "language_info": {
      "name": "python"
    }
  },
  "cells": [
    {
      "cell_type": "markdown",
      "source": [
        "1.Can we use Bagging for regression problems?\n",
        "\n",
        "Yes, Bagging (Bootstrap Aggregating) can be used for regression problems. In fact, Bagging Regressor is a popular ensemble learning method for improving the accuracy and stability of regression models.\n",
        "\n",
        "How Bagging Works for Regression:\n",
        "\n",
        "Multiple subsets of the training data are created using bootstrap sampling (sampling with replacement).\n",
        "A base regressor (e.g., Decision Tree, SVR, etc.) is trained on each subset independently.\n",
        "Predictions from all regressors are averaged to obtain the final prediction, reducing variance and improving generalization.\n",
        "\n",
        "Advantages of Bagging in Regression:\n",
        "\n",
        "Reduces Overfitting: Especially when using high-variance models like Decision Trees.\n",
        "\n",
        "Improves Stability: By averaging multiple predictions, Bagging minimizes errors due to outliers.\n",
        "\n",
        "Handles Noisy Data Well: Since each model is trained on a slightly different dataset."
      ],
      "metadata": {
        "id": "axtoX35Y1RMS"
      }
    },
    {
      "cell_type": "markdown",
      "source": [
        " 2.What is the difference between multiple model training and single model training?\n",
        "\n",
        " The difference between multiple model training and single model training lies in how many models are trained and how they are used for prediction.\n",
        "\n",
        "Single Model Training\n",
        "Definition: A single machine learning model is trained on a dataset.\n",
        "\n",
        "Advantages:\n",
        "\n",
        "Simplicity: Easier to train, tune, and deploy.\n",
        "Faster Training: Requires fewer computational resources.\n",
        "Interpretability: Easier to analyze and debug the model.\n",
        "\n",
        "Disadvantages:\n",
        "\n",
        "Limited Performance: If the model is not well-suited for the task, it may underperform.\n",
        "Bias & Variance Tradeoff: Might suffer from high bias (underfitting) or high variance (overfitting).\n",
        "Example:\n",
        "Training a single Logistic Regression model for sentiment analysis.\n",
        "Multiple Model Training\n",
        "Definition: Multiple models are trained, either independently or as part of an ensemble, to improve performance.\n",
        "\n",
        "Types:\n",
        "\n",
        "Ensemble Learning: Combining multiple models to improve accuracy.\n",
        "Bagging (e.g., Random Forest): Reduces variance by training models on different subsets of data.\n",
        "\n",
        "Boosting (e.g., XGBoost, AdaBoost): Sequentially trains models, giving more weight to misclassified instances.\n",
        "\n",
        "Stacking: Uses multiple models as base learners and combines their outputs using a meta-model.\n",
        "\n",
        "Hyperparameter Tuning: Training multiple models with different hyperparameters to find the best one.\n",
        "\n",
        "Multi-Task Learning: Training multiple models for different but related tasks.\n",
        "\n",
        "Advantages:\n",
        "\n",
        "Better Performance: Combines strengths of different models.\n",
        "Robustness: Reduces overfitting and improves generalization.\n",
        "Optimized Hyperparameters: Finds the best model for the task.\n",
        "\n",
        "Disadvantages:\n",
        "\n",
        "Higher Computational Cost: Requires more time and resources.\n",
        "Complexity: Harder to manage, tune, and deploy.\n",
        "\n",
        "Example:\n",
        "Using Random Forest (ensemble of decision trees) for sentiment classification.\n",
        "Training multiple deep learning models (LSTMs, CNNs) and selecting the best for Twitter sentiment analysis."
      ],
      "metadata": {
        "id": "oG2GpRFN1yVI"
      }
    },
    {
      "cell_type": "markdown",
      "source": [
        "3.Explain the concept of feature randomness in Random Forest.\n",
        "\n",
        "\n",
        "Feature Randomness in Random Forest\n",
        "Feature randomness in Random Forest refers to the technique of randomly selecting a subset of features for each decision tree during training, rather than considering all features. This introduces variability, reduces overfitting, and enhances the model's generalization ability.\n",
        "\n",
        "How Feature Randomness Works\n",
        "Random Feature Selection for Splitting\n",
        "\n",
        "In each tree, instead of evaluating all features at every node split, Random Forest chooses a random subset of\n",
        "\n",
        "m features out of the total\n",
        "\n",
        "n features.\n",
        "The best split is then determined only from these selected features.\n",
        "Typically,\n",
        "m is set as:\n",
        "n for classification problems.\n",
        "n/3 for regression problems.\n",
        "\n",
        "Difference from Bagging\n",
        "\n",
        "Bagging (Bootstrap Aggregating) ensures randomness in data selection by training each tree on a random subset of the dataset.\n",
        "Feature randomness ensures that different trees use different feature subsets, making them more diverse.\n",
        "Benefits of Feature Randomness\n",
        "Reduces Correlation Among Trees\n",
        "\n",
        "Prevents all trees from making similar splits, which increases the overall diversity of the forest.\n",
        "Improves Generalization\n",
        "\n",
        "Reduces the chance of overfitting since trees do not rely on the same dominant features.\n",
        "Handles High-Dimensional Data Well\n",
        "\n",
        "Even when the number of features is large, feature randomness ensures that the model does not rely on a small set of powerful features.\n",
        "Enhances Model Interpretability\n",
        "\n",
        "By considering different subsets of features, Random Forest can highlight feature importance more effectively."
      ],
      "metadata": {
        "id": "Tk2SGIrh2Rkk"
      }
    },
    {
      "cell_type": "markdown",
      "source": [
        "4.What is OOB (Out-of-Bag) Score?\n",
        "\n",
        "The Out-of-Bag (OOB) Score is a performance metric used in Random Forest and other ensemble learning methods that use bootstrap aggregating (bagging). It provides an estimate of the model’s generalization error without requiring a separate validation set or cross-validation.\n",
        "\n",
        "How OOB Score Works\n",
        "\n",
        "Bootstrap Sampling: In Random Forest, each decision tree is trained on a random subset of the training data (sampling with replacement).\n",
        "\n",
        "OOB Data: The data points that are not selected in a particular bootstrap sample are called \"out-of-bag\" samples.\n",
        "\n",
        "Prediction with OOB Samples: Each tree makes predictions on its corresponding OOB samples.\n",
        "\n",
        "Aggregation: The final OOB prediction for each sample is obtained by averaging (for regression) or majority voting (for classification) across all trees where the sample was OOB.\n",
        "\n",
        "OOB Score Calculation: The overall accuracy or error rate is computed by comparing the OOB predictions to the actual labels.\n",
        "Advantages of OOB Score\n",
        "\n",
        "Eliminates the need for a separate validation set.\n",
        "Provides an unbiased estimate of model performance.\n",
        "Helps detect overfitting."
      ],
      "metadata": {
        "id": "hMfiMoac2xzi"
      }
    },
    {
      "cell_type": "markdown",
      "source": [
        "5.How can you measure the importance of features in a Random Forest model?\n",
        "\n",
        "\n",
        "\n",
        "Measuring Feature Importance in a Random Forest Model\n",
        "Feature importance in a Random Forest model helps in understanding which features contribute the most to making predictions. There are several techniques to measure this importance:\n",
        "\n",
        "1. Mean Decrease in Impurity (MDI) – Gini Importance\n",
        "Each decision tree in the Random Forest splits nodes based on a feature that maximizes the reduction in impurity (e.g., Gini impurity for classification, variance reduction for regression).\n",
        "The importance of a feature is computed as the sum of all impurity decreases it causes, averaged over all trees.\n",
        "Features that contribute to larger reductions in impurity across many trees receive higher importance scores.\n",
        "However, this method is biased toward features with more categories or continuous values.\n",
        "2. Permutation Importance (Mean Decrease in Accuracy)\n",
        "This method evaluates feature importance by randomly shuffling the values of a given feature and observing the impact on model performance.\n",
        "If a feature is important, disrupting its values will significantly reduce the model’s accuracy or another chosen metric.\n",
        "This approach is more reliable than MDI, especially when features are correlated, but it is computationally more expensive as it requires multiple evaluations.\n",
        "3. SHAP (SHapley Additive exPlanations) Values\n",
        "SHAP values are based on cooperative game theory and measure the impact of each feature on individual predictions.\n",
        "This method assigns an importance value to each feature by calculating its contribution to different possible subsets of features.\n",
        "SHAP provides both global feature importance (overall importance across the dataset) and local feature importance (impact on individual predictions).\n",
        "It is computationally demanding but offers high interpretability, especially in cases with correlated features.\n",
        "4. Drop-Column Importance\n",
        "This method involves training multiple models while systematically removing one feature at a time and observing the drop in model performance.\n",
        "If removing a feature causes a large decrease in accuracy, it indicates that the feature is highly important.\n",
        "This method provides an accurate measure of feature importance but is computationally very expensive."
      ],
      "metadata": {
        "id": "_mf6nRMz3ROm"
      }
    },
    {
      "cell_type": "markdown",
      "source": [
        "6.Explain the working principle of a Bagging Classifier?\n",
        "\n",
        "Working Principle of a Bagging Classifier\n",
        "A Bagging Classifier (Bootstrap Aggregating Classifier) is an ensemble learning method that improves the accuracy and robustness of machine learning models by combining multiple base models (weak learners). The core idea behind bagging is to reduce variance and prevent overfitting, particularly for high-variance models like decision trees.\n",
        "\n",
        "1. Steps in Bagging Classifier Working\n",
        "Step 1: Bootstrap Sampling\n",
        "The dataset is divided into multiple random subsets by sampling with replacement (bootstrap sampling).\n",
        "Each subset has the same size as the original dataset but may contain duplicate samples.\n",
        "Step 2: Training Multiple Base Models\n",
        "A separate base model (weak learner) is trained on each bootstrap sample.\n",
        "The base models are usually high-variance models such as Decision Trees.\n",
        "Step 3: Aggregation of Predictions\n",
        "After training, each model makes a prediction on a new instance.\n",
        "For classification, predictions are combined using majority voting (the class predicted most frequently is chosen).\n",
        "For regression, predictions are combined using averaging (the mean of all predicted values is taken).\n",
        "2. Key Concepts in Bagging\n",
        "Bootstrap Sampling: Creating multiple datasets by sampling with replacement.\n",
        "Base Learners: The individual models used in the ensemble (e.g., Decision Trees).\n",
        "Voting/Averaging: The method used to aggregate predictions from multiple models.\n",
        "3. Advantages of Bagging Classifier\n",
        "Reduces Overfitting: By averaging multiple models, bagging reduces variance.\n",
        "Improves Accuracy: Ensemble learning generally improves prediction accuracy.\n",
        "Handles Noisy Data: Since multiple models contribute to the decision, the effect of noise is minimized.\n",
        "Parallelizable: The training of base learners can be done independently, allowing parallel computation.\n",
        "4. Example of Bagging Classifier\n",
        "The most common implementation of bagging is the Random Forest algorithm, which uses multiple Decision Trees to improve classification and regression accuracy."
      ],
      "metadata": {
        "id": "mgpHGLQX3tbs"
      }
    },
    {
      "cell_type": "markdown",
      "source": [
        "7.How do you evaluate a Bagging Classifier’s performance?\n",
        "\n",
        "\n",
        "Evaluating a Bagging Classifier’s Performance\n",
        "A Bagging Classifier (Bootstrap Aggregating) is an ensemble learning method that improves classification performance by training multiple base models (weak learners) on random subsets of the dataset and averaging their predictions. Evaluating the performance of a Bagging Classifier involves several theoretical aspects:\n",
        "\n",
        "1. Performance Metrics\n",
        "To assess a Bagging Classifier's effectiveness, various evaluation metrics can be used:\n",
        "\n",
        "Accuracy: Measures the overall correctness of predictions:\n",
        "Accuracy= TP+TN/TP+TN+FP+FN\n",
        "\n",
        "Works well when classes are balanced.\n",
        "Can be misleading for imbalanced datasets.\n",
        "Precision, Recall, and F1-score:\n",
        "\n",
        "Precision (Positive Predictive Value): Measures how many of the predicted positives are actually positive.\n",
        "Precision= TP/TP+FP\n",
        "\n",
        "\n",
        "Recall (Sensitivity): Measures how many actual positives were correctly identified.\n",
        "\n",
        "Recall=TP/ TP+FN\n",
        "\n",
        "​\n",
        "\n",
        "F1-score: Harmonic mean of precision and recall, used when there is an imbalance between classes.\n",
        "\n",
        "F1=2× Precision×Recall/Precision+Recall\n",
        "\n",
        "​\n",
        "\n",
        "ROC Curve & AUC (Area Under Curve):\n",
        "\n",
        "Measures classifier’s ability to distinguish between classes.\n",
        "Higher AUC indicates better performance.\n",
        "2. Cross-Validation\n",
        "To ensure the model generalizes well, k-fold cross-validation is commonly used:\n",
        "\n",
        "The dataset is split into\n",
        "𝑘\n",
        "k subsets.\n",
        "The classifier is trained on\n",
        "𝑘\n",
        "−\n",
        "1\n",
        "k−1 subsets and tested on the remaining one.\n",
        "The process is repeated\n",
        "𝑘\n",
        "k times, and the average performance is calculated.\n",
        "This reduces the risk of overfitting and provides a robust evaluation.\n",
        "\n",
        "3. Bias-Variance Tradeoff\n",
        "Bagging generally reduces variance by averaging multiple models’ predictions but does not significantly reduce bias if the base learners are biased. Performance can be analyzed by:\n",
        "\n",
        "Low Bias, Low Variance → Good Model\n",
        "High Bias, Low Variance → Underfitting\n",
        "Low Bias, High Variance → Overfitting\n",
        "Bagging reduces variance, making the classifier more stable.\n",
        "\n",
        "4. Out-of-Bag (OOB) Score\n",
        "Since Bagging uses bootstrap sampling (random sampling with replacement), some instances are left out during training. These \"out-of-bag\" instances can be used for validation instead of a separate test set.\n",
        "\n",
        "The OOB score provides an unbiased estimate of model performance.\n",
        "It helps in hyperparameter tuning.\n",
        "5. Feature Importance Analysis\n",
        "Bagging methods like Random Forest allow feature importance analysis:\n",
        "\n",
        "Determines which features contribute most to classification.\n",
        "Important for understanding model interpretability.\n",
        "6. Computational Efficiency Consideration\n",
        "Bagging improves performance but requires training multiple models, increasing computational cost.\n",
        "Parallel computing can be used to speed up the process."
      ],
      "metadata": {
        "id": "-Eu5bH9i4Hjl"
      }
    },
    {
      "cell_type": "markdown",
      "source": [
        "8.How does a Bagging Regressor work?\n",
        "\n",
        "Bagging Regressor: Theory and Working Mechanism\n",
        "Introduction\n",
        "Bagging (Bootstrap Aggregating) is an ensemble learning technique that improves the accuracy and stability of machine learning models by combining multiple predictions from different base models. A Bagging Regressor is a specific application of this technique for regression tasks, where the goal is to predict continuous values.\n",
        "\n",
        "How Bagging Regressor Works\n",
        "Bootstrap Sampling:\n",
        "\n",
        "The training dataset is randomly sampled with replacement to create multiple subsets (bootstrap samples).\n",
        "Each subset has the same number of samples as the original dataset but may contain duplicate instances due to replacement.\n",
        "Training Multiple Base Models:\n",
        "\n",
        "A separate regression model (often a Decision Tree Regressor) is trained on each bootstrap sample.\n",
        "The models are independent of each other and can be weak learners.\n",
        "\n",
        "Key Characteristics\n",
        "\n",
        "Reduces Overfitting: Since bagging introduces randomness, it prevents a single model from overfitting to the training data.\n",
        "\n",
        "Improves Stability: It reduces variance by averaging multiple models, making it robust to noise.\n",
        "\n",
        "Handles Non-Linearity: When using complex base models like Decision Trees, Bagging can capture complex relationships in data.\n",
        "\n",
        "Parallel Computation: Since each model is trained independently, the process can be parallelized for faster execution.\n",
        "\n",
        "Common Base Models Used\n",
        "\n",
        "Decision Trees (most common)\n",
        "\n",
        "Support Vector Regressors (SVR)\n",
        "\n",
        "K-Nearest Neighbors (KNN)\n",
        "\n",
        "Linear Models"
      ],
      "metadata": {
        "id": "lkkpaqqs5Ab6"
      }
    },
    {
      "cell_type": "markdown",
      "source": [
        " 9.What is the main advantage of ensemble techniques?\n",
        "\n",
        "\n",
        " Main Advantage of Ensemble Techniques in Machine Learning\n",
        "Introduction to Ensemble Techniques\n",
        "Ensemble learning is a machine learning paradigm where multiple models (often called \"weak learners\") are combined to improve overall performance compared to a single model. The fundamental idea behind ensemble methods is that a group of diverse models, when combined, can produce better predictive performance than individual models.\n",
        "\n",
        "Main Advantage: Improved Accuracy and Robustness\n",
        "The primary advantage of ensemble techniques is that they enhance predictive accuracy and model robustness by reducing variance, bias, and overfitting.\n",
        "\n",
        "Reduction in Variance (Bagging)\n",
        "\n",
        "Techniques like Bootstrap Aggregating (Bagging), where multiple models are trained on different subsets of the data, help reduce variance.\n",
        "Example: Random Forest uses bagging to create multiple decision trees, reducing the risk of overfitting compared to a single decision tree.\n",
        "Reduction in Bias (Boosting)\n",
        "\n",
        "Boosting methods like AdaBoost and Gradient Boosting focus on learning from the mistakes of previous models by assigning higher weights to misclassified instances.\n",
        "This iterative process helps reduce bias and improves the predictive accuracy of weak learners.\n",
        "Better Generalization\n",
        "\n",
        "Combining multiple models makes the overall prediction more stable and less sensitive to noise in the data.\n",
        "It ensures that the model generalizes well to unseen data rather than memorizing the training dataset.\n",
        "Handling Complex Data Patterns\n",
        "\n",
        "Ensemble methods can capture complex relationships in the data better than a single model.\n",
        "By leveraging different base learners, ensemble methods provide a more comprehensive understanding of the data distribution.\n",
        "Increased Stability and Reliability\n",
        "\n",
        "Single models may perform inconsistently across different datasets.\n",
        "By averaging or voting across multiple models, ensemble techniques provide more reliable and consistent predictions."
      ],
      "metadata": {
        "id": "CKyMVEVi5qna"
      }
    },
    {
      "cell_type": "markdown",
      "source": [
        "10.What is the main challenge of ensemble methods?\n",
        "\n",
        "\n",
        "Main Challenge of Ensemble Methods in Machine Learning\n",
        "Ensemble methods are powerful techniques in machine learning that combine multiple models to improve prediction accuracy and generalization. However, they come with certain challenges, with the primary ones being:\n",
        "\n",
        "1. Model Correlation\n",
        "The effectiveness of an ensemble depends on the diversity of its base models. If all models in the ensemble are highly correlated (i.e., they make similar errors), the ensemble does not provide significant improvement over individual models.\n",
        "Ideally, ensemble models should have uncorrelated errors so that one model’s mistake can be corrected by others.\n",
        "2. Computational Complexity\n",
        "Ensemble methods, particularly those involving a large number of models (e.g., Random Forest, Boosting, Stacking), require significant computational resources.\n",
        "Training multiple models instead of one increases memory usage, processing power, and execution time.\n",
        "Real-time applications may suffer due to high inference latency.\n",
        "3. Overfitting\n",
        "While ensemble methods generally reduce variance, they can still lead to overfitting, especially when overly complex base models are used.\n",
        "Methods like boosting (e.g., AdaBoost, Gradient Boosting) can focus too much on hard-to-classify examples, leading to poor generalization on unseen data.\n",
        "4. Interpretability\n",
        "Individual models like decision trees and logistic regression provide interpretable results, but ensemble models (especially those using deep learning or multiple stacked models) become complex and harder to interpret.\n",
        "Understanding how a final decision is reached becomes challenging, making it difficult to debug and trust the model, particularly in high-stakes applications like healthcare or finance.\n",
        "5. Data Dependency\n",
        "Ensemble methods require sufficient and high-quality training data. If the dataset is small or imbalanced, the ensemble may not perform well.\n",
        "Some methods, such as bagging, require a large enough dataset to ensure diverse subsets, while boosting can be sensitive to noisy data.\n",
        "6. Hyperparameter Tuning\n",
        "Many ensemble techniques involve multiple hyperparameters that need fine-tuning (e.g., number of estimators, learning rate in boosting, depth of trees in Random Forest).\n",
        "Finding optimal hyperparameters often requires extensive experimentation, which can be time-consuming.\n",
        "\n",
        "Conclusion\n",
        "\n",
        "Ensemble methods are highly effective in improving model performance, but they require careful implementation to avoid challenges such as high computational cost, model correlation, and interpretability issues. Techniques like feature selection, model pruning, and using diverse base models can help mitigate these challenges."
      ],
      "metadata": {
        "id": "95Qpy6Ns6HEL"
      }
    },
    {
      "cell_type": "markdown",
      "source": [
        "11.Explain the key idea behind ensemble techniques?\n",
        "\n",
        "Ensemble Techniques in Machine Learning\n",
        "Key Idea:\n",
        "Ensemble techniques in machine learning are based on the principle that combining multiple models (often referred to as \"weak learners\" or \"base models\") can lead to improved predictive performance compared to using a single model. The fundamental idea is that different models capture different patterns in the data, and their collective decision-making reduces variance, bias, and overfitting, leading to higher accuracy and generalization.\n",
        "\n",
        "Theory Behind Ensemble Methods\n",
        "Ensemble methods leverage the idea that multiple diverse models, when combined, can make better predictions than any single model. This is achieved through techniques like averaging (for regression) or voting (for classification). The main goal is to improve the stability, robustness, and accuracy of predictions by reducing errors.\n",
        "\n",
        "Types of Ensemble Methods\n",
        "\n",
        "Bagging (Bootstrap Aggregating)\n",
        "The idea is to create multiple subsets of data by randomly sampling with replacement.\n",
        "A separate model (often of the same type) is trained on each subset.\n",
        "The predictions from each model are aggregated (e.g., averaging for regression or majority voting for classification).\n",
        "Example: Random Forest (an ensemble of decision trees).\n",
        "\n",
        "Boosting\n",
        "Models are trained sequentially, where each new model focuses on correcting the errors of the previous models.\n",
        "More weight is given to misclassified instances so that the next model learns from them.\n",
        "Examples: AdaBoost, Gradient Boosting, XGBoost, LightGBM, CatBoost.\n",
        "\n",
        "Stacking (Stacked Generalization)\n",
        "Multiple diverse models (of different types) are trained on the same dataset.\n",
        "A meta-model (higher-level model) learns to combine the predictions of these base models to make a final decision.\n",
        "Stacking is more flexible but computationally expensive.\n",
        "\n",
        "Voting (for Classification) & Averaging (for Regression)\n",
        "Voting: Multiple classifiers make predictions, and the final class is decided based on majority voting (hard voting) or weighted voting (soft voting).\n",
        "Averaging: In regression, predictions from multiple models are averaged to get the final output.\n",
        "\n",
        "Why Ensemble Learning Works?\n",
        "\n",
        "Reduction in Bias – Weak learners may have high bias, but combining them reduces overall bias.\n",
        "\n",
        "Reduction in Variance – Ensemble methods smooth out fluctuations in individual predictions, leading to more stable outcomes.\n",
        "\n",
        "Better Generalization – The combined model generalizes better to unseen data.\n",
        "\n",
        "Error Compensation – If one model makes an error, others can correct it, reducing overall error.\n",
        "\n",
        "Conclusion\n",
        "\n",
        "Ensemble techniques provide a powerful way to improve machine learning models by aggregating the strengths of multiple models. By reducing bias and variance, these methods achieve higher accuracy and robustness, making them widely used in real-world applications such as finance, healthcare, and natural language processing."
      ],
      "metadata": {
        "id": "Qx9Dh89A6ZYb"
      }
    },
    {
      "cell_type": "markdown",
      "source": [
        "12.What is a Random Forest Classifier?\n",
        "\n",
        "\n",
        "A Random Forest Classifier is an ensemble learning algorithm used for classification tasks. It operates by creating multiple decision trees during training and combining their outputs to improve accuracy and reduce overfitting. Here's how it works:\n",
        "\n",
        "Key Concepts:\n",
        "\n",
        "Ensemble Learning: Combines multiple decision trees to improve predictive performance.\n",
        "\n",
        "Bootstrap Aggregation (Bagging): Each tree is trained on a randomly sampled subset of the dataset, improving generalization.\n",
        "\n",
        "Feature Randomness: Each split in a tree considers only a random subset of features, reducing correlation between trees.\n",
        "\n",
        "Majority Voting: The final prediction is determined by the majority vote of all trees in the forest.\n",
        "\n",
        "Advantages:\n",
        "\n",
        "✔ Handles large datasets well\n",
        "\n",
        "✔ Reduces overfitting compared to a single decision tree\n",
        "\n",
        "✔ Works with both categorical and numerical data\n",
        "\n",
        "✔ Provides feature importance insights"
      ],
      "metadata": {
        "id": "tnubm5F77K5K"
      }
    },
    {
      "cell_type": "markdown",
      "source": [
        "13.What are the main types of ensemble techniques?\n",
        "\n",
        "Ensemble techniques combine multiple machine learning models to improve overall performance. The main types of ensemble techniques are:\n",
        "\n",
        "1. Bagging (Bootstrap Aggregating)\n",
        "Reduces variance by training multiple models on different random subsets of the data.\n",
        "Common example: Random Forest (an ensemble of decision trees).\n",
        "2. Boosting\n",
        "Focuses on reducing bias by training models sequentially, where each model corrects the errors of the previous one.\n",
        "Common examples:\n",
        "AdaBoost (Adaptive Boosting)\n",
        "Gradient Boosting (GBM)\n",
        "XGBoost (Extreme Gradient Boosting)\n",
        "LightGBM\n",
        "CatBoost\n",
        "3. Stacking (Stacked Generalization)\n",
        "Combines multiple base models and uses another model (meta-learner) to make final predictions.\n",
        "Often uses Logistic Regression, Neural Networks, or Gradient Boosting as the meta-learner.\n",
        "4. Voting\n",
        "Uses multiple models and aggregates their predictions (majority vote for classification, average for regression).\n",
        "Types:\n",
        "Hard Voting (majority class wins)\n",
        "Soft Voting (weighted average of probabilities)\n",
        "5. Blending\n",
        "Similar to stacking but uses a holdout dataset for meta-learning instead of cross-validation."
      ],
      "metadata": {
        "id": "fLlMcgcx7abb"
      }
    },
    {
      "cell_type": "markdown",
      "source": [
        " 14.What is ensemble learning in machine learning?\n",
        "\n",
        " Ensemble learning is a machine learning technique that combines multiple models (often called \"weak learners\" or \"base models\") to improve overall performance, accuracy, and robustness. Instead of relying on a single model, ensemble methods aggregate the predictions of multiple models to reduce errors and enhance generalization.\n",
        "\n",
        "Types of Ensemble Learning:\n",
        "Bagging (Bootstrap Aggregating)\n",
        "\n",
        "Reduces variance by training multiple models on different subsets of the dataset and averaging their predictions.\n",
        "Example: Random Forest, which combines multiple decision trees.\n",
        "Boosting\n",
        "\n",
        "Reduces bias by training models sequentially, where each new model focuses on correcting the errors of the previous one.\n",
        "Example: AdaBoost, Gradient Boosting, XGBoost, LightGBM.\n",
        "Stacking (Stacked Generalization)\n",
        "\n",
        "Uses multiple base models and combines their predictions using a meta-model (a higher-level model that learns how to best combine their outputs).\n",
        "Example: Combining logistic regression, decision trees, and neural networks with another model like a random forest.\n",
        "Voting (Majority Voting or Weighted Voting)\n",
        "\n",
        "Uses multiple models and predicts the final output based on a majority vote (for classification) or average (for regression).\n",
        "Example: Using different classifiers like SVM, Decision Tree, and Naïve Bayes and selecting the most common prediction.\n",
        "Blending\n",
        "\n",
        "Similar to stacking but uses a validation dataset instead of cross-validation for training the meta-model.\n",
        "Benefits of Ensemble Learning:\n",
        "Improved Accuracy: Aggregating models usually outperforms individual models.\n",
        "Robustness: Reduces overfitting and generalizes better on unseen data.\n",
        "Reduced Variance & Bias: Helps mitigate errors associated with individual models."
      ],
      "metadata": {
        "id": "VWMvTEVn7tG8"
      }
    },
    {
      "cell_type": "markdown",
      "source": [
        "15.When should we avoid using ensemble methods?\n",
        "\n",
        "When should we avoid using ensemble methods\u0010\n",
        "ChatGPT said:\n",
        "Ensemble methods, such as bagging (e.g., Random Forest), boosting (e.g., AdaBoost, XGBoost), and stacking, are powerful techniques for improving model performance. However, they are not always the best choice. Here are some scenarios where you should avoid using ensemble methods:\n",
        "\n",
        "1. When the Base Model is Already Performing Well\n",
        "If a single model (e.g., logistic regression, decision tree, or neural network) is already achieving high accuracy and generalizing well, adding ensemble methods may not provide significant improvements.\n",
        "2. When Interpretability is a Priority\n",
        "Ensemble models (especially boosting and stacking methods) are complex and less interpretable than simpler models like decision trees, linear regression, or logistic regression.\n",
        "If you need clear explanations (e.g., in healthcare, finance, or legal domains), simpler models may be preferable.\n",
        "3. When Computational Resources are Limited\n",
        "Training and deploying ensemble models, especially boosting techniques like XGBoost or deep learning ensembles, can be computationally expensive.\n",
        "If you have limited CPU/GPU resources, memory, or energy constraints (e.g., on edge devices or IoT systems), simpler models are more practical.\n",
        "4. When the Dataset is Small\n",
        "Ensemble methods work best with large datasets, where variance reduction is beneficial.\n",
        "On small datasets, ensemble methods may lead to overfitting rather than improved generalization.\n",
        "5. When Real-Time Predictions are Required\n",
        "Ensemble methods increase inference time since multiple models need to be queried before making a final prediction.\n",
        "If your application requires low-latency predictions (e.g., fraud detection, high-frequency trading, or real-time recommendation systems), a single lightweight model might be better.\n",
        "6. When Data is Noisy or Low-Quality\n",
        "If your dataset contains a lot of noise, ensemble methods (especially boosting) might amplify that noise, leading to overfitting.\n",
        "Preprocessing, feature engineering, and noise reduction should be prioritized before using ensembles.\n",
        "7. When You Need a Simple Deployment Pipeline\n",
        "Ensemble models are harder to deploy, maintain, and update compared to a single model.\n",
        "If you need a lightweight, scalable, and easy-to-maintain solution, using a single well-optimized model is preferable."
      ],
      "metadata": {
        "id": "FBeEdsu376Au"
      }
    },
    {
      "cell_type": "markdown",
      "source": [
        "16.How does Bagging help in reducing overfitting?\n",
        "\n",
        "Bagging (Bootstrap Aggregating) helps in reducing overfitting in machine learning models by leveraging ensemble learning. Here’s how:\n",
        "\n",
        "1. Reduces Variance\n",
        "Bagging involves training multiple instances of the same model on different random subsets of the dataset (sampled with replacement).\n",
        "By averaging (for regression) or majority voting (for classification) across multiple models, it smooths out predictions and reduces the impact of individual models that overfit specific data points.\n",
        "2. Improves Generalization\n",
        "Since each model is trained on a slightly different dataset, the ensemble learns different patterns, reducing sensitivity to noise in the training data.\n",
        "This prevents the model from memorizing specific training examples, leading to better generalization on unseen data.\n",
        "3. Reduces Over-reliance on Specific Features\n",
        "Some weak learners might overfit by giving too much importance to specific features.\n",
        "Bagging diversifies the learning process, ensuring that the model is not biased toward a particular set of features or instances.\n",
        "4. Works Well with High-Variance Models\n",
        "Algorithms like Decision Trees (especially deep ones) tend to overfit due to their high variance.\n",
        "Bagging, as used in Random Forests, helps in stabilizing these models by combining multiple trees, each trained on different subsets of data.\n",
        "Example: Random Forest\n",
        "A Random Forest is a bagging-based ensemble of decision trees.\n",
        "Each tree is trained on a different bootstrapped dataset and uses random feature selection.\n",
        "The final prediction is based on the majority vote (classification) or averaging (regression), leading to a more robust model with reduced overfitting.\n",
        "\n",
        "In summary, Bagging reduces overfitting by averaging multiple models trained on different subsets of data, thereby reducing variance while maintaining predictive power."
      ],
      "metadata": {
        "id": "R1QuV0wC8UVs"
      }
    },
    {
      "cell_type": "markdown",
      "source": [
        "17.Why is Random Forest better than a single Decision Tree?\n",
        "\n",
        "Random Forest is better than a single Decision Tree for several reasons:\n",
        "\n",
        "Reduces Overfitting – A single decision tree tends to overfit the training data, leading to poor generalization on unseen data. Random Forest, by averaging multiple trees, reduces overfitting and improves accuracy.\n",
        "\n",
        "Higher Accuracy – Since Random Forest takes the majority vote (classification) or average (regression) of multiple trees, it generally produces better predictive performance than a single decision tree.\n",
        "\n",
        "Handles Variability – Decision trees are sensitive to small variations in data, leading to different tree structures with small data changes. Random Forest, by using multiple trees, reduces this variability and makes the model more robust.\n",
        "\n",
        "Feature Importance – Random Forest provides an estimate of feature importance, helping in feature selection for better model interpretation.\n",
        "\n",
        "Handles Missing Data – It can handle missing values by averaging predictions from different trees.\n",
        "\n",
        "Works Well with High-Dimensional Data – Random Forest performs well even when there are many features, whereas a single decision tree may struggle.\n",
        "\n",
        "Less Sensitive to Noise – Since multiple trees vote on the final decision, noisy or irrelevant features have less impact on overall performance."
      ],
      "metadata": {
        "id": "BG2vxUky9BsA"
      }
    },
    {
      "cell_type": "markdown",
      "source": [
        "18.What is the role of bootstrap sampling in Bagging?\n",
        "\n",
        "Bootstrap sampling plays a crucial role in Bagging (Bootstrap Aggregating) by introducing diversity into the training process of multiple models. Here's how it works:\n",
        "\n",
        "Role of Bootstrap Sampling in Bagging\n",
        "Creating Diverse Training Sets:\n",
        "\n",
        "Instead of training a model on the entire dataset, Bagging generates multiple subsets of the data using bootstrap sampling.\n",
        "Each subset is created by randomly selecting data points with replacement, meaning some samples may appear multiple times, while others may not be included at all.\n",
        "Reducing Variance:\n",
        "\n",
        "Since each model in the ensemble is trained on slightly different data, it captures different patterns and reduces overfitting.\n",
        "When predictions are averaged (for regression) or voted on (for classification), the overall model generalizes better.\n",
        "Handling Noisy Data:\n",
        "\n",
        "By training on different samples, Bagging helps mitigate the effect of noise in the dataset.\n",
        "Individual models may overfit noisy samples, but the aggregation process smooths out their impact.\n",
        "Example in Random Forest\n",
        "In Random Forest, which is an extension of Bagging for decision trees:\n",
        "Each tree is trained on a bootstrap sample of the data.\n",
        "This ensures that trees are different from each other, leading to better generalization.\n",
        "Additionally, feature randomness is introduced to further decorrelate the models.\n",
        "\n",
        "\n",
        "Summary\n",
        "\n",
        "Bootstrap sampling ensures model diversity, which is essential for Bagging.\n",
        "It helps reduce variance and improve stability by training models on different datasets.\n",
        "This technique is especially effective in ensemble learning methods like Random Forest to achieve better predictive performance."
      ],
      "metadata": {
        "id": "gQ5dlPFvp-kJ"
      }
    },
    {
      "cell_type": "markdown",
      "source": [
        "19.What are some real-world applications of ensemble techniques?\n",
        "\n",
        "Ensemble techniques are widely used in real-world applications across various domains because they enhance the accuracy and robustness of machine learning models. Here are some key applications:\n",
        "\n",
        "1. Finance & Banking\n",
        "Credit Scoring & Risk Assessment: Banks use ensemble methods like Random Forest and Gradient Boosting to assess loan eligibility and creditworthiness.\n",
        "Fraud Detection: Techniques like Bagging and Boosting help detect fraudulent transactions by combining multiple models to minimize false positives.\n",
        "2. Healthcare & Medicine\n",
        "Disease Prediction & Diagnosis: Ensemble methods are used in diagnosing diseases (e.g., cancer detection, COVID-19 prognosis) by aggregating results from multiple models.\n",
        "Medical Image Analysis: CNN ensembles improve accuracy in detecting anomalies in X-rays, MRIs, and CT scans.\n",
        "3. Natural Language Processing (NLP)\n",
        "Sentiment Analysis: Combining models (e.g., Random Forest, LSTMs, and Transformer-based models) improves sentiment classification accuracy in social media analysis.\n",
        "Chatbots & Virtual Assistants: Ensemble methods enhance text classification and intent recognition.\n",
        "4. Cybersecurity\n",
        "Intrusion Detection Systems (IDS): Ensemble models detect unusual network activities and prevent cyber attacks.\n",
        "Spam & Malware Detection: Boosting and Stacking techniques help classify emails and files more effectively.\n",
        "5. E-commerce & Recommendation Systems\n",
        "Product Recommendation: Websites like Amazon and Netflix use ensembles to improve recommendation accuracy by combining collaborative filtering, content-based filtering, and deep learning.\n",
        "Customer Churn Prediction: Businesses use ensemble models to predict which customers are likely to leave and take preventive actions.\n",
        "6. Autonomous Vehicles & Computer Vision\n",
        "Self-Driving Cars: Ensemble methods are used for object detection, lane detection, and decision-making in autonomous driving.\n",
        "Facial Recognition & Image Processing: Combining different models enhances accuracy in security and authentication systems.\n",
        "7. Weather Forecasting & Climate Prediction\n",
        "Storm Prediction & Disaster Management: Meteorologists use ensemble techniques to combine multiple weather models and improve forecast accuracy.\n",
        "Air Quality Monitoring: Predictive ensembles help assess pollution levels and recommend actions.\n",
        "8. IoT & Smart Systems\n",
        "Anomaly Detection in Smart Homes: Ensemble learning is used in IoT-based security systems to detect suspicious activity.\n",
        "Predictive Maintenance: Industries use ensemble techniques to monitor machine health and predict failures."
      ],
      "metadata": {
        "id": "Ou62kByhqObD"
      }
    },
    {
      "cell_type": "markdown",
      "source": [
        "20.What is the difference between Bagging and Boosting?\n",
        "\n",
        "Difference Between Bagging and Boosting\n",
        "1. Definition\n",
        "Bagging (Bootstrap Aggregating): A technique that creates multiple independent models by training them on different random subsets of data and then averaging their predictions.\n",
        "Boosting: A sequential technique where models are trained one after another, with each new model correcting the errors of the previous one.\n",
        "2. Training Approach\n",
        "Bagging: Parallel training of base models.\n",
        "Boosting: Sequential training of base models, where each model learns from the mistakes of the previous one.\n",
        "3. Objective\n",
        "Bagging: Reduces variance by averaging multiple models, preventing overfitting.\n",
        "Boosting: Reduces bias by focusing on hard-to-classify instances, improving accuracy.\n",
        "4. Dependency Between Models\n",
        "Bagging: Models are independent of each other.\n",
        "Boosting: Models are dependent, with each new model learning from the mistakes of the previous one.\n",
        "5. Weight Assignment\n",
        "Bagging: Equal weight is given to all models' predictions.\n",
        "Boosting: Higher weight is given to misclassified samples, making the next model focus more on them.\n",
        "6. Example Algorithms\n",
        "Bagging: Random Forest, Bagged Decision Trees.\n",
        "Boosting: AdaBoost, Gradient Boosting, XGBoost, LightGBM, CatBoost.\n",
        "7. Overfitting Tendency\n",
        "Bagging: Reduces variance and helps prevent overfitting.\n",
        "Boosting: May lead to overfitting if not properly tuned.\n",
        "8. Performance\n",
        "Bagging: Works well with high-variance models like decision trees.\n",
        "Boosting: Works well with weak learners and improves their predictive power.\n",
        "9. Complexity\n",
        "Bagging: Less complex as models are trained independently.\n",
        "Boosting: More complex due to sequential dependencies.\n",
        "10. Use Case\n",
        "Bagging: Best for reducing variance and improving stability in high-variance models.\n",
        "Boosting: Best for improving accuracy and reducing bias in weak learners."
      ],
      "metadata": {
        "id": "6If-Xo8wqgIi"
      }
    },
    {
      "cell_type": "code",
      "source": [
        "#Practical\n",
        "#21.Train a Bagging Classifier using Decision Trees on a sample dataset and print model accuracy?\n",
        "\n",
        "from sklearn.ensemble import BaggingClassifier\n",
        "from sklearn.tree import DecisionTreeClassifier\n",
        "from sklearn.datasets import make_classification\n",
        "from sklearn.model_selection import train_test_split\n",
        "from sklearn.metrics import accuracy_score\n",
        "\n",
        "# Generate a sample dataset\n",
        "X, y = make_classification(n_samples=1000, n_features=20, random_state=42)\n",
        "\n",
        "# Split into training and testing sets\n",
        "X_train, X_test, y_train, y_test = train_test_split(X, y, test_size=0.2, random_state=42)\n",
        "\n",
        "# Create a Bagging Classifier with Decision Trees\n",
        "bagging_clf = BaggingClassifier(estimator=DecisionTreeClassifier(), n_estimators=50, random_state=42)\n",
        "\n",
        "# Train the model\n",
        "bagging_clf.fit(X_train, y_train)\n",
        "\n",
        "# Make predictions\n",
        "y_pred = bagging_clf.predict(X_test)\n",
        "\n",
        "# Calculate and print accuracy\n",
        "accuracy = accuracy_score(y_test, y_pred)\n",
        "print(f'Model Accuracy: {accuracy:.2f}')"
      ],
      "metadata": {
        "colab": {
          "base_uri": "https://localhost:8080/"
        },
        "id": "PFTRE5xSquiz",
        "outputId": "49d33e37-656f-45e0-bc19-98fe5fc25f6a"
      },
      "execution_count": 3,
      "outputs": [
        {
          "output_type": "stream",
          "name": "stdout",
          "text": [
            "Model Accuracy: 0.89\n"
          ]
        }
      ]
    },
    {
      "cell_type": "code",
      "source": [
        "#22.Train a Bagging Regressor using Decision Trees and evaluate using Mean Squared Error (MSE)?\n",
        "\n",
        "from sklearn.ensemble import BaggingRegressor\n",
        "from sklearn.tree import DecisionTreeRegressor\n",
        "from sklearn.metrics import mean_squared_error\n",
        "from sklearn.model_selection import train_test_split\n",
        "from sklearn.datasets import make_regression\n",
        "\n",
        "# Generate synthetic regression data\n",
        "X, y = make_regression(n_samples=1000, n_features=10, noise=0.1, random_state=42)\n",
        "\n",
        "# Split data into training and testing sets\n",
        "X_train, X_test, y_train, y_test = train_test_split(X, y, test_size=0.2, random_state=42)\n",
        "\n",
        "# Initialize the base model (Decision Tree Regressor)\n",
        "base_regressor = DecisionTreeRegressor()\n",
        "\n",
        "# Initialize Bagging Regressor with Decision Trees\n",
        "bagging_regressor = BaggingRegressor(estimator=base_regressor, n_estimators=50, random_state=42)\n",
        "\n",
        "# Train the model\n",
        "bagging_regressor.fit(X_train, y_train)\n",
        "\n",
        "# Predict on test data\n",
        "y_pred = bagging_regressor.predict(X_test)\n",
        "\n",
        "# Evaluate using Mean Squared Error (MSE)\n",
        "mse = mean_squared_error(y_test, y_pred)\n",
        "print(f\"Mean Squared Error (MSE): {mse}\")"
      ],
      "metadata": {
        "colab": {
          "base_uri": "https://localhost:8080/"
        },
        "id": "emHvursDr4AJ",
        "outputId": "f19d7813-34ef-412e-bf38-6b8c4ce66c8c"
      },
      "execution_count": 5,
      "outputs": [
        {
          "output_type": "stream",
          "name": "stdout",
          "text": [
            "Mean Squared Error (MSE): 2664.080927647363\n"
          ]
        }
      ]
    },
    {
      "cell_type": "code",
      "source": [
        " #23.Train a Random Forest Classifier on the Breast Cancer dataset and print feature importance scores?\n",
        "\n",
        "from sklearn.datasets import load_breast_cancer\n",
        "from sklearn.model_selection import train_test_split\n",
        "from sklearn.ensemble import RandomForestClassifier\n",
        "import pandas as pd\n",
        "\n",
        "# Load dataset\n",
        "data = load_breast_cancer()\n",
        "X = data.data\n",
        "y = data.target\n",
        "\n",
        "# Split data into training and testing sets\n",
        "X_train, X_test, y_train, y_test = train_test_split(X, y, test_size=0.2, random_state=42)\n",
        "\n",
        "# Initialize and train Random Forest Classifier\n",
        "clf = RandomForestClassifier(n_estimators=100, random_state=42)\n",
        "clf.fit(X_train, y_train)\n",
        "\n",
        "# Get feature importance scores\n",
        "feature_importances = clf.feature_importances_\n",
        "\n",
        "# Create DataFrame for better visualization\n",
        "feature_importance_df = pd.DataFrame({'Feature': data.feature_names, 'Importance': feature_importances})\n",
        "feature_importance_df = feature_importance_df.sort_values(by='Importance', ascending=False)\n",
        "\n",
        "# Print feature importance scores\n",
        "print(feature_importance_df)\n"
      ],
      "metadata": {
        "colab": {
          "base_uri": "https://localhost:8080/"
        },
        "id": "46YlZ0TqsShy",
        "outputId": "31e402f5-4344-414f-dd55-f596541a6a35"
      },
      "execution_count": 6,
      "outputs": [
        {
          "output_type": "stream",
          "name": "stdout",
          "text": [
            "                    Feature  Importance\n",
            "23               worst area    0.153892\n",
            "27     worst concave points    0.144663\n",
            "7       mean concave points    0.106210\n",
            "20             worst radius    0.077987\n",
            "6            mean concavity    0.068001\n",
            "22          worst perimeter    0.067115\n",
            "2            mean perimeter    0.053270\n",
            "0               mean radius    0.048703\n",
            "3                 mean area    0.047555\n",
            "26          worst concavity    0.031802\n",
            "13               area error    0.022407\n",
            "21            worst texture    0.021749\n",
            "25        worst compactness    0.020266\n",
            "10             radius error    0.020139\n",
            "5          mean compactness    0.013944\n",
            "1              mean texture    0.013591\n",
            "12          perimeter error    0.011303\n",
            "24         worst smoothness    0.010644\n",
            "28           worst symmetry    0.010120\n",
            "16          concavity error    0.009386\n",
            "4           mean smoothness    0.007285\n",
            "19  fractal dimension error    0.005321\n",
            "15        compactness error    0.005253\n",
            "29  worst fractal dimension    0.005210\n",
            "11            texture error    0.004724\n",
            "14         smoothness error    0.004271\n",
            "18           symmetry error    0.004018\n",
            "9    mean fractal dimension    0.003886\n",
            "8             mean symmetry    0.003770\n",
            "17     concave points error    0.003513\n"
          ]
        }
      ]
    },
    {
      "cell_type": "code",
      "source": [
        "#24.Train a Random Forest Regressor and compare its performance with a single Decision Tree.\n",
        "import numpy as np\n",
        "import pandas as pd\n",
        "from sklearn.model_selection import train_test_split\n",
        "from sklearn.ensemble import RandomForestRegressor\n",
        "from sklearn.tree import DecisionTreeRegressor\n",
        "from sklearn.metrics import mean_squared_error, r2_score\n",
        "from sklearn.datasets import fetch_california_housing\n",
        "\n",
        "# Load dataset\n",
        "dataset = fetch_california_housing()\n",
        "X = dataset.data\n",
        "y = dataset.target\n",
        "\n",
        "# Split the data into training and testing sets\n",
        "X_train, X_test, y_train, y_test = train_test_split(X, y, test_size=0.2, random_state=42)\n",
        "\n",
        "# Train Decision Tree Regressor\n",
        "dt_regressor = DecisionTreeRegressor(random_state=42)\n",
        "dt_regressor.fit(X_train, y_train)\n",
        "\n",
        "# Train Random Forest Regressor\n",
        "rf_regressor = RandomForestRegressor(n_estimators=100, random_state=42)\n",
        "rf_regressor.fit(X_train, y_train)\n",
        "\n",
        "# Predictions\n",
        "y_pred_dt = dt_regressor.predict(X_test)\n",
        "y_pred_rf = rf_regressor.predict(X_test)\n",
        "\n",
        "# Evaluate performance\n",
        "dt_mse = mean_squared_error(y_test, y_pred_dt)\n",
        "dt_r2 = r2_score(y_test, y_pred_dt)\n",
        "\n",
        "rf_mse = mean_squared_error(y_test, y_pred_rf)\n",
        "rf_r2 = r2_score(y_test, y_pred_rf)\n",
        "\n",
        "# Print results\n",
        "print(\"Decision Tree Performance:\")\n",
        "print(f\"MSE: {dt_mse:.4f}\")\n",
        "print(f\"R² Score: {dt_r2:.4f}\")\n",
        "\n",
        "print(\"\\nRandom Forest Performance:\")\n",
        "print(f\"MSE: {rf_mse:.4f}\")\n",
        "print(f\"R² Score: {rf_r2:.4f}\")"
      ],
      "metadata": {
        "colab": {
          "base_uri": "https://localhost:8080/"
        },
        "id": "bFaZfv1YsbV3",
        "outputId": "b92c9788-e951-430a-a454-8d03b0f3f848"
      },
      "execution_count": 8,
      "outputs": [
        {
          "output_type": "stream",
          "name": "stdout",
          "text": [
            "Decision Tree Performance:\n",
            "MSE: 0.4952\n",
            "R² Score: 0.6221\n",
            "\n",
            "Random Forest Performance:\n",
            "MSE: 0.2554\n",
            "R² Score: 0.8051\n"
          ]
        }
      ]
    },
    {
      "cell_type": "code",
      "source": [
        " #25.Compute the Out-of-Bag (OOB) Score for a Random Forest Classifier.\n",
        "\n",
        " from sklearn.ensemble import RandomForestClassifier\n",
        "from sklearn.datasets import load_iris\n",
        "from sklearn.model_selection import train_test_split\n",
        "\n",
        "# Load dataset\n",
        "iris = load_iris()\n",
        "X, y = iris.data, iris.target\n",
        "\n",
        "# Split the data (optional, but here we use full data since OOB is independent of test split)\n",
        "X_train, X_test, y_train, y_test = train_test_split(X, y, test_size=0.2, random_state=42)\n",
        "\n",
        "# Initialize RandomForestClassifier with OOB enabled\n",
        "rf = RandomForestClassifier(n_estimators=100, oob_score=True, random_state=42, bootstrap=True)\n",
        "\n",
        "# Train the model\n",
        "rf.fit(X_train, y_train)\n",
        "\n",
        "# Get the OOB Score\n",
        "oob_score = rf.oob_score_\n",
        "print(f\"Out-of-Bag (OOB) Score: {oob_score}\")\n"
      ],
      "metadata": {
        "colab": {
          "base_uri": "https://localhost:8080/"
        },
        "id": "0d88wGIYsxnG",
        "outputId": "e5eec850-5a7c-4aab-f25d-6dcf78c4c325"
      },
      "execution_count": 9,
      "outputs": [
        {
          "output_type": "stream",
          "name": "stdout",
          "text": [
            "Out-of-Bag (OOB) Score: 0.9166666666666666\n"
          ]
        }
      ]
    },
    {
      "cell_type": "code",
      "source": [
        "#26.Train a Bagging Classifier using SVM as a base estimator and print accuracy.\n",
        "\n",
        "from sklearn.svm import SVC\n",
        "from sklearn.ensemble import BaggingClassifier\n",
        "from sklearn.datasets import load_iris\n",
        "from sklearn.model_selection import train_test_split\n",
        "from sklearn.metrics import accuracy_score\n",
        "\n",
        "# Load dataset\n",
        "data = load_iris()\n",
        "X, y = data.data, data.target\n",
        "\n",
        "# Split dataset into training and testing sets\n",
        "X_train, X_test, y_train, y_test = train_test_split(X, y, test_size=0.2, random_state=42)\n",
        "\n",
        "# Create a Bagging Classifier with SVM as the base estimator\n",
        "svm = SVC(probability=True)  # SVC requires probability=True for some ensemble methods\n",
        "bagging_clf = BaggingClassifier(estimator=svm, n_estimators=10, random_state=42)\n",
        "\n",
        "# Train the model\n",
        "bagging_clf.fit(X_train, y_train)\n",
        "\n",
        "# Make predictions\n",
        "y_pred = bagging_clf.predict(X_test)\n",
        "\n",
        "# Calculate and print accuracy\n",
        "accuracy = accuracy_score(y_test, y_pred)\n",
        "print(\"Accuracy:\", accuracy)"
      ],
      "metadata": {
        "colab": {
          "base_uri": "https://localhost:8080/"
        },
        "id": "LubK5JTvtn5E",
        "outputId": "d45473eb-f201-4229-8dfe-db5549c1d184"
      },
      "execution_count": 11,
      "outputs": [
        {
          "output_type": "stream",
          "name": "stdout",
          "text": [
            "Accuracy: 1.0\n"
          ]
        }
      ]
    },
    {
      "cell_type": "code",
      "source": [
        "#27.Train a Random Forest Classifier with different numbers of trees and compare accuracy.\n",
        "\n",
        "from sklearn.datasets import load_iris\n",
        "from sklearn.ensemble import RandomForestClassifier\n",
        "from sklearn.model_selection import train_test_split\n",
        "from sklearn.metrics import accuracy_score\n",
        "\n",
        "# Load dataset\n",
        "data = load_iris()\n",
        "X, y = data.data, data.target\n",
        "\n",
        "# Split data into training and testing sets\n",
        "X_train, X_test, y_train, y_test = train_test_split(X, y, test_size=0.2, random_state=42)\n",
        "\n",
        "# Different numbers of trees to test\n",
        "n_estimators_list = [10, 50, 100, 200]\n",
        "\n",
        "# Dictionary to store accuracy scores\n",
        "accuracy_scores = {}\n",
        "\n",
        "# Train and evaluate Random Forest Classifier for each n_estimators\n",
        "for n in n_estimators_list:\n",
        "    clf = RandomForestClassifier(n_estimators=n, random_state=42)\n",
        "    clf.fit(X_train, y_train)\n",
        "    y_pred = clf.predict(X_test)\n",
        "    accuracy = accuracy_score(y_test, y_pred)\n",
        "    accuracy_scores[n] = accuracy\n",
        "    print(f\"n_estimators: {n}, Accuracy: {accuracy:.4f}\")\n",
        "\n",
        "# Print final accuracy scores\n",
        "tupled_results = [(k, v) for k, v in accuracy_scores.items()]\n",
        "sorted_results = sorted(tupled_results, key=lambda x: x[1], reverse=True)\n",
        "print(\"\\nAccuracy scores sorted by performance:\")\n",
        "for n, acc in sorted_results:\n",
        "    print(f\"{n} trees: {acc:.4f}\")"
      ],
      "metadata": {
        "colab": {
          "base_uri": "https://localhost:8080/"
        },
        "id": "FuLQA_H-t1c9",
        "outputId": "ce4a3ff0-0b2f-4f78-cce3-97219eb0d543"
      },
      "execution_count": 12,
      "outputs": [
        {
          "output_type": "stream",
          "name": "stdout",
          "text": [
            "n_estimators: 10, Accuracy: 1.0000\n",
            "n_estimators: 50, Accuracy: 1.0000\n",
            "n_estimators: 100, Accuracy: 1.0000\n",
            "n_estimators: 200, Accuracy: 1.0000\n",
            "\n",
            "Accuracy scores sorted by performance:\n",
            "10 trees: 1.0000\n",
            "50 trees: 1.0000\n",
            "100 trees: 1.0000\n",
            "200 trees: 1.0000\n"
          ]
        }
      ]
    },
    {
      "cell_type": "code",
      "source": [
        "#28.Train a Bagging Classifier using Logistic Regression as a base estimator and print AUC score.\n",
        "\n",
        "from sklearn.ensemble import BaggingClassifier\n",
        "from sklearn.linear_model import LogisticRegression\n",
        "from sklearn.metrics import roc_auc_score\n",
        "from sklearn.model_selection import train_test_split\n",
        "from sklearn.datasets import make_classification\n",
        "\n",
        "# Generate synthetic dataset\n",
        "X, y = make_classification(n_samples=1000, n_features=20, random_state=42)\n",
        "X_train, X_test, y_train, y_test = train_test_split(X, y, test_size=0.2, random_state=42)\n",
        "\n",
        "# Define base estimator\n",
        "base_estimator = LogisticRegression()\n",
        "\n",
        "# Train Bagging Classifier\n",
        "bagging_clf = BaggingClassifier(estimator=base_estimator, n_estimators=50, random_state=42)\n",
        "bagging_clf.fit(X_train, y_train)\n",
        "\n",
        "# Predict probabilities for AUC calculation\n",
        "y_probs = bagging_clf.predict_proba(X_test)[:, 1]\n",
        "\n",
        "# Calculate and print AUC score\n",
        "auc_score = roc_auc_score(y_test, y_probs)\n",
        "print(\"AUC Score:\", auc_score)"
      ],
      "metadata": {
        "colab": {
          "base_uri": "https://localhost:8080/"
        },
        "id": "Ot5WLBEwuGsr",
        "outputId": "574eb91e-f61d-4cf4-94b6-146756b80856"
      },
      "execution_count": 14,
      "outputs": [
        {
          "output_type": "stream",
          "name": "stdout",
          "text": [
            "AUC Score: 0.9219173952366597\n"
          ]
        }
      ]
    },
    {
      "cell_type": "code",
      "source": [
        "#29.Train a Random Forest Regressor and analyze feature importance scores.\n",
        "\n",
        "import numpy as np\n",
        "import pandas as pd\n",
        "from sklearn.model_selection import train_test_split\n",
        "from sklearn.ensemble import RandomForestRegressor\n",
        "from sklearn.metrics import mean_squared_error\n",
        "import matplotlib.pyplot as plt\n",
        "\n",
        "# Generate synthetic dataset\n",
        "np.random.seed(42)\n",
        "X = np.random.rand(100, 5)  # 100 samples, 5 features\n",
        "y = X[:, 0] * 3 + X[:, 1] * 2 + np.random.randn(100) * 0.5  # Linear relation with noise\n",
        "\n",
        "# Convert to DataFrame\n",
        "df = pd.DataFrame(X, columns=[f'Feature_{i}' for i in range(1, 6)])\n",
        "df['Target'] = y\n",
        "\n",
        "# Split data\n",
        "X_train, X_test, y_train, y_test = train_test_split(df.drop(columns=['Target']), df['Target'], test_size=0.2, random_state=42)\n",
        "\n",
        "# Train Random Forest Regressor\n",
        "rf = RandomForestRegressor(n_estimators=100, random_state=42)\n",
        "rf.fit(X_train, y_train)\n",
        "\n",
        "# Predict and evaluate\n",
        "y_pred = rf.predict(X_test)\n",
        "mse = mean_squared_error(y_test, y_pred)\n",
        "print(f\"Mean Squared Error: {mse:.4f}\")\n",
        "\n",
        "# Feature Importance Analysis\n",
        "feature_importances = rf.feature_importances_\n",
        "feature_names = X_train.columns\n",
        "\n",
        "# Plot Feature Importance\n",
        "plt.figure(figsize=(8, 5))\n",
        "plt.barh(feature_names, feature_importances, color='skyblue')\n",
        "plt.xlabel(\"Feature Importance Score\")\n",
        "plt.ylabel(\"Features\")\n",
        "plt.title(\"Feature Importance in Random Forest Regressor\")\n",
        "plt.show()\n",
        "\n",
        "# Print feature importance scores\n",
        "importance_df = pd.DataFrame({'Feature': feature_names, 'Importance': feature_importances})\n",
        "importance_df = importance_df.sort_values(by='Importance', ascending=False)\n",
        "print(importance_df)\n"
      ],
      "metadata": {
        "colab": {
          "base_uri": "https://localhost:8080/",
          "height": 608
        },
        "id": "BacALbRWuZYv",
        "outputId": "5ea8bae4-1ab2-40a6-8c83-0d9f3ee31050"
      },
      "execution_count": 15,
      "outputs": [
        {
          "output_type": "stream",
          "name": "stdout",
          "text": [
            "Mean Squared Error: 0.2764\n"
          ]
        },
        {
          "output_type": "display_data",
          "data": {
            "text/plain": [
              "<Figure size 800x500 with 1 Axes>"
            ],
            "image/png": "[encoded data removed]"
          },
          "metadata": {}
        },
        {
          "output_type": "stream",
          "name": "stdout",
          "text": [
            "     Feature  Importance\n",
            "0  Feature_1    0.599433\n",
            "1  Feature_2    0.264483\n",
            "4  Feature_5    0.057796\n",
            "3  Feature_4    0.040955\n",
            "2  Feature_3    0.037334\n"
          ]
        }
      ]
    },
    {
      "cell_type": "code",
      "source": [
        "#30.Train an ensemble model using both Bagging and Random Forest and compare accuracy.\n",
        "\n",
        "from sklearn.datasets import load_iris\n",
        "from sklearn.model_selection import train_test_split\n",
        "from sklearn.ensemble import BaggingClassifier, RandomForestClassifier\n",
        "from sklearn.tree import DecisionTreeClassifier\n",
        "from sklearn.metrics import accuracy_score\n",
        "\n",
        "# Load dataset\n",
        "data = load_iris()\n",
        "X, y = data.data, data.target\n",
        "\n",
        "# Split data into training and testing sets\n",
        "X_train, X_test, y_train, y_test = train_test_split(X, y, test_size=0.2, random_state=42)\n",
        "\n",
        "# Train a Bagging Classifier\n",
        "bagging_clf = BaggingClassifier(estimator=DecisionTreeClassifier(), n_estimators=50, random_state=42)\n",
        "bagging_clf.fit(X_train, y_train)\n",
        "\n",
        "# Train a Random Forest Classifier\n",
        "rf_clf = RandomForestClassifier(n_estimators=50, random_state=42)\n",
        "rf_clf.fit(X_train, y_train)\n",
        "\n",
        "# Make predictions\n",
        "bagging_preds = bagging_clf.predict(X_test)\n",
        "rf_preds = rf_clf.predict(X_test)\n",
        "\n",
        "# Evaluate accuracy\n",
        "bagging_accuracy = accuracy_score(y_test, bagging_preds)\n",
        "rf_accuracy = accuracy_score(y_test, rf_preds)\n",
        "\n",
        "print(f'Bagging Classifier Accuracy: {bagging_accuracy:.4f}')\n",
        "print(f'Random Forest Classifier Accuracy: {rf_accuracy:.4f}')\n"
      ],
      "metadata": {
        "colab": {
          "base_uri": "https://localhost:8080/"
        },
        "id": "v_5jYHYHuow3",
        "outputId": "8380650e-8aad-43d6-836e-afe6ce63cf01"
      },
      "execution_count": 17,
      "outputs": [
        {
          "output_type": "stream",
          "name": "stdout",
          "text": [
            "Bagging Classifier Accuracy: 1.0000\n",
            "Random Forest Classifier Accuracy: 1.0000\n"
          ]
        }
      ]
    },
    {
      "cell_type": "code",
      "source": [
        "#31.Train a Random Forest Classifier and tune hyperparameters using GridSearchCV.\n",
        "\n",
        "import numpy as np\n",
        "import pandas as pd\n",
        "from sklearn.model_selection import train_test_split, GridSearchCV\n",
        "from sklearn.ensemble import RandomForestClassifier\n",
        "from sklearn.metrics import accuracy_score, classification_report\n",
        "\n",
        "# Load dataset (Example: Iris dataset)\n",
        "from sklearn.datasets import load_iris\n",
        "data = load_iris()\n",
        "X, y = data.data, data.target\n",
        "\n",
        "# Split dataset into training and testing sets\n",
        "X_train, X_test, y_train, y_test = train_test_split(X, y, test_size=0.2, random_state=42)\n",
        "\n",
        "# Define Random Forest model\n",
        "rf = RandomForestClassifier(random_state=42)\n",
        "\n",
        "# Define hyperparameter grid\n",
        "param_grid = {\n",
        "    'n_estimators': [50, 100, 200],\n",
        "    'max_depth': [None, 10, 20],\n",
        "    'min_samples_split': [2, 5, 10],\n",
        "    'min_samples_leaf': [1, 2, 4]\n",
        "}\n",
        "\n",
        "# Perform Grid Search with Cross Validation\n",
        "grid_search = GridSearchCV(estimator=rf, param_grid=param_grid,\n",
        "                           cv=5, n_jobs=-1, scoring='accuracy', verbose=2)\n",
        "\n",
        "# Train model with best parameters\n",
        "grid_search.fit(X_train, y_train)\n",
        "\n",
        "# Get the best model and hyperparameters\n",
        "best_rf = grid_search.best_estimator_\n",
        "print(\"Best Hyperparameters:\", grid_search.best_params_)\n",
        "\n",
        "# Evaluate on the test set\n",
        "y_pred = best_rf.predict(X_test)\n",
        "accuracy = accuracy_score(y_test, y_pred)\n",
        "print(f\"Test Accuracy: {accuracy:.4f}\")\n",
        "print(\"Classification Report:\\n\", classification_report(y_test, y_pred))\n"
      ],
      "metadata": {
        "colab": {
          "base_uri": "https://localhost:8080/"
        },
        "id": "2FRW6mqeu-NA",
        "outputId": "c2a8b131-3ce7-4497-d7b5-38c6a443f96f"
      },
      "execution_count": 18,
      "outputs": [
        {
          "output_type": "stream",
          "name": "stdout",
          "text": [
            "Fitting 5 folds for each of 81 candidates, totalling 405 fits\n",
            "Best Hyperparameters: {'max_depth': None, 'min_samples_leaf': 2, 'min_samples_split': 2, 'n_estimators': 200}\n",
            "Test Accuracy: 1.0000\n",
            "Classification Report:\n",
            "               precision    recall  f1-score   support\n",
            "\n",
            "           0       1.00      1.00      1.00        10\n",
            "           1       1.00      1.00      1.00         9\n",
            "           2       1.00      1.00      1.00        11\n",
            "\n",
            "    accuracy                           1.00        30\n",
            "   macro avg       1.00      1.00      1.00        30\n",
            "weighted avg       1.00      1.00      1.00        30\n",
            "\n"
          ]
        }
      ]
    },
    {
      "cell_type": "code",
      "source": [
        "#32.Train a Bagging Regressor with different numbers of base estimators and compare performance.\n",
        "\n",
        "import numpy as np\n",
        "import matplotlib.pyplot as plt\n",
        "from sklearn.model_selection import train_test_split\n",
        "from sklearn.ensemble import BaggingRegressor\n",
        "from sklearn.tree import DecisionTreeRegressor\n",
        "from sklearn.metrics import mean_squared_error\n",
        "from sklearn.datasets import make_regression\n",
        "\n",
        "# Generate synthetic regression data\n",
        "X, y = make_regression(n_samples=1000, n_features=1, noise=0.1, random_state=42)\n",
        "X_train, X_test, y_train, y_test = train_test_split(X, y, test_size=0.2, random_state=42)\n",
        "\n",
        "# Different numbers of base estimators to test\n",
        "n_estimators_list = [1, 5, 10, 20, 50, 100]\n",
        "mse_scores = []\n",
        "\n",
        "for n_estimators in n_estimators_list:\n",
        "    # Create and train the Bagging Regressor\n",
        "    model = BaggingRegressor(estimator=DecisionTreeRegressor(),\n",
        "                             n_estimators=n_estimators,\n",
        "                             random_state=42)\n",
        "    model.fit(X_train, y_train)\n",
        "\n",
        "    # Predict and evaluate\n",
        "    y_pred = model.predict(X_test)\n",
        "    mse = mean_squared_error(y_test, y_pred)\n",
        "    mse_scores.append(mse)\n",
        "    print(f\"n_estimators: {n_estimators}, MSE: {mse:.4f}\")\n",
        "\n",
        "# Plot results\n",
        "plt.figure(figsize=(8, 5))\n",
        "plt.plot(n_estimators_list, mse_scores, marker='o', linestyle='-')\n",
        "plt.xlabel('Number of Base Estimators')\n",
        "plt.ylabel('Mean Squared Error')\n",
        "plt.title('Bagging Regressor Performance')\n",
        "plt.grid(True)\n",
        "plt.show()"
      ],
      "metadata": {
        "colab": {
          "base_uri": "https://localhost:8080/",
          "height": 591
        },
        "id": "2uDVwdfnvPy_",
        "outputId": "c696ac59-00f3-4ba4-dccd-d52dd4511274"
      },
      "execution_count": 20,
      "outputs": [
        {
          "output_type": "stream",
          "name": "stdout",
          "text": [
            "n_estimators: 1, MSE: 0.6381\n",
            "n_estimators: 5, MSE: 0.7696\n",
            "n_estimators: 10, MSE: 0.7367\n",
            "n_estimators: 20, MSE: 0.7245\n",
            "n_estimators: 50, MSE: 0.7133\n",
            "n_estimators: 100, MSE: 0.7089\n"
          ]
        },
        {
          "output_type": "display_data",
          "data": {
            "text/plain": [
              "<Figure size 800x500 with 1 Axes>"
            ],
            "image/png": "[encoded data removed]"
          },
          "metadata": {}
        }
      ]
    },
    {
      "cell_type": "code",
      "source": [
        "#33.Train a Random Forest Classifier and analyze misclassified samples.\n",
        "\n",
        "import numpy as np\n",
        "import pandas as pd\n",
        "from sklearn.model_selection import train_test_split\n",
        "from sklearn.ensemble import RandomForestClassifier\n",
        "from sklearn.metrics import accuracy_score, classification_report\n",
        "\n",
        "# Generate synthetic data (replace with actual dataset)\n",
        "from sklearn.datasets import make_classification\n",
        "data, labels = make_classification(n_samples=1000, n_features=10, random_state=42)\n",
        "\n",
        "df = pd.DataFrame(data, columns=[f'Feature_{i}' for i in range(10)])\n",
        "df['Label'] = labels\n",
        "\n",
        "# Split the dataset\n",
        "X_train, X_test, y_train, y_test = train_test_split(df.drop(columns=['Label']), df['Label'], test_size=0.2, random_state=42)\n",
        "\n",
        "# Train Random Forest Classifier\n",
        "clf = RandomForestClassifier(n_estimators=100, random_state=42)\n",
        "clf.fit(X_train, y_train)\n",
        "\n",
        "# Make predictions\n",
        "y_pred = clf.predict(X_test)\n",
        "\n",
        "# Evaluate model\n",
        "accuracy = accuracy_score(y_test, y_pred)\n",
        "print(f'Accuracy: {accuracy:.4f}')\n",
        "print(classification_report(y_test, y_pred))\n",
        "\n",
        "# Identify misclassified samples\n",
        "misclassified_indices = np.where(y_test != y_pred)[0]\n",
        "misclassified_samples = X_test.iloc[misclassified_indices]\n",
        "misclassified_labels = y_test.iloc[misclassified_indices]\n",
        "predicted_labels = y_pred[misclassified_indices]\n",
        "\n",
        "# Display misclassified samples\n",
        "df_misclassified = pd.DataFrame(misclassified_samples)\n",
        "df_misclassified['True_Label'] = misclassified_labels.values\n",
        "df_misclassified['Predicted_Label'] = predicted_labels\n",
        "\n",
        "print(\"Misclassified Samples:\")\n",
        "print(df_misclassified)\n"
      ],
      "metadata": {
        "colab": {
          "base_uri": "https://localhost:8080/"
        },
        "id": "WIWuz4nIvq4j",
        "outputId": "9438c728-9fc1-4b38-e4ba-c6a385b2491e"
      },
      "execution_count": 21,
      "outputs": [
        {
          "output_type": "stream",
          "name": "stdout",
          "text": [
            "Accuracy: 0.8800\n",
            "              precision    recall  f1-score   support\n",
            "\n",
            "           0       0.84      0.90      0.87        89\n",
            "           1       0.91      0.86      0.89       111\n",
            "\n",
            "    accuracy                           0.88       200\n",
            "   macro avg       0.88      0.88      0.88       200\n",
            "weighted avg       0.88      0.88      0.88       200\n",
            "\n",
            "Misclassified Samples:\n",
            "     Feature_0  Feature_1  Feature_2  Feature_3  Feature_4  Feature_5  \\\n",
            "938   0.530510  -0.970124   0.522076  -0.397558   1.036088  -1.422975   \n",
            "527   0.660862  -1.059212   0.528613  -0.500261  -0.602624   0.001783   \n",
            "101   0.632024   0.290897   0.645951  -1.995532  -0.059826   0.493560   \n",
            "902  -0.049411   0.341216  -0.031614   1.500275  -0.363132   0.854402   \n",
            "370   0.350605   0.982683   0.532871  -1.400071   0.003148   1.229990   \n",
            "312   0.185159  -1.111458   0.063819   0.246505   1.281644   0.557691   \n",
            "30    0.424191   0.588077   0.329141   0.962345  -0.022436  -0.057951   \n",
            "54    0.424709  -0.582061   0.339269   0.399044  -0.592465   0.327072   \n",
            "662   0.833323  -2.219778   0.643959  -1.399682   1.191091  -0.146854   \n",
            "652   1.603179   0.782874   1.395324  -0.431126   0.258661   0.212740   \n",
            "679   0.418488  -0.863980   0.362617  -0.126533  -2.350456   1.672868   \n",
            "522  -0.137225  -1.026369  -0.347946   1.230001   0.706079  -0.242681   \n",
            "218   0.032335   0.022466  -0.097076   0.547119  -0.019260  -0.262891   \n",
            "528  -0.040312  -0.478837  -0.243765  -0.862776  -2.153343   1.097153   \n",
            "184   0.798150   0.873990   0.607442   0.078439  -0.147140  -0.656624   \n",
            "294   0.704001   0.949595   0.796509  -0.059415  -0.087435   0.548320   \n",
            "529   0.367694  -2.077812   0.178193  -0.320298  -2.065083   0.028458   \n",
            "55   -0.070727  -0.061764  -0.261285   0.479442  -0.256180  -0.241497   \n",
            "44    0.068986  -0.658116  -0.058462  -0.303726   0.825098  -0.867130   \n",
            "298   0.211607  -0.596974   0.297061  -2.390304   0.379153   1.230222   \n",
            "314   0.380451   1.748137   0.708075   1.040062   0.082833  -0.728172   \n",
            "361  -0.175619  -1.130204  -0.351105   2.411677  -0.122709   0.093372   \n",
            "845   0.034013  -0.407036  -0.191593   0.686318   0.014273  -0.953939   \n",
            "656   1.194306   0.995582   0.892443   1.703173  -0.181449  -0.106337   \n",
            "\n",
            "     Feature_6  Feature_7  Feature_8  Feature_9  True_Label  Predicted_Label  \n",
            "938  -0.825755   0.379768  -0.412382   1.237654           1                0  \n",
            "527  -0.656827   2.124556  -0.911480  -0.516117           1                0  \n",
            "101  -1.056985   0.929410  -0.412960  -1.121244           1                0  \n",
            "902   0.024953   1.025632   0.093990   0.074510           0                1  \n",
            "370  -1.119419  -0.205628   0.341192   0.587262           1                0  \n",
            "312   0.073398   1.140149  -0.530769   0.498222           0                1  \n",
            "30   -0.390563   1.073622  -0.618260   0.945888           1                0  \n",
            "54   -0.420747  -0.238753  -0.587236  -1.320077           1                0  \n",
            "662  -0.759203  -1.163043  -1.223194  -0.249370           1                0  \n",
            "652  -1.938410   0.550798  -1.842058   0.408053           1                0  \n",
            "679  -0.501068   0.695165  -0.486115  -0.910324           1                0  \n",
            "522   0.863835   1.628469  -0.588950  -0.964705           0                1  \n",
            "218   0.343341   1.114322  -0.446280  -1.180813           0                1  \n",
            "528   0.686084  -0.392013  -0.635501   0.693479           0                1  \n",
            "184  -0.698644  -0.834271  -1.202069   0.182994           1                0  \n",
            "294  -1.412515   0.224235  -0.208423   1.855503           1                0  \n",
            "529  -0.011411   0.360648  -0.885881   1.643378           1                0  \n",
            "55    0.695519  -0.649765  -0.571308   0.874517           0                1  \n",
            "44    0.278521  -0.819258  -0.466456  -1.345871           0                1  \n",
            "298  -0.600638   0.913474   0.125709  -0.412221           1                0  \n",
            "314  -1.611273  -1.334611   0.794473  -0.739771           1                0  \n",
            "361   0.817847   0.602118  -0.445974   1.516394           0                1  \n",
            "845   0.634444   0.584413  -0.761795   0.105894           0                1  \n",
            "656  -0.995021  -1.786375  -1.852615  -1.638029           1                0  \n"
          ]
        }
      ]
    },
    {
      "cell_type": "code",
      "source": [
        "#34.Train a Bagging Classifier and compare its performance with a single Decision Tree Classifier.\n",
        "\n",
        "import numpy as np\n",
        "import matplotlib.pyplot as plt\n",
        "from sklearn.model_selection import train_test_split\n",
        "from sklearn.datasets import make_classification\n",
        "from sklearn.tree import DecisionTreeClassifier\n",
        "from sklearn.ensemble import BaggingClassifier\n",
        "from sklearn.metrics import accuracy_score, classification_report\n",
        "\n",
        "# Generate synthetic dataset\n",
        "X, y = make_classification(n_samples=1000, n_features=20, random_state=42)\n",
        "X_train, X_test, y_train, y_test = train_test_split(X, y, test_size=0.2, random_state=42)\n",
        "\n",
        "# Train a single Decision Tree Classifier\n",
        "dt = DecisionTreeClassifier(random_state=42)\n",
        "dt.fit(X_train, y_train)\n",
        "y_pred_dt = dt.predict(X_test)\n",
        "\n",
        "# Train a Bagging Classifier with Decision Trees\n",
        "bagging = BaggingClassifier(estimator=DecisionTreeClassifier(), n_estimators=50, random_state=42)\n",
        "bagging.fit(X_train, y_train)\n",
        "y_pred_bagging = bagging.predict(X_test)\n",
        "\n",
        "# Evaluate performance\n",
        "print(\"Decision Tree Accuracy:\", accuracy_score(y_test, y_pred_dt))\n",
        "print(\"Decision Tree Classification Report:\\n\", classification_report(y_test, y_pred_dt))\n",
        "\n",
        "print(\"Bagging Classifier Accuracy:\", accuracy_score(y_test, y_pred_bagging))\n",
        "print(\"Bagging Classifier Classification Report:\\n\", classification_report(y_test, y_pred_bagging))\n",
        "\n",
        "# Visualizing feature importance for Decision Tree\n",
        "feature_importances = dt.feature_importances_\n",
        "plt.bar(range(len(feature_importances)), feature_importances)\n",
        "plt.xlabel(\"Feature Index\")\n",
        "plt.ylabel(\"Importance\")\n",
        "plt.title(\"Feature Importance in Decision Tree\")\n",
        "plt.show()\n"
      ],
      "metadata": {
        "colab": {
          "base_uri": "https://localhost:8080/",
          "height": 854
        },
        "id": "OMb6b5Dlv2Gp",
        "outputId": "0d1f9b62-4b7c-4b72-dac4-9f7075d2c671"
      },
      "execution_count": 23,
      "outputs": [
        {
          "output_type": "stream",
          "name": "stdout",
          "text": [
            "Decision Tree Accuracy: 0.875\n",
            "Decision Tree Classification Report:\n",
            "               precision    recall  f1-score   support\n",
            "\n",
            "           0       0.83      0.92      0.87        93\n",
            "           1       0.93      0.83      0.88       107\n",
            "\n",
            "    accuracy                           0.88       200\n",
            "   macro avg       0.88      0.88      0.87       200\n",
            "weighted avg       0.88      0.88      0.88       200\n",
            "\n",
            "Bagging Classifier Accuracy: 0.885\n",
            "Bagging Classifier Classification Report:\n",
            "               precision    recall  f1-score   support\n",
            "\n",
            "           0       0.83      0.95      0.88        93\n",
            "           1       0.95      0.83      0.89       107\n",
            "\n",
            "    accuracy                           0.89       200\n",
            "   macro avg       0.89      0.89      0.88       200\n",
            "weighted avg       0.89      0.89      0.89       200\n",
            "\n"
          ]
        },
        {
          "output_type": "display_data",
          "data": {
            "text/plain": [
              "<Figure size 640x480 with 1 Axes>"
            ],
            "image/png": "[encoded data removed]"
          },
          "metadata": {}
        }
      ]
    },
    {
      "cell_type": "code",
      "source": [
        "#35.Train a Random Forest Classifier and visualize the confusion matrix.\n",
        "\n",
        "import numpy as np\n",
        "import matplotlib.pyplot as plt\n",
        "import seaborn as sns\n",
        "from sklearn.model_selection import train_test_split\n",
        "from sklearn.ensemble import RandomForestClassifier\n",
        "from sklearn.metrics import confusion_matrix, accuracy_score\n",
        "from sklearn.datasets import load_iris\n",
        "\n",
        "# Load dataset\n",
        "data = load_iris()\n",
        "X, y = data.data, data.target\n",
        "\n",
        "# Split data into training and testing sets\n",
        "X_train, X_test, y_train, y_test = train_test_split(X, y, test_size=0.2, random_state=42)\n",
        "\n",
        "# Train Random Forest Classifier\n",
        "clf = RandomForestClassifier(n_estimators=100, random_state=42)\n",
        "clf.fit(X_train, y_train)\n",
        "\n",
        "# Predict on test set\n",
        "y_pred = clf.predict(X_test)\n",
        "\n",
        "# Compute confusion matrix\n",
        "cm = confusion_matrix(y_test, y_pred)\n",
        "\n",
        "# Plot confusion matrix\n",
        "plt.figure(figsize=(6,5))\n",
        "sns.heatmap(cm, annot=True, fmt='d', cmap='Blues', xticklabels=data.target_names, yticklabels=data.target_names)\n",
        "plt.xlabel('Predicted')\n",
        "plt.ylabel('Actual')\n",
        "plt.title('Confusion Matrix - Random Forest')\n",
        "plt.show()\n",
        "\n",
        "# Print accuracy\n",
        "accuracy = accuracy_score(y_test, y_pred)\n",
        "print(f'Accuracy: {accuracy:.2f}')\n"
      ],
      "metadata": {
        "colab": {
          "base_uri": "https://localhost:8080/",
          "height": 504
        },
        "id": "qyLPamXlwJkz",
        "outputId": "1458408e-1ae8-46b6-9ddb-c3b8c546bd89"
      },
      "execution_count": 24,
      "outputs": [
        {
          "output_type": "display_data",
          "data": {
            "text/plain": [
              "<Figure size 600x500 with 2 Axes>"
            ],
            "image/png": "[encoded data removed]"
          },
          "metadata": {}
        },
        {
          "output_type": "stream",
          "name": "stdout",
          "text": [
            "Accuracy: 1.00\n"
          ]
        }
      ]
    },
    {
      "cell_type": "code",
      "source": [
        "#36.Train a Stacking Classifier using Decision Trees, SVM, and Logistic Regression, and compare accuracy.\n",
        "\n",
        "import numpy as np\n",
        "import pandas as pd\n",
        "from sklearn.model_selection import train_test_split\n",
        "from sklearn.ensemble import StackingClassifier\n",
        "from sklearn.tree import DecisionTreeClassifier\n",
        "from sklearn.svm import SVC\n",
        "from sklearn.linear_model import LogisticRegression\n",
        "from sklearn.metrics import accuracy_score\n",
        "from sklearn.datasets import load_iris\n",
        "\n",
        "# Load dataset\n",
        "data = load_iris()\n",
        "X, y = data.data, data.target\n",
        "\n",
        "# Split dataset\n",
        "X_train, X_test, y_train, y_test = train_test_split(X, y, test_size=0.2, random_state=42)\n",
        "\n",
        "# Define base models\n",
        "base_models = [\n",
        "    ('dt', DecisionTreeClassifier()),\n",
        "    ('svm', SVC(probability=True))\n",
        "]\n",
        "\n",
        "# Define meta-model\n",
        "meta_model = LogisticRegression()\n",
        "\n",
        "# Create Stacking Classifier\n",
        "stacking_clf = StackingClassifier(estimators=base_models, final_estimator=meta_model)\n",
        "\n",
        "# Train models\n",
        "models = {\n",
        "    'Decision Tree': DecisionTreeClassifier(),\n",
        "    'SVM': SVC(),\n",
        "    'Stacking Classifier': stacking_clf\n",
        "}\n",
        "\n",
        "for name, model in models.items():\n",
        "    model.fit(X_train, y_train)\n",
        "    y_pred = model.predict(X_test)\n",
        "    accuracy = accuracy_score(y_test, y_pred)\n",
        "    print(f'{name} Accuracy: {accuracy:.4f}')\n"
      ],
      "metadata": {
        "colab": {
          "base_uri": "https://localhost:8080/"
        },
        "id": "b85cYJZkwVE1",
        "outputId": "ff9a49f7-d1f1-44c7-a179-9f81aa466c02"
      },
      "execution_count": 25,
      "outputs": [
        {
          "output_type": "stream",
          "name": "stdout",
          "text": [
            "Decision Tree Accuracy: 1.0000\n",
            "SVM Accuracy: 1.0000\n",
            "Stacking Classifier Accuracy: 1.0000\n"
          ]
        }
      ]
    },
    {
      "cell_type": "code",
      "source": [
        " #37.Train a Random Forest Classifier and print the top 5 most important features.\n",
        "\n",
        " import pandas as pd\n",
        "import numpy as np\n",
        "from sklearn.model_selection import train_test_split\n",
        "from sklearn.ensemble import RandomForestClassifier\n",
        "from sklearn.datasets import load_iris\n",
        "\n",
        "# Load dataset (using Iris dataset as an example)\n",
        "data = load_iris()\n",
        "df = pd.DataFrame(data.data, columns=data.feature_names)\n",
        "X = df\n",
        "y = data.target\n",
        "\n",
        "# Split data into training and testing sets\n",
        "X_train, X_test, y_train, y_test = train_test_split(X, y, test_size=0.2, random_state=42)\n",
        "\n",
        "# Train a Random Forest Classifier\n",
        "rf = RandomForestClassifier(n_estimators=100, random_state=42)\n",
        "rf.fit(X_train, y_train)\n",
        "\n",
        "# Get feature importance\n",
        "feature_importances = rf.feature_importances_\n",
        "feature_names = np.array(data.feature_names)\n",
        "\n",
        "# Create a DataFrame to display feature importance\n",
        "importance_df = pd.DataFrame({'Feature': feature_names, 'Importance': feature_importances})\n",
        "importance_df = importance_df.sort_values(by='Importance', ascending=False)\n",
        "\n",
        "# Print the top 5 most important features\n",
        "print(\"Top 5 Important Features:\")\n",
        "print(importance_df.head(5))\n"
      ],
      "metadata": {
        "colab": {
          "base_uri": "https://localhost:8080/"
        },
        "id": "xu_orARjwfqv",
        "outputId": "0ce8d4f0-ba71-4dfb-b6f3-70f2237e1920"
      },
      "execution_count": 26,
      "outputs": [
        {
          "output_type": "stream",
          "name": "stdout",
          "text": [
            "Top 5 Important Features:\n",
            "             Feature  Importance\n",
            "2  petal length (cm)    0.439994\n",
            "3   petal width (cm)    0.421522\n",
            "0  sepal length (cm)    0.108098\n",
            "1   sepal width (cm)    0.030387\n"
          ]
        }
      ]
    },
    {
      "cell_type": "code",
      "source": [
        "#38.Train a Bagging Classifier and evaluate performance using Precision, Recall, and F1-score.\n",
        "\n",
        "from sklearn.ensemble import BaggingClassifier\n",
        "from sklearn.tree import DecisionTreeClassifier\n",
        "from sklearn.model_selection import train_test_split\n",
        "from sklearn.metrics import precision_score, recall_score, f1_score, accuracy_score\n",
        "from sklearn.datasets import load_iris\n",
        "\n",
        "# Load dataset\n",
        "iris = load_iris()\n",
        "X, y = iris.data, iris.target\n",
        "\n",
        "# Split dataset into training and testing sets\n",
        "X_train, X_test, y_train, y_test = train_test_split(X, y, test_size=0.2, random_state=42)\n",
        "\n",
        "# Initialize Bagging Classifier with Decision Tree base estimator\n",
        "bagging_clf = BaggingClassifier(estimator=DecisionTreeClassifier(), n_estimators=10, random_state=42)\n",
        "\n",
        "# Train the model\n",
        "bagging_clf.fit(X_train, y_train)\n",
        "\n",
        "# Make predictions\n",
        "y_pred = bagging_clf.predict(X_test)\n",
        "\n",
        "# Evaluate performance\n",
        "precision = precision_score(y_test, y_pred, average='macro')\n",
        "recall = recall_score(y_test, y_pred, average='macro')\n",
        "f1 = f1_score(y_test, y_pred, average='macro')\n",
        "accuracy = accuracy_score(y_test, y_pred)\n",
        "\n",
        "# Print metrics\n",
        "print(f\"Accuracy: {accuracy:.4f}\")\n",
        "print(f\"Precision: {precision:.4f}\")\n",
        "print(f\"Recall: {recall:.4f}\")\n",
        "print(f\"F1-score: {f1:.4f}\")\n"
      ],
      "metadata": {
        "colab": {
          "base_uri": "https://localhost:8080/"
        },
        "id": "HyXZpG_gwpyX",
        "outputId": "92a34f24-6529-4436-e92d-d54d2d73e75f"
      },
      "execution_count": 28,
      "outputs": [
        {
          "output_type": "stream",
          "name": "stdout",
          "text": [
            "Accuracy: 1.0000\n",
            "Precision: 1.0000\n",
            "Recall: 1.0000\n",
            "F1-score: 1.0000\n"
          ]
        }
      ]
    },
    {
      "cell_type": "code",
      "source": [
        "#39.Train a Random Forest Classifier and analyze the effect of max_depth on accuracy.\n",
        "\n",
        "import numpy as np\n",
        "import matplotlib.pyplot as plt\n",
        "from sklearn.datasets import load_iris\n",
        "from sklearn.ensemble import RandomForestClassifier\n",
        "from sklearn.model_selection import train_test_split\n",
        "from sklearn.metrics import accuracy_score\n",
        "\n",
        "# Load dataset\n",
        "data = load_iris()\n",
        "X, y = data.data, data.target\n",
        "\n",
        "# Split data into training and testing sets\n",
        "X_train, X_test, y_train, y_test = train_test_split(X, y, test_size=0.2, random_state=42)\n",
        "\n",
        "# Analyze effect of max_depth on accuracy\n",
        "max_depth_values = range(1, 21)\n",
        "train_accuracies = []\n",
        "test_accuracies = []\n",
        "\n",
        "for max_depth in max_depth_values:\n",
        "    clf = RandomForestClassifier(max_depth=max_depth, random_state=42)\n",
        "    clf.fit(X_train, y_train)\n",
        "\n",
        "    train_pred = clf.predict(X_train)\n",
        "    test_pred = clf.predict(X_test)\n",
        "\n",
        "    train_accuracies.append(accuracy_score(y_train, train_pred))\n",
        "    test_accuracies.append(accuracy_score(y_test, test_pred))\n",
        "\n",
        "# Plot the results\n",
        "plt.figure(figsize=(10, 5))\n",
        "plt.plot(max_depth_values, train_accuracies, label='Training Accuracy', marker='o')\n",
        "plt.plot(max_depth_values, test_accuracies, label='Testing Accuracy', marker='s')\n",
        "plt.xlabel('Max Depth')\n",
        "plt.ylabel('Accuracy')\n",
        "plt.title('Effect of max_depth on Random Forest Accuracy')\n",
        "plt.legend()\n",
        "plt.grid()\n",
        "plt.show()\n"
      ],
      "metadata": {
        "colab": {
          "base_uri": "https://localhost:8080/",
          "height": 487
        },
        "id": "IM8GI_3rw74f",
        "outputId": "18660c91-29d8-478b-eaeb-2ac2f342bb72"
      },
      "execution_count": 29,
      "outputs": [
        {
          "output_type": "display_data",
          "data": {
            "text/plain": [
              "<Figure size 1000x500 with 1 Axes>"
            ],
            "image/png": "[encoded data removed]"
          },
          "metadata": {}
        }
      ]
    },
    {
      "cell_type": "code",
      "source": [
        "#40.Train a Bagging Regressor using different base estimators (DecisionTree and KNeighbors) and compare performance.\n",
        "\n",
        "import numpy as np\n",
        "import pandas as pd\n",
        "from sklearn.model_selection import train_test_split\n",
        "from sklearn.ensemble import BaggingRegressor\n",
        "from sklearn.tree import DecisionTreeRegressor\n",
        "from sklearn.neighbors import KNeighborsRegressor\n",
        "from sklearn.metrics import mean_squared_error, r2_score\n",
        "from sklearn.datasets import make_regression\n",
        "\n",
        "# Generate synthetic regression dataset\n",
        "X, y = make_regression(n_samples=1000, n_features=5, noise=0.2, random_state=42)\n",
        "\n",
        "# Split data into training and testing sets\n",
        "X_train, X_test, y_train, y_test = train_test_split(X, y, test_size=0.2, random_state=42)\n",
        "\n",
        "# Bagging Regressor with Decision Tree as base estimator\n",
        "bagging_dt = BaggingRegressor(estimator=DecisionTreeRegressor(), n_estimators=50, random_state=42)\n",
        "bagging_dt.fit(X_train, y_train)\n",
        "\n",
        "# Bagging Regressor with KNeighbors as base estimator\n",
        "bagging_knn = BaggingRegressor(estimator=KNeighborsRegressor(), n_estimators=50, random_state=42)\n",
        "bagging_knn.fit(X_train, y_train)\n",
        "\n",
        "# Predictions\n",
        "y_pred_dt = bagging_dt.predict(X_test)\n",
        "y_pred_knn = bagging_knn.predict(X_test)\n",
        "\n",
        "# Performance metrics\n",
        "mse_dt = mean_squared_error(y_test, y_pred_dt)\n",
        "r2_dt = r2_score(y_test, y_pred_dt)\n",
        "\n",
        "mse_knn = mean_squared_error(y_test, y_pred_knn)\n",
        "r2_knn = r2_score(y_test, y_pred_knn)\n",
        "\n",
        "# Print results\n",
        "print(f\"Decision Tree + Bagging -> MSE: {mse_dt:.4f}, R² Score: {r2_dt:.4f}\")\n",
        "print(f\"KNeighbors + Bagging -> MSE: {mse_knn:.4f}, R² Score: {r2_knn:.4f}\")\n"
      ],
      "metadata": {
        "colab": {
          "base_uri": "https://localhost:8080/"
        },
        "id": "HXa1pZjgxIb4",
        "outputId": "2abf1e75-5ca4-4a1c-a8be-d9a82644b6fe"
      },
      "execution_count": 31,
      "outputs": [
        {
          "output_type": "stream",
          "name": "stdout",
          "text": [
            "Decision Tree + Bagging -> MSE: 293.8119, R² Score: 0.9204\n",
            "KNeighbors + Bagging -> MSE: 245.9883, R² Score: 0.9334\n"
          ]
        }
      ]
    },
    {
      "cell_type": "code",
      "source": [
        "#41.Train a Random Forest Classifier and evaluate its performance using ROC-AUC Score.\n",
        "\n",
        "\n",
        "from sklearn.ensemble import RandomForestClassifier\n",
        "from sklearn.model_selection import train_test_split\n",
        "from sklearn.metrics import roc_auc_score\n",
        "from sklearn.datasets import make_classification\n",
        "\n",
        "# Generate synthetic dataset\n",
        "X, y = make_classification(n_samples=1000, n_features=20, random_state=42)\n",
        "\n",
        "# Split dataset into training and testing sets\n",
        "X_train, X_test, y_train, y_test = train_test_split(X, y, test_size=0.2, random_state=42)\n",
        "\n",
        "# Initialize and train the Random Forest Classifier\n",
        "clf = RandomForestClassifier(n_estimators=100, random_state=42)\n",
        "clf.fit(X_train, y_train)\n",
        "\n",
        "# Predict probabilities\n",
        "y_prob = clf.predict_proba(X_test)[:, 1]\n",
        "\n",
        "# Compute ROC-AUC score\n",
        "roc_auc = roc_auc_score(y_test, y_prob)\n",
        "print(f'ROC-AUC Score: {roc_auc:.4f}')\n"
      ],
      "metadata": {
        "colab": {
          "base_uri": "https://localhost:8080/"
        },
        "id": "QwiWKwB1xanL",
        "outputId": "08116731-718e-45fd-b256-1bb0fba7aa22"
      },
      "execution_count": 32,
      "outputs": [
        {
          "output_type": "stream",
          "name": "stdout",
          "text": [
            "ROC-AUC Score: 0.9379\n"
          ]
        }
      ]
    },
    {
      "cell_type": "code",
      "source": [
        "#42.Train a Bagging Classifier and evaluate its performance using cross-validatio.\n",
        "\n",
        "from sklearn.ensemble import BaggingClassifier\n",
        "from sklearn.tree import DecisionTreeClassifier\n",
        "from sklearn.datasets import make_classification\n",
        "from sklearn.model_selection import cross_val_score, StratifiedKFold\n",
        "import numpy as np\n",
        "\n",
        "# Generate synthetic dataset\n",
        "X, y = make_classification(n_samples=1000, n_features=20, random_state=42)\n",
        "\n",
        "# Define Bagging Classifier with a Decision Tree as base estimator\n",
        "bagging_clf = BaggingClassifier(estimator=DecisionTreeClassifier(), n_estimators=50, random_state=42)\n",
        "\n",
        "# Use Stratified K-Fold cross-validation\n",
        "cv = StratifiedKFold(n_splits=5, shuffle=True, random_state=42)\n",
        "\n",
        "# Perform cross-validation\n",
        "scores = cross_val_score(bagging_clf, X, y, cv=cv, scoring='accuracy')\n",
        "\n",
        "# Print results\n",
        "print(f'Cross-validation accuracy scores: {scores}')\n",
        "print(f'Mean accuracy: {np.mean(scores):.4f}')\n",
        "print(f'Standard deviation: {np.std(scores):.4f}')"
      ],
      "metadata": {
        "colab": {
          "base_uri": "https://localhost:8080/"
        },
        "id": "zXaxPxFgxmsR",
        "outputId": "e3115911-724c-4070-91e3-7b7013a8d9ec"
      },
      "execution_count": 34,
      "outputs": [
        {
          "output_type": "stream",
          "name": "stdout",
          "text": [
            "Cross-validation accuracy scores: [0.885 0.925 0.9   0.89  0.895]\n",
            "Mean accuracy: 0.8990\n",
            "Standard deviation: 0.0139\n"
          ]
        }
      ]
    },
    {
      "cell_type": "code",
      "source": [
        "#43.Train a Random Forest Classifier and plot the Precision-Recall curv.\n",
        "\n",
        "import numpy as np\n",
        "import matplotlib.pyplot as plt\n",
        "from sklearn.datasets import make_classification\n",
        "from sklearn.ensemble import RandomForestClassifier\n",
        "from sklearn.model_selection import train_test_split\n",
        "from sklearn.metrics import precision_recall_curve, average_precision_score\n",
        "\n",
        "# Generate synthetic dataset\n",
        "X, y = make_classification(n_samples=1000, n_features=20, random_state=42)\n",
        "\n",
        "# Split dataset into train and test sets\n",
        "X_train, X_test, y_train, y_test = train_test_split(X, y, test_size=0.2, random_state=42)\n",
        "\n",
        "# Train Random Forest Classifier\n",
        "clf = RandomForestClassifier(n_estimators=100, random_state=42)\n",
        "clf.fit(X_train, y_train)\n",
        "\n",
        "# Get predicted probabilities\n",
        "y_scores = clf.predict_proba(X_test)[:, 1]\n",
        "\n",
        "# Compute precision-recall curve\n",
        "precision, recall, _ = precision_recall_curve(y_test, y_scores)\n",
        "\n",
        "# Compute average precision score\n",
        "avg_precision = average_precision_score(y_test, y_scores)\n",
        "\n",
        "# Plot Precision-Recall curve\n",
        "plt.figure(figsize=(8, 6))\n",
        "plt.plot(recall, precision, marker='.', label=f'Random Forest (AP = {avg_precision:.2f})')\n",
        "plt.xlabel('Recall')\n",
        "plt.ylabel('Precision')\n",
        "plt.title('Precision-Recall Curve')\n",
        "plt.legend()\n",
        "plt.grid()\n",
        "plt.show()\n"
      ],
      "metadata": {
        "colab": {
          "base_uri": "https://localhost:8080/",
          "height": 564
        },
        "id": "8xhdhC9Ox75d",
        "outputId": "b68690da-b227-4ab0-b8bb-bfdf4ae1d2da"
      },
      "execution_count": 35,
      "outputs": [
        {
          "output_type": "display_data",
          "data": {
            "text/plain": [
              "<Figure size 800x600 with 1 Axes>"
            ],
            "image/png": "[encoded data removed]"
          },
          "metadata": {}
        }
      ]
    },
    {
      "cell_type": "code",
      "source": [
        "#44.Train a Stacking Classifier with Random Forest and Logistic Regression and compare accuracy.\n",
        "\n",
        "from sklearn.datasets import load_iris\n",
        "from sklearn.model_selection import train_test_split\n",
        "from sklearn.ensemble import RandomForestClassifier, StackingClassifier\n",
        "from sklearn.linear_model import LogisticRegression\n",
        "from sklearn.metrics import accuracy_score\n",
        "\n",
        "# Load dataset\n",
        "data = load_iris()\n",
        "X, y = data.data, data.target\n",
        "\n",
        "# Split data into training and testing sets\n",
        "X_train, X_test, y_train, y_test = train_test_split(X, y, test_size=0.2, random_state=42)\n",
        "\n",
        "# Define base classifiers\n",
        "rf = RandomForestClassifier(n_estimators=100, random_state=42)\n",
        "lr = LogisticRegression(max_iter=200, random_state=42)\n",
        "\n",
        "# Train individual classifiers\n",
        "rf.fit(X_train, y_train)\n",
        "lr.fit(X_train, y_train)\n",
        "\n",
        "# Accuracy of individual classifiers\n",
        "rf_acc = accuracy_score(y_test, rf.predict(X_test))\n",
        "lr_acc = accuracy_score(y_test, lr.predict(X_test))\n",
        "\n",
        "# Stacking Classifier with Random Forest and Logistic Regression\n",
        "stacking_clf = StackingClassifier(estimators=[('rf', rf), ('lr', lr)], final_estimator=LogisticRegression())\n",
        "\n",
        "# Train Stacking Classifier\n",
        "stacking_clf.fit(X_train, y_train)\n",
        "\n",
        "# Accuracy of Stacking Classifier\n",
        "stacking_acc = accuracy_score(y_test, stacking_clf.predict(X_test))\n",
        "\n",
        "# Print results\n",
        "print(f\"Random Forest Accuracy: {rf_acc:.4f}\")\n",
        "print(f\"Logistic Regression Accuracy: {lr_acc:.4f}\")\n",
        "print(f\"Stacking Classifier Accuracy: {stacking_acc:.4f}\")\n"
      ],
      "metadata": {
        "colab": {
          "base_uri": "https://localhost:8080/"
        },
        "id": "a5ggnID9yG66",
        "outputId": "9b493c5f-0e85-421e-89c0-b43816e5a78f"
      },
      "execution_count": 36,
      "outputs": [
        {
          "output_type": "stream",
          "name": "stdout",
          "text": [
            "Random Forest Accuracy: 1.0000\n",
            "Logistic Regression Accuracy: 1.0000\n",
            "Stacking Classifier Accuracy: 1.0000\n"
          ]
        }
      ]
    },
    {
      "cell_type": "code",
      "source": [
        "#45.Train a Bagging Regressor with different levels of bootstrap samples and compare performance.\n",
        "\n",
        "import numpy as np\n",
        "import matplotlib.pyplot as plt\n",
        "from sklearn.ensemble import BaggingRegressor\n",
        "from sklearn.tree import DecisionTreeRegressor\n",
        "from sklearn.model_selection import train_test_split\n",
        "from sklearn.metrics import mean_squared_error\n",
        "from sklearn.datasets import make_regression\n",
        "\n",
        "# Generate synthetic regression data\n",
        "X, y = make_regression(n_samples=1000, n_features=1, noise=20, random_state=42)\n",
        "\n",
        "# Split into training and testing sets\n",
        "X_train, X_test, y_train, y_test = train_test_split(X, y, test_size=0.2, random_state=42)\n",
        "\n",
        "# Different levels of bootstrap samples\n",
        "bootstrap_samples = [0.5, 0.7, 1.0]  # Proportion of dataset used per estimator\n",
        "mse_scores = []\n",
        "\n",
        "# Train and evaluate models\n",
        "for bs in bootstrap_samples:\n",
        "    model = BaggingRegressor(\n",
        "        estimator=DecisionTreeRegressor(),\n",
        "        n_estimators=50,\n",
        "        max_samples=bs,  # Bootstrap sample size\n",
        "        bootstrap=True,\n",
        "        random_state=42\n",
        "    )\n",
        "    model.fit(X_train, y_train)\n",
        "    y_pred = model.predict(X_test)\n",
        "    mse = mean_squared_error(y_test, y_pred)\n",
        "    mse_scores.append(mse)\n",
        "    print(f\"Bootstrap Sample {bs}: MSE = {mse:.4f}\")\n",
        "\n",
        "# Plot results\n",
        "plt.figure(figsize=(8, 5))\n",
        "plt.plot(bootstrap_samples, mse_scores, marker='o', linestyle='-', color='b')\n",
        "plt.xlabel('Bootstrap Sample Size')\n",
        "plt.ylabel('Mean Squared Error')\n",
        "plt.title('Effect of Bootstrap Sample Size on BaggingRegressor Performance')\n",
        "plt.grid()\n",
        "plt.show()"
      ],
      "metadata": {
        "colab": {
          "base_uri": "https://localhost:8080/",
          "height": 539
        },
        "id": "mG5O3pjeySNV",
        "outputId": "1290af0c-bc2f-44d4-d368-133193fe0497"
      },
      "execution_count": 38,
      "outputs": [
        {
          "output_type": "stream",
          "name": "stdout",
          "text": [
            "Bootstrap Sample 0.5: MSE = 559.3334\n",
            "Bootstrap Sample 0.7: MSE = 602.8557\n",
            "Bootstrap Sample 1.0: MSE = 657.6525\n"
          ]
        },
        {
          "output_type": "display_data",
          "data": {
            "text/plain": [
              "<Figure size 800x500 with 1 Axes>"
            ],
            "image/png": "[encoded data removed]"
          },
          "metadata": {}
        }
      ]
    }
  ]
}