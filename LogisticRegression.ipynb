{
  "nbformat": 4,
  "nbformat_minor": 0,
  "metadata": {
    "colab": {
      "provenance": []
    },
    "kernelspec": {
      "name": "python3",
      "display_name": "Python 3"
    },
    "language_info": {
      "name": "python"
    }
  },
  "cells": [
    {
      "cell_type": "markdown",
      "source": [
        "**Theoretical**\n",
        "\n",
        "1.What is Logistic Regression, and how does it differ from Linear Regression.\n",
        "\n",
        "Logistic Regression and Linear Regression are both statistical models used for predictive analysis, but they serve different purposes:\n",
        "\n",
        "Linear Regression is used for predicting continuous numerical values. It establishes a linear relationship between independent and dependent variables, meaning it assumes the output variable changes in a straight-line fashion with the input variables.\n",
        "\n",
        "Logistic Regression is used for classification problems, where the output is categorical (e.g., yes/no, spam/not spam). Instead of predicting a continuous value, it predicts the probability that an observation belongs to a particular category. The output is then mapped to a discrete class using a threshold (e.g., if probability > 0.5, classify as one category; otherwise, classify as another).\n",
        "\n",
        "Key Differences:\n",
        "Nature of Output: Linear Regression predicts continuous values, while Logistic Regression predicts categorical outcomes.\n",
        "\n",
        "Linearity Assumption: Linear Regression assumes a direct linear relationship between variables, while Logistic Regression applies a transformation (sigmoid function) to constrain outputs between 0 and 1.\n",
        "\n",
        "Use Case:\n",
        "Linear Regression is used in regression tasks (e.g., predicting house prices), whereas Logistic Regression is used in classification tasks (e.g., spam detection).\n",
        "\n",
        "Interpretation: In Linear Regression, the coefficients represent the rate of change of the dependent variable. In Logistic Regression, the coefficients influence the probability of belonging to a class rather than a direct output."
      ],
      "metadata": {
        "id": "of0hXC05NUva"
      }
    },
    {
      "cell_type": "markdown",
      "source": [
        "2.What is the mathematical equation of Logistic Regression.\n",
        "\n",
        "the logistic regression formula:\n",
        "\n",
        "P(Y=1 | X) = 1 / (1 + exp(- (β0 + β1X1 + β2X2 + ... + βnXn)))\n",
        "\n",
        "For vector notation:\n",
        "\n",
        "P(Y=1 | X) = 1 / (1 + exp(- W^T X ))"
      ],
      "metadata": {
        "id": "n1I30kIvOE7C"
      }
    },
    {
      "cell_type": "markdown",
      "source": [
        "3.Why do we use the Sigmoid function in Logistic Regression.\n",
        "\n",
        "In Logistic Regression, the Sigmoid function (also called the logistic function) is used to model the probability of a binary outcome (0 or 1). The primary reasons for using the Sigmoid function in Logistic Regression are:\n",
        "\n",
        "Probability Output (Range [0,1])\n",
        "The Sigmoid function maps any real-valued input to a value between 0 and 1, making it ideal for binary classification. The output can be interpreted as a probability score.\n",
        "\n",
        "Mathematical Formulation\n",
        "The Sigmoid function is defined as:\n",
        "\n",
        "σ(z)= 1/\n",
        "1+exp−z\n",
        "​\n",
        "\n",
        "where\n",
        "\n",
        "z=wX+b (linear combination of input features). This ensures a smooth and continuous transition from 0 to 1.\n",
        "\n",
        "Decision Boundary\n",
        "The function provides a threshold-based classification:\n",
        "\n",
        "If σ(z)≥0.5, classify as 1 (positive class).\n",
        "If σ(z)<0.5, classify as 0 (negative class).\n",
        "\n",
        "Derivative and Gradient Descent Optimization\n",
        "The derivative of the Sigmoid function is:\n",
        "σ ′(z)=σ(z)(1−σ(z))\n",
        "\n",
        "This property ensures smooth gradient updates, preventing abrupt changes during optimization.\n",
        "\n",
        "Log-Likelihood Estimation\n",
        "Logistic Regression maximizes the log-likelihood function, which is derived using the Sigmoid function. The log-likelihood ensures that probabilities are properly assigned to the target classes.\n",
        "\n",
        "Avoiding Linear Outputs\n",
        "Unlike Linear Regression, which predicts values in an unbounded range, the Sigmoid function restricts outputs between 0 and 1, making it suitable for classification problems."
      ],
      "metadata": {
        "id": "_pMmlRHoOvtU"
      }
    },
    {
      "cell_type": "markdown",
      "source": [
        "4.What is the cost function of Logistic Regression.\n",
        "\n",
        "The cost function for Logistic Regression is given by the Log Loss (Logistic Loss) function:\n",
        "\n",
        "\n",
        "J(θ)=−\n",
        "m\n",
        "1\n",
        "​\n",
        "  \n",
        "i=1\n",
        "∑\n",
        "m\n",
        "​\n",
        " [y\n",
        "(i)\n",
        " logh\n",
        "θ\n",
        "​\n",
        " (x\n",
        "(i)\n",
        " )+(1−y\n",
        "(i)\n",
        " )log(1−h\n",
        "θ\n",
        "​\n",
        " (x\n",
        "(i)\n",
        " ))]\n",
        "where:\n",
        "\n",
        "m is the number of training examples.\n",
        "\n",
        "y\n",
        "(i)\n",
        "  is the actual label (0 or 1) for the\n",
        "\n",
        "i-th training example.\n",
        "\n",
        "h\n",
        "θ\n",
        "​\n",
        " (x\n",
        "(i)\n",
        " ) is the predicted probability (sigmoid function output) for the i-th example.\n",
        "\n",
        "θ represents the model parameters.\n",
        "\n",
        "x\n",
        "(i)\n",
        "  is the feature vector for the\n",
        "i-th example."
      ],
      "metadata": {
        "id": "6WtxSF37Psek"
      }
    },
    {
      "cell_type": "markdown",
      "source": [
        "5.What is Regularization in Logistic Regression? Why is it needed.\n",
        "\n",
        "Regularization in Logistic Regression\n",
        "Regularization is a technique used in logistic regression to prevent overfitting by adding a penalty to the loss function. It helps improve the model's generalization ability, ensuring that it performs well on unseen data.\n",
        "\n",
        "Why is Regularization Needed?\n",
        "Prevents Overfitting: In logistic regression, when the model is too complex or trained on a small dataset, it may learn patterns that are too specific to the training data, leading to poor performance on new data. Regularization helps by discouraging excessive complexity.\n",
        "\n",
        "Controls Model Complexity: Regularization reduces the magnitude of the model's coefficients, ensuring that no feature dominates the prediction excessively, which helps maintain a simpler and more interpretable model.\n",
        "\n",
        "Improves Generalization: By constraining the model's parameters, regularization ensures that the model does not fit noise in the training data and performs well on unseen data.\n",
        "\n",
        "Handles Multicollinearity: When independent variables are highly correlated, logistic regression may assign large coefficients to some features. Regularization helps in mitigating this issue by reducing coefficient values.\n",
        "\n",
        "Stabilizes Optimization: Without regularization, the optimization process might lead to extreme coefficient values, making the model sensitive to small changes in the data. Regularization introduces a constraint that stabilizes the training process.\n",
        "\n",
        "Regularization is an essential technique in machine learning models like logistic regression to enhance their robustness, reliability, and predictive accuracy."
      ],
      "metadata": {
        "id": "ygGgmDhRQZpu"
      }
    },
    {
      "cell_type": "markdown",
      "source": [
        "6.Explain the difference between Lasso, Ridge, and Elastic Net regression.\n",
        "\n",
        "Lasso, Ridge, and Elastic Net regression are regularization techniques used in linear regression to prevent overfitting by adding a penalty to the model's coefficients. Here’s the theoretical difference between them:\n",
        "\n",
        "1. Ridge Regression (L2 Regularization)\n",
        "Ridge regression adds a penalty that shrinks the magnitude of coefficients but does not force them to become zero.\n",
        "It is useful when there are many correlated features because it distributes the weights more evenly among them.\n",
        "Ridge regression helps reduce model complexity and multicollinearity but does not perform feature selection.\n",
        "\n",
        "\n",
        "2. Lasso Regression (L1 Regularization)\n",
        "Lasso regression adds a penalty that can shrink some coefficients to exactly zero, effectively performing feature selection.\n",
        "It is useful when we believe that only a subset of features are important, as it automatically eliminates less important ones.\n",
        "Lasso works well when there are many irrelevant or redundant features, leading to a more interpretable model.\n",
        "\n",
        "\n",
        "3. Elastic Net Regression (Combination of L1 and L2 Regularization)\n",
        "Elastic Net combines both Lasso and Ridge penalties to balance their advantages.\n",
        "It is useful when there are many correlated features, as Lasso alone might randomly select one among them, while Elastic Net keeps a balance.\n",
        "It is preferred when dealing with high-dimensional data where Lasso may be too aggressive in shrinking coefficients to zero, and Ridge may be too mild.\n",
        "Each method is chosen based on the dataset characteristics and the need for feature selection or coefficient shrinkage."
      ],
      "metadata": {
        "id": "9B-rFjfQQyQp"
      }
    },
    {
      "cell_type": "markdown",
      "source": [
        " 7.When should we use Elastic Net instead of Lasso or Ridge.\n",
        "\n",
        " Elastic Net is preferred over Lasso or Ridge regression in the following situations:\n",
        "When there is multicollinearity:\n",
        "Ridge regression is effective at handling multicollinearity by shrinking correlated coefficients together.\n",
        "\n",
        "Lasso tends to select one feature among correlated ones while ignoring others.\n",
        "Elastic Net combines both, encouraging grouping of correlated variables while also performing feature selection.\n",
        "When you need both feature selection and regularization:\n",
        "\n",
        " (L1 regularization) can shrink some coefficients to zero, effectively performing feature selection.\n",
        "\n",
        "Ridge (L2 regularization) shrinks coefficients but never sets them to zero.\n",
        "Elastic Net can select features (like Lasso) and also prevent excessive shrinkage of coefficients (like Ridge).\n",
        "\n",
        "When Lasso fails due to the number of predictors being much larger than the number of samples:\n",
        "\n",
        "Lasso may struggle in high-dimensional settings where\n",
        "\n",
        "p≫n, leading to instability.\n",
        "Elastic Net stabilizes feature selection by maintaining some Ridge-like penalties.\n",
        "When features are highly correlated:\n",
        "\n",
        "Lasso tends to arbitrarily select one feature from a group of correlated features, leading to inconsistent results.\n",
        "Elastic Net allows grouped selection, improving model stability.\n",
        "\n",
        "When to Use:\n",
        "\n",
        "Use Ridge when all features are relevant and you just need to shrink coefficients.\n",
        "\n",
        "Use Lasso when you need a sparse model with feature selection.\n",
        "\n",
        "Use Elastic Net when you need a balance between Ridge and Lasso, especially in cases of multicollinearity and high-dimensional datasets."
      ],
      "metadata": {
        "id": "O36eJ5b7Rbfh"
      }
    },
    {
      "cell_type": "markdown",
      "source": [
        "8.What is the impact of the regularization parameter (λ) in Logistic Regression.\n",
        "\n",
        "The regularization parameter\n",
        "λ (lambda) in Logistic Regression controls the strength of the penalty applied to the model's coefficients. It plays a crucial role in preventing overfitting and improving generalization.\n",
        "\n",
        "Impact of\n",
        "λ in Logistic Regression:High\n",
        "\n",
        "λ (Strong Regularization):\n",
        "\n",
        "Penalizes large coefficients more aggressively.\n",
        "Shrinks the weights closer to zero.\n",
        "Reduces model complexity.\n",
        "Prevents overfitting but may lead to underfitting if too strong.\n",
        "Low\n",
        "\n",
        "λ (Weak Regularization):\n",
        "\n",
        "Allows larger weights in the model.\n",
        "The model captures more details from the data.\n",
        "Can improve accuracy on training data but may lead to overfitting.\n",
        "\n",
        "λ=0 (No Regularization):\n",
        "\n",
        "The model behaves like standard Logistic Regression without penalties.\n",
        "Can lead to overfitting if the dataset has high dimensionality or noise.\n",
        "Types of Regularization in Logistic Regression:\n",
        "L1 Regularization (Lasso,\n",
        "\n",
        "L1): Uses absolute values of the coefficients, leading to sparse models (some coefficients become exactly zero).\n",
        "L2 Regularization (Ridge,\n",
        "\n",
        "L2): Uses squared values of the coefficients, reducing their magnitude but keeping them nonzero.\n",
        "In Scikit-learn, the C parameter is the inverse of\n",
        "\n",
        "λ (i.e.,\n",
        "C=\n",
        "λ\n",
        "1\n",
        "), meaning:\n",
        "\n",
        "Higher C → Less regularization (more complex model).\n",
        "\n",
        "Lower C → More regularization (simpler model)."
      ],
      "metadata": {
        "id": "SB3YjBt1SO31"
      }
    },
    {
      "cell_type": "markdown",
      "source": [
        "9.What are the key assumptions of Logistic Regression.\n",
        "\n",
        "Logistic Regression makes several key assumptions:\n",
        "\n",
        "Binary or Multiclass Output:\n",
        "The dependent variable (target) should be binary (0 or 1) for binary logistic regression.\n",
        "For multinomial logistic regression, the target can have more than two categories.\n",
        "\n",
        "Independent Observations:\n",
        "The observations should be independent of each other to avoid biases in estimation.\n",
        "\n",
        "No Multicollinearity:\n",
        "The independent variables should not be highly correlated with each other.\n",
        "If multicollinearity exists, techniques like Variance Inflation Factor (VIF) or Principal Component Analysis (PCA) can be used.\n",
        "\n",
        "Linearity in Log-Odds:\n",
        "Logistic Regression assumes that the independent variables have a linear relationship with the log-odds (logit transformation) of the dependent variable.\n",
        "This can be checked using techniques like the Box-Tidwell test.\n",
        "\n",
        "Large Sample Size:\n",
        "Logistic Regression performs better with a large dataset to provide stable estimates of coefficients.\n",
        "\n",
        "No Autocorrelation:\n",
        "The model assumes that residuals (errors) are not correlated, which is important in time-series data.\n",
        "\n",
        "Well-Defined Categories:\n",
        "The dependent variable classes should be well-separated to avoid overlapping issues."
      ],
      "metadata": {
        "id": "Q2C2VZdRSyAj"
      }
    },
    {
      "cell_type": "markdown",
      "source": [
        "10.What are some alternatives to Logistic Regression for classification tasks.\n",
        "\n",
        "There are several alternatives to Logistic Regression for classification tasks, depending on the complexity of the data and the desired performance. Some alternatives include:\n",
        "\n",
        "Linear Models:\n",
        "Support Vector Machines (SVM) (Linear Kernel) – Effective for high-dimensional spaces and when the data is linearly separable.\n",
        "Linear Discriminant Analysis (LDA) – Works well for normally distributed data with equal class covariances.\n",
        "\n",
        "Tree-Based Models:\n",
        "Decision Trees – Simple, interpretable models that work well with non-linear relationships.\n",
        "Random Forest – An ensemble of decision trees that improves accuracy and reduces overfitting.\n",
        "Gradient Boosting (e.g., XGBoost, LightGBM, CatBoost) – Highly effective in handling structured/tabular data.\n",
        "\n",
        "Neural Networks:\n",
        "Multi-Layer Perceptron (MLP) – A simple feedforward neural network that can learn complex relationships.\n",
        "Deep Learning (CNN, RNN, Transformers) – Useful for image, text, and sequential data classification.\n",
        "\n",
        "Bayesian Models:\n",
        "Naïve Bayes (Gaussian, Multinomial, Bernoulli) – Works well for text classification and problems with categorical features.\n",
        "\n",
        "Instance-Based Learning:\n",
        "k-Nearest Neighbors (k-NN) – A non-parametric method that classifies based on the majority vote of neighbors.\n",
        "\n",
        "Kernel-Based Models:\n",
        "Support Vector Machines (SVM) (Non-Linear Kernels, e.g., RBF, Polynomial) – Effective for non-linearly separable data.\n",
        "\n",
        "Hybrid & Meta-Learning Approaches:\n",
        "Ensemble Methods (Stacking, Bagging, Boosting) – Combine multiple weak learners to improve performance.\n",
        "AutoML (e.g., TPOT, Auto-sklearn) – Automates model selection and hyperparameter tuning."
      ],
      "metadata": {
        "id": "1QygkpEbTI3C"
      }
    },
    {
      "cell_type": "markdown",
      "source": [
        "11.What are Classification Evaluation Metrics.\n",
        "\n",
        "Classification Evaluation Metrics\n",
        "Classification evaluation metrics are used to measure the performance of a classification model. These metrics help determine how well the model is classifying data into different categories. Some of the key metrics include:\n",
        "\n",
        "1. Accuracy\n",
        "Measures the overall correctness of the model.\n",
        "Formula:\n",
        "Accuracy= TP+TN/TP+TN+FP+FN\n",
        "Limitation: Not ideal for imbalanced datasets.\n",
        "\n",
        "2. Precision (Positive Predictive Value)\n",
        "Measures how many of the predicted positive instances are actually correct.\n",
        "Formula:\n",
        "Precision= TP/TP+FP\n",
        "Useful in scenarios where false positives are costly (e.g., spam detection).\n",
        "\n",
        "3. Recall (Sensitivity or True Positive Rate)\n",
        "Measures how many actual positive instances were correctly predicted.\n",
        "Formula:\n",
        "Recall=TP/TP+FN\n",
        "Useful when missing positive cases is costly (e.g., medical diagnosis).\n",
        "\n",
        "4. F1-Score\n",
        "Harmonic mean of precision and recall, balancing both metrics.\n",
        "Formula:\n",
        "F1=2×(Precision×Recall/Precision+Recall)  Ideal for imbalanced datasets.\n",
        "\n",
        "5. Specificity (True Negative Rate)\n",
        "Measures how many actual negative instances were correctly classified.\n",
        "Formula:\n",
        "Specificity= TN/TN+FP\n",
        "​\n",
        "6. ROC Curve (Receiver Operating Characteristic Curve) & AUC (Area Under Curve)\n",
        "ROC Curve: A plot of True Positive Rate (Recall) vs. False Positive Rate (FPR).\n",
        "AUC (Area Under the Curve): Measures the ability of the classifier to distinguish between classes. A higher AUC means better performance."
      ],
      "metadata": {
        "id": "4qcvZb7qTb4A"
      }
    },
    {
      "cell_type": "markdown",
      "source": [
        "12.How does class imbalance affect Logistic Regression.\n",
        "\n",
        "Class imbalance can significantly affect Logistic Regression, leading to biased predictions and poor generalization. Here’s how:\n",
        "\n",
        "1. Biased Decision Boundary\n",
        "Logistic Regression aims to find a decision boundary that best separates classes.\n",
        "If one class is significantly underrepresented, the model may skew the decision boundary toward the majority class, making it less sensitive to the minority class.\n",
        "2. Poor Predictive Performance for Minority Class\n",
        "The model may predict the majority class for most cases, leading to high accuracy but poor recall for the minority class.\n",
        "Precision and recall metrics can be significantly imbalanced.\n",
        "3. Misleading Performance Metrics\n",
        "Accuracy is not a reliable metric in imbalanced datasets.\n",
        "Example: If 95% of the data belongs to class A and 5% to class B, a naive model predicting only class A achieves 95% accuracy but fails to classify class B correctly.\n",
        "4. Improper Probability Estimation\n",
        "Logistic Regression calculates class probabilities using the sigmoid function.\n",
        "With class imbalance, the model may assign very low probabilities to the minority class, making it hard to set a proper threshold for classification.\n",
        "5. Overfitting to the Majority Class\n",
        "The model may learn features mostly relevant to the majority class and ignore key features of the minority class.\n",
        "How to Handle Class Imbalance in Logistic Regression\n",
        "Resampling Techniques\n",
        "\n",
        "Oversampling (e.g., SMOTE) to increase minority class representation.\n",
        "Undersampling to balance the dataset by reducing majority class samples.\n",
        "Class Weight Adjustment\n",
        "\n",
        "Assign higher weights to the minority class using class_weight='balanced' in sklearn.linear_model.LogisticRegression.\n",
        "Threshold Tuning\n",
        "\n",
        "Instead of using the default 0.5 threshold, adjust it based on precision-recall trade-offs.\n",
        "Use Evaluation Metrics Beyond Accuracy\n",
        "\n",
        "Precision, Recall, F1-score, AUC-ROC, PR Curve give better insights into model performance."
      ],
      "metadata": {
        "id": "iJidRHMnUtIu"
      }
    },
    {
      "cell_type": "markdown",
      "source": [
        "13.What is Hyperparameter Tuning in Logistic Regression.\n",
        "\n",
        "Key Hyperparameters in Logistic Regression\n",
        "\n",
        "C (Inverse of Regularization Strength)\n",
        "\n",
        "Controls the trade-off between achieving a low error and avoiding overfitting.\n",
        "\n",
        "Smaller values → Stronger regularization (simpler model).\n",
        "Larger values → Weaker regularization (complex model).\n",
        "Default: C = 1.0.\n",
        "Penalty (Regularization Type)\n",
        "Prevents overfitting by penalizing large coefficients.\n",
        "\n",
        "Options:\n",
        "\n",
        "'l1' → Lasso Regression (for feature selection).\n",
        "'l2' → Ridge Regression (most common).\n",
        "'elasticnet' → Combination of L1 and L2.\n",
        "'none' → No regularization.\n",
        "Default: 'l2'.\n",
        "\n",
        "Solver (Optimization Algorithm)\n",
        "Determines how the model finds optimal weights.\n",
        "\n",
        "Options:\n",
        "\n",
        "'lbfgs' → Works well for small to medium datasets.\n",
        "'liblinear' → Good for small datasets with L1 penalty.\n",
        "'saga' → Suitable for large datasets and supports all penalties.\n",
        "'newton-cg' → Suitable for L2 regularization.\n",
        "Default: 'lbfgs'.\n",
        "max_iter (Maximum Iterations)\n",
        "\n",
        "Controls how many iterations the solver runs before stopping.\n",
        "Default: 100. Increase if the model does not converge."
      ],
      "metadata": {
        "id": "VIscFExYU5YV"
      }
    },
    {
      "cell_type": "markdown",
      "source": [
        "14.What are different solvers in Logistic Regression? Which one should be used.\n",
        "\n",
        "Solvers in Logistic Regression (Scikit-Learn)\n",
        "liblinear\n",
        "\n",
        "Type: Coordinate Descent\n",
        "Best for: Small datasets\n",
        "Supports: L1 & L2 regularization\n",
        "Weakness: Slow for large datasets\n",
        "newton-cg\n",
        "\n",
        "Type: Second-order optimization (Newton’s method)\n",
        "Best for: Large datasets\n",
        "Supports: L2 regularization\n",
        "Weakness: Doesn’t support L1 regularization\n",
        "lbfgs (Default in Scikit-Learn)\n",
        "\n",
        "Type: Quasi-Newton optimization\n",
        "Best for: Large datasets & multiclass problems\n",
        "Supports: L2 regularization\n",
        "Weakness: Doesn’t support L1 regularization\n",
        "sag\n",
        "\n",
        "Type: Stochastic Gradient Descent (SGD Approximation)\n",
        "Best for: Large datasets with dense features\n",
        "Supports: L2 regularization\n",
        "Weakness: May struggle with small datasets\n",
        "saga\n",
        "\n",
        "Type: Stochastic Average Gradient (Variance Reduced SGD)\n",
        "Best for: Large datasets, sparse data, and L1/L2 regularization\n",
        "Supports: L1 & L2 regularization\n",
        "Weakness: May take longer to converge\n"
      ],
      "metadata": {
        "id": "3MZs67Q5VhpY"
      }
    },
    {
      "cell_type": "markdown",
      "source": [
        "15.How is Logistic Regression extended for multiclass classification.\n",
        "\n",
        "Logistic Regression is naturally a binary classifier, but it can be extended to multiclass classification using two main strategies:\n",
        "\n",
        "1. One-vs-Rest (OvR) / One-vs-All (OvA)\n",
        "This approach involves training multiple binary classifiers.\n",
        "For a classification problem with\n",
        "𝐾\n",
        "K classes:\n",
        "Train\n",
        "𝐾\n",
        "K binary logistic regression models.\n",
        "Each model treats one class as positive and all others as negative.\n",
        "For a new instance, all models make predictions, and the class with the highest probability is chosen.\n",
        "Pros: Simple, works well with small datasets.\n",
        "Cons: May not perform well when classes are highly imbalanced.\n",
        "2. Softmax Regression (Multinomial Logistic Regression)\n",
        "Instead of training multiple binary classifiers, this approach generalizes Logistic Regression by using the softmax function to predict probabilities for each class.\n",
        "The denominator ensures all probabilities sum to 1.\n",
        "Training is done using cross-entropy loss.\n",
        "Pros: More efficient than OvR for large datasets.\n",
        "Cons: More complex, may require more data for accurate estimation.\n",
        "\n",
        "Summary:\n",
        "\n",
        "One-vs-Rest (OvR): Train multiple binary classifiers, pick the one with the highest confidence.\n",
        "\n",
        "Softmax Regression: A single model that predicts class probabilities using softmax."
      ],
      "metadata": {
        "id": "XPIiWFCJWCA2"
      }
    },
    {
      "cell_type": "markdown",
      "source": [
        "16.What are the advantages and disadvantages of Logistic Regression.\n",
        "\n",
        "Advantages and Disadvantages of Logistic Regression\n",
        "\n",
        "Advantages\n",
        "\n",
        "Simple and Interpretable – Logistic Regression is easy to understand and interpret, making it a great choice for explainable AI.\n",
        "\n",
        "Computationally Efficient – It requires less computational power compared to more complex models like neural networks.\n",
        "\n",
        "Works Well for Linearly Separable Data – It performs well when the classes can be separated by a linear decision boundary.\n",
        "\n",
        "Probability Estimates – Unlike some other models, Logistic Regression provides probability scores, which can be useful for decision-making.\n",
        "\n",
        "No Need for Feature Scaling – It does not strictly require feature scaling, though it may improve performance.\n",
        "\n",
        "Handles Binary and Multiclass Classification – While primarily used for binary classification, it can be extended to multiclass problems using one-vs-rest (OvR) or softmax regression.\n",
        "\n",
        "Regularization Support – Techniques like L1 (Lasso) and L2 (Ridge) regularization help prevent overfitting.\n",
        "\n",
        "Disadvantages\n",
        "\n",
        "Assumes Linear Decision Boundary – Logistic Regression assumes a linear relationship between independent variables and the log-odds, making it ineffective for complex, nonlinear data.\n",
        "\n",
        "Sensitive to Outliers – The presence of outliers can negatively impact performance.\n",
        "\n",
        "Limited Handling of Large Feature Sets – In high-dimensional spaces, Logistic Regression may struggle without feature selection or regularization.\n",
        "Poor Performance on Highly Correlated Features – Multicollinearity can cause instability in the model, requiring techniques like Variance Inflation Factor (VIF) analysis.\n",
        "\n",
        "Struggles with Imbalanced Data – If the dataset is imbalanced (e.g., 95% one class, 5% another), Logistic Regression may be biased towards the majority class.\n",
        "\n",
        "Not Suitable for Complex Relationships – It cannot model intricate relationships between features and target variables unless transformed into higher-order features."
      ],
      "metadata": {
        "id": "VjvsTnFVWYOo"
      }
    },
    {
      "cell_type": "markdown",
      "source": [
        "17.What are some use cases of Logistic Regression.\n",
        "\n",
        "Logistic Regression is widely used in various domains due to its simplicity and interpretability. Some common use cases include:\n",
        "\n",
        "1. Sentiment Analysis\n",
        "Classifying tweets, reviews, or customer feedback as positive, negative, or neutral.\n",
        "Example: Your Twitter Sentiment Analysis System could use logistic regression for binary sentiment classification (positive vs. negative).\n",
        "2. Spam Detection\n",
        "Classifying emails as spam or not spam based on text features.\n",
        "Features: Presence of certain words (e.g., \"free\", \"win\", \"money\"), email metadata.\n",
        "3. Customer Churn Prediction\n",
        "Predicting whether a customer will leave a service.\n",
        "Example: Telecom companies use logistic regression to identify customers likely to cancel their subscription.\n",
        "4. Credit Scoring & Fraud Detection\n",
        "Predicting if a loan applicant will default or not.\n",
        "Identifying fraudulent transactions based on spending patterns.\n",
        "5. Medical Diagnosis\n",
        "Predicting diseases (e.g., cancer detection based on diagnostic features).\n",
        "Example: Classifying whether a tumor is malignant or benign.\n",
        "6. Advertisement Click Prediction\n",
        "Predicting whether a user will click on an ad or not based on demographics, browsing history, and ad content.\n",
        "7. Default Risk Assessment in Banking\n",
        "Banks use logistic regression to evaluate whether a borrower is likely to default on a loan.\n",
        "8. Employee Attrition Prediction\n",
        "HR departments use logistic regression to predict whether an employee will resign or stay based on work history, job satisfaction, and performance.\n",
        "9. Disease Outbreak Prediction\n",
        "Logistic regression helps in predicting whether a particular region is at risk of an epidemic based on various environmental and health factors.\n",
        "10. Object Recognition in Computer Vision\n",
        "Used for binary classification problems like distinguishing between dogs vs. cats, vehicles vs. pedestrians in self-driving cars."
      ],
      "metadata": {
        "id": "vEjvHM3-WuZx"
      }
    },
    {
      "cell_type": "markdown",
      "source": [
        "18.What is the difference between Softmax Regression and Logistic Regression.\n",
        "\n",
        "Softmax Regression and Logistic Regression are both classification algorithms, but they are used in different scenarios and have key differences:\n",
        "\n",
        "1. Number of Classes:\n",
        "Logistic Regression: Used for binary classification (two classes, e.g., 0 or 1).\n",
        "Softmax Regression: Used for multi-class classification (three or more classes).\n",
        "2. Output Function:\n",
        "Logistic Regression: Uses the sigmoid function to map values between 0 and 1, representing the probability of belonging to a particular class.\n",
        "Softmax Regression: Uses the softmax function, which normalizes the outputs to a probability distribution across multiple classes (sum of probabilities = 1).\n",
        "3. Decision Rule:\n",
        "Logistic Regression: Assigns the class based on a threshold (usually 0.5).\n",
        "Softmax Regression: Assigns the class with the highest probability.\n",
        "\n",
        "4. Use Case:\n",
        "Logistic Regression: If your problem involves only two possible categories, logistic regression is the right choice.\n",
        "Softmax Regression: If your problem involves three or more categories, softmax regression is preferred.\n",
        "5. Model Complexity:\n",
        "Logistic Regression: Simpler, as it only has one decision boundary.\n",
        "Softmax Regression: More complex, as it requires multiple weights and biases for multiple classes.\n",
        "\n",
        "Example:\n",
        "\n",
        "Logistic Regression: Classifying emails as spam or not spam.\n",
        "\n",
        "Softmax Regression: Classifying an image as cat, dog, or bird."
      ],
      "metadata": {
        "id": "E38FqhuzW5mB"
      }
    },
    {
      "cell_type": "markdown",
      "source": [
        "19.How do we choose between One-vs-Rest (OvR) and Softmax for multiclass classification.\n",
        "\n",
        "When dealing with multiclass classification, you have two common strategies: One-vs-Rest (OvR) and Softmax (Multinomial Logistic Regression). Choosing between them depends on several factors:\n",
        "\n",
        "1. One-vs-Rest (OvR)\n",
        "\n",
        "How It Works\n",
        "Trains N binary classifiers, one for each class.\n",
        "Each classifier predicts whether a sample belongs to its assigned class or not.\n",
        "The class with the highest confidence score is chosen.\n",
        "\n",
        "Advantages\n",
        "\n",
        "Works well with linear classifiers (like SVMs, Logistic Regression).\n",
        "\n",
        "Better for imbalanced datasets, since each classifier deals with a binary problem.\n",
        "\n",
        "More interpretable, as each class has a separate model.\n",
        "\n",
        "Scales well for high-dimensional data (e.g., text classification with TF-IDF).\n",
        "\n",
        "Disadvantages\n",
        "\n",
        "More computational cost (N models instead of one).\n",
        "\n",
        "Can be inconsistent, as each classifier is trained independently.\n",
        "\n",
        "2. Softmax (Multinomial Logistic Regression)\n",
        "\n",
        "How It Works\n",
        "\n",
        "Trains a single model that directly predicts the probability of each class.\n",
        "Uses the softmax activation function to output probabilities summing to 1.\n",
        "Cross-entropy loss is used to optimize the entire model jointly.\n",
        "\n",
        "Advantages\n",
        "\n",
        " More efficient, as only one model is trained.\n",
        "\n",
        "Better calibrated probabilities (since all classes are optimized together).\n",
        "\n",
        "Preferred for neural networks and deep learning models.\n",
        "\n",
        "Disadvantages\n",
        "\n",
        "May struggle with imbalanced datasets (without proper weighting).\n",
        "\n",
        "Requires more data to generalize well."
      ],
      "metadata": {
        "id": "uH3R3FDKXNk6"
      }
    },
    {
      "cell_type": "markdown",
      "source": [
        "20.How do we interpret coefficients in Logistic Regression?\n",
        "\n",
        "In Logistic Regression, the coefficients represent the relationship between each independent variable and the log-odds of the dependent variable being in the positive class. However, interpreting these coefficients directly can be tricky because they are in terms of log-odds rather than probabilities.\n",
        "\n",
        "Steps to Interpret Coefficients:\n",
        "Log-Odds Interpretation:\n",
        "\n",
        "The coefficient\n",
        "\n",
        "β\n",
        "i\n",
        "​\n",
        "  associated with a predictor\n",
        "X\n",
        "i,means that for a one-unit increase in\n",
        "\n",
        "X\n",
        "i\n",
        "​\n",
        " , the log-odds of the outcome (dependent variable) changes by\n",
        "\n",
        "β\n",
        "i\n",
        "​\n",
        " .\n",
        "Odds Ratio (Exponentiate Coefficients):\n",
        "\n",
        "Since the logistic function is nonlinear, we exponentiate the coefficient to interpret it in terms of odds:\n",
        "\n",
        "e\n",
        "β\n",
        "i\n",
        "​\n",
        "\n",
        "\n",
        "This gives the odds ratio, which tells us how much the odds of the positive outcome change for each unit increase in\n",
        "\n",
        "X\n",
        "i\n",
        "​\n",
        " .\n",
        "Interpretation of the Odds Ratio:\n",
        "\n",
        "If\n",
        "\n",
        "e**\n",
        "β\n",
        "i\n",
        "​>1, increasing\n",
        "\n",
        "X\n",
        "i\n",
        "​\n",
        "  increases the odds of the outcome.\n",
        "If\n",
        "\n",
        "e**\n",
        "β\n",
        "i <1, increasing\n",
        "\n",
        "X\n",
        "i\n",
        "​\n",
        "  decreases the odds of the outcome.\n",
        "If\n",
        "\n",
        "e\n",
        "β\n",
        "i\n",
        "​\n",
        "\n",
        " =1,\n",
        "\n",
        "X\n",
        "i\n",
        "​\n",
        "  has no effect on the odds."
      ],
      "metadata": {
        "id": "k2cJldT2XvyS"
      }
    },
    {
      "cell_type": "code",
      "source": [
        "# Practical\n",
        "#1. Write a Python program that loads a dataset, splits it into training and testing sets, applies Logistic Regression, and prints the model accuracy\n",
        "\n",
        "from sklearn.datasets import load_iris\n",
        "from sklearn.model_selection import train_test_split\n",
        "from sklearn.linear_model import LogisticRegression\n",
        "from sklearn.metrics import accuracy_score\n",
        "\n",
        "data = load_iris()\n",
        "X, y = data.data, data.target\n",
        "X_train, X_test, y_train, y_test = train_test_split(X, y, test_size=0.2, random_state=42)\n",
        "model = LogisticRegression(max_iter=200)\n",
        "model.fit(X_train, y_train)\n",
        "y_pred = model.predict(X_test)\n",
        "accuracy = accuracy_score(y_test, y_pred)\n",
        "print(f'Model Accuracy: {accuracy:.2f}')"
      ],
      "metadata": {
        "colab": {
          "base_uri": "https://localhost:8080/"
        },
        "id": "xdr1uhOI0Npt",
        "outputId": "0a3aa511-1ce9-4eee-b29c-9c754f365992"
      },
      "execution_count": null,
      "outputs": [
        {
          "output_type": "stream",
          "name": "stdout",
          "text": [
            "Model Accuracy: 1.00\n"
          ]
        }
      ]
    },
    {
      "cell_type": "code",
      "source": [
        "#2.Write a Python program to apply L1 regularization (Lasso) on a dataset using LogisticRegression(penalty='l1') and print the model accuracy.\n",
        "\n",
        "import numpy as np\n",
        "import pandas as pd\n",
        "from sklearn.model_selection import train_test_split\n",
        "from sklearn.preprocessing import StandardScaler\n",
        "from sklearn.linear_model import LogisticRegression\n",
        "from sklearn.metrics import accuracy_score\n",
        "from sklearn.datasets import load_breast_cancer\n",
        "\n",
        "data = load_breast_cancer()\n",
        "X = data.data\n",
        "y = data.target\n",
        "X_train, X_test, y_train, y_test = train_test_split(X, y, test_size=0.2, random_state=42)\n",
        "scaler = StandardScaler()\n",
        "X_train = scaler.fit_transform(X_train)\n",
        "X_test = scaler.transform(X_test)\n",
        "model = LogisticRegression(penalty='l1', solver='liblinear', C=1.0)\n",
        "model.fit(X_train, y_train)\n",
        "y_pred = model.predict(X_test)\n",
        "accuracy = accuracy_score(y_test, y_pred)\n",
        "print(f'Model Accuracy: {accuracy:.4f}')"
      ],
      "metadata": {
        "colab": {
          "base_uri": "https://localhost:8080/"
        },
        "id": "WBhHcc7T0hPl",
        "outputId": "1d430b14-2687-4d68-d068-689e99185c16"
      },
      "execution_count": null,
      "outputs": [
        {
          "output_type": "stream",
          "name": "stdout",
          "text": [
            "Model Accuracy: 0.9737\n"
          ]
        }
      ]
    },
    {
      "cell_type": "code",
      "source": [
        "#3.Write a Python program to train Logistic Regression with L2 regularization (Ridge) using LogisticRegression(penalty='l2'). Print model accuracy and coefficients.\n",
        "\n",
        "import numpy as np\n",
        "import pandas as pd\n",
        "from sklearn.model_selection import train_test_split\n",
        "from sklearn.preprocessing import StandardScaler\n",
        "from sklearn.linear_model import LogisticRegression\n",
        "from sklearn.metrics import accuracy_score\n",
        "\n",
        "np.random.seed(42)\n",
        "X = np.random.rand(100, 5)\n",
        "y = np.random.randint(0, 2, 100)\n",
        "X_train, X_test, y_train, y_test = train_test_split(X, y, test_size=0.2, random_state=42)\n",
        "scaler = StandardScaler()\n",
        "X_train = scaler.fit_transform(X_train)\n",
        "X_test = scaler.transform(X_test)\n",
        "model = LogisticRegression(penalty='l2', solver='lbfgs')\n",
        "model.fit(X_train, y_train)\n",
        "y_pred = model.predict(X_test)\n",
        "accuracy = accuracy_score(y_test, y_pred)\n",
        "print(f\"Model Accuracy: {accuracy:.4f}\")\n",
        "print(\"Model Coefficients:\")\n",
        "print(model.coef_)"
      ],
      "metadata": {
        "colab": {
          "base_uri": "https://localhost:8080/"
        },
        "id": "8iqg9TWQ0-Ao",
        "outputId": "b12a516a-1928-4be6-b7b6-90d2a2fab293"
      },
      "execution_count": null,
      "outputs": [
        {
          "output_type": "stream",
          "name": "stdout",
          "text": [
            "Model Accuracy: 0.5000\n",
            "Model Coefficients:\n",
            "[[ 0.09727663  0.01586448 -0.10966115  0.09803391  0.00367278]]\n"
          ]
        }
      ]
    },
    {
      "cell_type": "code",
      "source": [
        "#4.Write a Python program to train Logistic Regression with Elastic Net Regularization (penalty='elasticnet').\n",
        "\n",
        "import numpy as np\n",
        "import pandas as pd\n",
        "from sklearn.model_selection import train_test_split\n",
        "from sklearn.preprocessing import StandardScaler\n",
        "from sklearn.linear_model import LogisticRegression\n",
        "from sklearn.metrics import accuracy_score, classification_report\n",
        "\n",
        "np.random.seed(42)\n",
        "X = np.random.rand(1000, 10)\n",
        "y = np.random.randint(0, 2, 1000)\n",
        "X_train, X_test, y_train, y_test = train_test_split(X, y, test_size=0.2, random_state=42)\n",
        "scaler = StandardScaler()\n",
        "X_train = scaler.fit_transform(X_train)\n",
        "X_test = scaler.transform(X_test)\n",
        "log_reg = LogisticRegression(penalty='elasticnet', solver='saga', l1_ratio=0.5, max_iter=1000)\n",
        "log_reg.fit(X_train, y_train)\n",
        "y_pred = log_reg.predict(X_test)\n",
        "accuracy = accuracy_score(y_test, y_pred)\n",
        "print(f'Accuracy: {accuracy:.4f}')\n",
        "print('Classification Report:\\n', classification_report(y_test, y_pred))"
      ],
      "metadata": {
        "colab": {
          "base_uri": "https://localhost:8080/"
        },
        "id": "mSEPE0ZAz1XQ",
        "outputId": "2dbb898b-28c4-4afa-8d75-82b643e06d31"
      },
      "execution_count": null,
      "outputs": [
        {
          "output_type": "stream",
          "name": "stdout",
          "text": [
            "Accuracy: 0.5300\n",
            "Classification Report:\n",
            "               precision    recall  f1-score   support\n",
            "\n",
            "           0       0.55      0.33      0.41       100\n",
            "           1       0.52      0.73      0.61       100\n",
            "\n",
            "    accuracy                           0.53       200\n",
            "   macro avg       0.54      0.53      0.51       200\n",
            "weighted avg       0.54      0.53      0.51       200\n",
            "\n"
          ]
        }
      ]
    },
    {
      "cell_type": "code",
      "source": [
        "#5.Write a Python program to train a Logistic Regression model for multiclass classification using multi_class='ovr'.\n",
        "\n",
        "import warnings\n",
        "warnings.filterwarnings(\"ignore\")\n",
        "\n",
        "from sklearn import datasets\n",
        "from sklearn.model_selection import train_test_split\n",
        "from sklearn.preprocessing import StandardScaler\n",
        "from sklearn.linear_model import LogisticRegression\n",
        "from sklearn.metrics import accuracy_score, classification_report\n",
        "\n",
        "iris = datasets.load_iris()\n",
        "X, y = iris.data, iris.target\n",
        "X_train, X_test, y_train, y_test = train_test_split(X, y, test_size=0.2, random_state=42)\n",
        "scaler = StandardScaler()\n",
        "X_train = scaler.fit_transform(X_train)\n",
        "X_test = scaler.transform(X_test)\n",
        "model = LogisticRegression(multi_class='ovr', solver='liblinear', random_state=42)\n",
        "model.fit(X_train, y_train)\n",
        "y_pred = model.predict(X_test)\n",
        "accuracy = accuracy_score(y_test, y_pred)\n",
        "report = classification_report(y_test, y_pred)\n",
        "print(f'Accuracy: {accuracy:.4f}')\n",
        "print('Classification Report:\\n', report)"
      ],
      "metadata": {
        "colab": {
          "base_uri": "https://localhost:8080/"
        },
        "id": "wnrP5qd60XM2",
        "outputId": "e85c2606-0c6d-4fb5-bd5d-c2460997774a"
      },
      "execution_count": 16,
      "outputs": [
        {
          "output_type": "stream",
          "name": "stdout",
          "text": [
            "Accuracy: 0.9667\n",
            "Classification Report:\n",
            "               precision    recall  f1-score   support\n",
            "\n",
            "           0       1.00      1.00      1.00        10\n",
            "           1       1.00      0.89      0.94         9\n",
            "           2       0.92      1.00      0.96        11\n",
            "\n",
            "    accuracy                           0.97        30\n",
            "   macro avg       0.97      0.96      0.97        30\n",
            "weighted avg       0.97      0.97      0.97        30\n",
            "\n"
          ]
        }
      ]
    },
    {
      "cell_type": "code",
      "source": [
        "#6.Write a Python program to apply GridSearchCV to tune the hyperparameters (C and penalty) of Logistic Regression. Print the best parameters and accuracy.\n",
        "\n",
        "from sklearn.model_selection import GridSearchCV, train_test_split\n",
        "from sklearn.linear_model import LogisticRegression\n",
        "from sklearn.datasets import load_iris\n",
        "from sklearn.metrics import accuracy_score\n",
        "\n",
        "data = load_iris()\n",
        "X, y = data.data, data.target\n",
        "X_train, X_test, y_train, y_test = train_test_split(X, y, test_size=0.2, random_state=42)\n",
        "param_grid = {\n",
        "    'C': [0.01, 0.1, 1, 10, 100],\n",
        "    'penalty': ['l1', 'l2'],\n",
        "    'solver': ['liblinear']\n",
        "}\n",
        "log_reg = LogisticRegression(max_iter=5000)\n",
        "grid_search = GridSearchCV(log_reg, param_grid, cv=5, scoring='accuracy')\n",
        "grid_search.fit(X_train, y_train)\n",
        "print(\"Best Parameters:\", grid_search.best_params_)\n",
        "print(\"Best Cross-Validation Accuracy:\", grid_search.best_score_)\n",
        "best_model = grid_search.best_estimator_\n",
        "y_pred = best_model.predict(X_test)\n",
        "test_accuracy = accuracy_score(y_test, y_pred)\n",
        "print(\"Test Set Accuracy:\", test_accuracy)"
      ],
      "metadata": {
        "colab": {
          "base_uri": "https://localhost:8080/"
        },
        "id": "CXu2wGsw1V-7",
        "outputId": "4f7e0315-fb67-4c66-c84c-f095c12e9994"
      },
      "execution_count": null,
      "outputs": [
        {
          "output_type": "stream",
          "name": "stdout",
          "text": [
            "Best Parameters: {'C': 10, 'penalty': 'l1', 'solver': 'liblinear'}\n",
            "Best Cross-Validation Accuracy: 0.9583333333333334\n",
            "Test Set Accuracy: 1.0\n"
          ]
        }
      ]
    },
    {
      "cell_type": "code",
      "source": [
        "#7.Write a Python program to evaluate Logistic Regression using Stratified K-Fold Cross-Validation. Print the average accuracy.\n",
        "\n",
        "from sklearn.model_selection import StratifiedKFold, cross_val_score\n",
        "from sklearn.linear_model import LogisticRegression\n",
        "from sklearn.datasets import load_iris\n",
        "from sklearn.preprocessing import StandardScaler\n",
        "\n",
        "iris = load_iris()\n",
        "X, y = iris.data, iris.target\n",
        "scaler = StandardScaler()\n",
        "X = scaler.fit_transform(X)\n",
        "model = LogisticRegression(max_iter=200)\n",
        "skf = StratifiedKFold(n_splits=5, shuffle=True, random_state=42)\n",
        "scores = cross_val_score(model, X, y, cv=skf, scoring='accuracy')\n",
        "print(f'Average Accuracy: {scores.mean():.4f}')"
      ],
      "metadata": {
        "colab": {
          "base_uri": "https://localhost:8080/"
        },
        "id": "Uk7D0Pw82iNv",
        "outputId": "f33fce33-d87f-464e-8437-a77bed62f64b"
      },
      "execution_count": null,
      "outputs": [
        {
          "output_type": "stream",
          "name": "stdout",
          "text": [
            "Average Accuracy: 0.9533\n"
          ]
        }
      ]
    },
    {
      "cell_type": "code",
      "source": [
        "#8.Write a Python program to load a dataset from a CSV file, apply Logistic Regression, and evaluate its accuracy.\n",
        "\n",
        "import pandas as pd\n",
        "import numpy as np\n",
        "from sklearn.model_selection import train_test_split\n",
        "from sklearn.linear_model import LogisticRegression\n",
        "from sklearn.metrics import accuracy_score\n",
        "\n",
        "df = pd.read_csv(\"sample_dataset.csv\")\n",
        "\n",
        "X = df[['Feature1', 'Feature2']]\n",
        "y = df['Label']\n",
        "X_train, X_test, y_train, y_test = train_test_split(X, y, test_size=0.2, random_state=42)\n",
        "model = LogisticRegression()\n",
        "model.fit(X_train, y_train)\n",
        "y_pred = model.predict(X_test)\n",
        "accuracy = accuracy_score(y_test, y_pred)\n",
        "print(f'Accuracy: {accuracy:.2f}')"
      ],
      "metadata": {
        "colab": {
          "base_uri": "https://localhost:8080/"
        },
        "id": "rjegHNn02yDo",
        "outputId": "ebae48ad-83bd-4d91-f77c-1bab90a9784b"
      },
      "execution_count": 17,
      "outputs": [
        {
          "output_type": "stream",
          "name": "stdout",
          "text": [
            "Accuracy: 0.95\n"
          ]
        }
      ]
    },
    {
      "cell_type": "code",
      "source": [
        "#9.Write a Python program to apply RandomizedSearchCV for tuning hyperparameters (C, penalty, solver) in Logistic Regression. Print the best parameters and accuracy.\n",
        "\n",
        "import numpy as np\n",
        "import pandas as pd\n",
        "from sklearn.model_selection import train_test_split, RandomizedSearchCV\n",
        "from sklearn.linear_model import LogisticRegression\n",
        "from sklearn.metrics import accuracy_score\n",
        "from sklearn.datasets import load_breast_cancer\n",
        "\n",
        "data = load_breast_cancer()\n",
        "X = data.data\n",
        "y = data.target\n",
        "X_train, X_test, y_train, y_test = train_test_split(X, y, test_size=0.2, random_state=42)\n",
        "param_dist = {\n",
        "    'C': np.logspace(-4, 4, 20),\n",
        "    'penalty': ['l1', 'l2'],\n",
        "    'solver': ['liblinear', 'saga']\n",
        "}\n",
        "log_reg = LogisticRegression(max_iter=5000)\n",
        "random_search = RandomizedSearchCV(log_reg, param_distributions=param_dist, n_iter=20, cv=5, scoring='accuracy', n_jobs=-1, random_state=42)\n",
        "random_search.fit(X_train, y_train)\n",
        "best_params = random_search.best_params_\n",
        "print(\"Best Parameters:\", best_params)\n",
        "best_model = random_search.best_estimator_\n",
        "y_pred = best_model.predict(X_test)\n",
        "accuracy = accuracy_score(y_test, y_pred)\n",
        "print(\"Test Accuracy:\", accuracy)"
      ],
      "metadata": {
        "colab": {
          "base_uri": "https://localhost:8080/"
        },
        "id": "0NruqA7_-0BT",
        "outputId": "257420ea-a6fe-4771-9403-f280bd65fb75"
      },
      "execution_count": 18,
      "outputs": [
        {
          "output_type": "stream",
          "name": "stdout",
          "text": [
            "Best Parameters: {'solver': 'liblinear', 'penalty': 'l2', 'C': 1438.44988828766}\n",
            "Test Accuracy: 0.9824561403508771\n"
          ]
        }
      ]
    },
    {
      "cell_type": "code",
      "source": [
        "#10.Write a Python program to implement One-vs-One (OvO) Multiclass Logistic Regression and print accuracy.\n",
        "\n",
        "import numpy as np\n",
        "import pandas as pd\n",
        "from sklearn.model_selection import train_test_split\n",
        "from sklearn.preprocessing import StandardScaler\n",
        "from sklearn.linear_model import LogisticRegression\n",
        "from sklearn.multiclass import OneVsOneClassifier\n",
        "from sklearn.metrics import accuracy_score\n",
        "from sklearn.datasets import load_iris\n",
        "\n",
        "iris = load_iris()\n",
        "X, y = iris.data, iris.target\n",
        "X_train, X_test, y_train, y_test = train_test_split(X, y, test_size=0.2, random_state=42)\n",
        "scaler = StandardScaler()\n",
        "X_train = scaler.fit_transform(X_train)\n",
        "X_test = scaler.transform(X_test)\n",
        "ovo_clf = OneVsOneClassifier(LogisticRegression(max_iter=200))\n",
        "ovo_clf.fit(X_train, y_train)\n",
        "y_pred = ovo_clf.predict(X_test)\n",
        "accuracy = accuracy_score(y_test, y_pred)\n",
        "print(f\"One-vs-One Logistic Regression Accuracy: {accuracy:.4f}\")"
      ],
      "metadata": {
        "colab": {
          "base_uri": "https://localhost:8080/"
        },
        "id": "zt0ebqFB_UGN",
        "outputId": "92a002b5-e642-4a43-905e-c25189baa357"
      },
      "execution_count": 19,
      "outputs": [
        {
          "output_type": "stream",
          "name": "stdout",
          "text": [
            "One-vs-One Logistic Regression Accuracy: 1.0000\n"
          ]
        }
      ]
    },
    {
      "cell_type": "code",
      "source": [
        "#11.Write a Python program to train a Logistic Regression model and visualize the confusion matrix for binary classification.\n",
        "\n",
        "import numpy as np\n",
        "import matplotlib.pyplot as plt\n",
        "import seaborn as sns\n",
        "from sklearn.model_selection import train_test_split\n",
        "from sklearn.linear_model import LogisticRegression\n",
        "from sklearn.metrics import confusion_matrix, classification_report\n",
        "from sklearn.datasets import make_classification\n",
        "\n",
        "X, y = make_classification(n_samples=1000, n_features=5, random_state=42)\n",
        "X_train, X_test, y_train, y_test = train_test_split(X, y, test_size=0.2, random_state=42)\n",
        "model = LogisticRegression()\n",
        "model.fit(X_train, y_train)\n",
        "y_pred = model.predict(X_test)\n",
        "cm = confusion_matrix(y_test, y_pred)\n",
        "plt.figure(figsize=(6, 5))\n",
        "sns.heatmap(cm, annot=True, fmt=\"d\", cmap=\"Blues\", xticklabels=[\"Negative\", \"Positive\"], yticklabels=[\"Negative\", \"Positive\"])\n",
        "plt.xlabel(\"Predicted\")\n",
        "plt.ylabel(\"Actual\")\n",
        "plt.title(\"Confusion Matrix\")\n",
        "plt.show()\n",
        "print(\"Classification Report:\\n\", classification_report(y_test, y_pred))"
      ],
      "metadata": {
        "colab": {
          "base_uri": "https://localhost:8080/",
          "height": 661
        },
        "id": "IdAcJjzj_oFC",
        "outputId": "fed220ec-1ada-4782-f8f1-24fb3cd271ae"
      },
      "execution_count": 20,
      "outputs": [
        {
          "output_type": "display_data",
          "data": {
            "text/plain": [
              "<Figure size 600x500 with 2 Axes>"
            ],
            "image/png": "[encoded data removed]"
          },
          "metadata": {}
        },
        {
          "output_type": "stream",
          "name": "stdout",
          "text": [
            "Classification Report:\n",
            "               precision    recall  f1-score   support\n",
            "\n",
            "           0       0.85      0.92      0.88        97\n",
            "           1       0.92      0.84      0.88       103\n",
            "\n",
            "    accuracy                           0.88       200\n",
            "   macro avg       0.88      0.88      0.88       200\n",
            "weighted avg       0.88      0.88      0.88       200\n",
            "\n"
          ]
        }
      ]
    },
    {
      "cell_type": "code",
      "source": [
        "#12.Write a Python program to train a Logistic Regression model and evaluate its performance using Precision Recall, and F1-Score.\n",
        "\n",
        "import numpy as np\n",
        "import pandas as pd\n",
        "from sklearn.model_selection import train_test_split\n",
        "from sklearn.preprocessing import StandardScaler\n",
        "from sklearn.linear_model import LogisticRegression\n",
        "from sklearn.metrics import precision_score, recall_score, f1_score, accuracy_score\n",
        "\n",
        "np.random.seed(42)\n",
        "X = np.random.rand(1000, 5)\n",
        "y = np.random.randint(0, 2, 1000)\n",
        "X_train, X_test, y_train, y_test = train_test_split(X, y, test_size=0.2, random_state=42)\n",
        "scaler = StandardScaler()\n",
        "X_train = scaler.fit_transform(X_train)\n",
        "X_test = scaler.transform(X_test)\n",
        "model = LogisticRegression()\n",
        "model.fit(X_train, y_train)\n",
        "y_pred = model.predict(X_test)\n",
        "accuracy = accuracy_score(y_test, y_pred)\n",
        "precision = precision_score(y_test, y_pred)\n",
        "recall = recall_score(y_test, y_pred)\n",
        "f1 = f1_score(y_test, y_pred)\n",
        "print(f\"Accuracy: {accuracy:.4f}\")\n",
        "print(f\"Precision: {precision:.4f}\")\n",
        "print(f\"Recall: {recall:.4f}\")\n",
        "print(f\"F1-Score: {f1:.4f}\")"
      ],
      "metadata": {
        "colab": {
          "base_uri": "https://localhost:8080/"
        },
        "id": "CZ7W90pH_6Gt",
        "outputId": "3911b8c4-60a8-4463-c567-904a31e8ca17"
      },
      "execution_count": 21,
      "outputs": [
        {
          "output_type": "stream",
          "name": "stdout",
          "text": [
            "Accuracy: 0.5500\n",
            "Precision: 0.5396\n",
            "Recall: 0.7426\n",
            "F1-Score: 0.6250\n"
          ]
        }
      ]
    },
    {
      "cell_type": "code",
      "source": [
        "#13.Write a Python program to train a Logistic Regression model on imbalanced data and apply class weights to improve model performance.\n",
        "\n",
        "import numpy as np\n",
        "import pandas as pd\n",
        "from sklearn.model_selection import train_test_split\n",
        "from sklearn.preprocessing import StandardScaler\n",
        "from sklearn.linear_model import LogisticRegression\n",
        "from sklearn.metrics import classification_report, confusion_matrix\n",
        "from sklearn.utils import resample\n",
        "\n",
        "np.random.seed(42)\n",
        "n_samples = 1000\n",
        "n_features = 5\n",
        "X = np.random.rand(n_samples, n_features)\n",
        "y = np.hstack((np.zeros(int(0.9 * n_samples)), np.ones(int(0.1 * n_samples))))\n",
        "indices = np.arange(n_samples)\n",
        "np.random.shuffle(indices)\n",
        "X, y = X[indices], y[indices]\n",
        "X_train, X_test, y_train, y_test = train_test_split(X, y, test_size=0.2, random_state=42, stratify=y)\n",
        "scaler = StandardScaler()\n",
        "X_train = scaler.fit_transform(X_train)\n",
        "X_test = scaler.transform(X_test)\n",
        "model = LogisticRegression(class_weight='balanced', random_state=42)\n",
        "model.fit(X_train, y_train)\n",
        "y_pred = model.predict(X_test)\n",
        "print(\"Confusion Matrix:\")\n",
        "print(confusion_matrix(y_test, y_pred))\n",
        "print(\"\\nClassification Report:\")\n",
        "print(classification_report(y_test, y_pred))\n"
      ],
      "metadata": {
        "colab": {
          "base_uri": "https://localhost:8080/"
        },
        "id": "IeCjkLJWAUyB",
        "outputId": "17410694-43e0-440d-c154-90eaef0a3f33"
      },
      "execution_count": 22,
      "outputs": [
        {
          "output_type": "stream",
          "name": "stdout",
          "text": [
            "Confusion Matrix:\n",
            "[[98 82]\n",
            " [13  7]]\n",
            "\n",
            "Classification Report:\n",
            "              precision    recall  f1-score   support\n",
            "\n",
            "         0.0       0.88      0.54      0.67       180\n",
            "         1.0       0.08      0.35      0.13        20\n",
            "\n",
            "    accuracy                           0.53       200\n",
            "   macro avg       0.48      0.45      0.40       200\n",
            "weighted avg       0.80      0.52      0.62       200\n",
            "\n"
          ]
        }
      ]
    },
    {
      "cell_type": "code",
      "source": [
        "#14.Write a Python program to train Logistic Regression on the Titanic dataset, handle missing values, and evaluate performance.\n",
        "\n",
        "import pandas as pd\n",
        "import numpy as np\n",
        "from sklearn.model_selection import train_test_split\n",
        "from sklearn.preprocessing import StandardScaler\n",
        "from sklearn.impute import SimpleImputer\n",
        "from sklearn.linear_model import LogisticRegression\n",
        "from sklearn.metrics import accuracy_score, classification_report\n",
        "\n",
        "df = pd.read_csv(\"titanic.csv\")\n",
        "features = [\"Pclass\", \"Sex\", \"Age\", \"SibSp\", \"Parch\", \"Fare\", \"Embarked\"]\n",
        "df = df[features + [\"Survived\"]]\n",
        "imputer = SimpleImputer(strategy=\"most_frequent\")\n",
        "df[\"Age\"] = df[[\"Age\"]].fillna(df[\"Age\"].median())\n",
        "df[\"Embarked\"] = imputer.fit_transform(df[[\"Embarked\"]]).ravel()\n",
        "df = pd.get_dummies(df, columns=[\"Sex\", \"Embarked\"], drop_first=True)\n",
        "X = df.drop(columns=[\"Survived\"])\n",
        "y = df[\"Survived\"]\n",
        "X_train, X_test, y_train, y_test = train_test_split(X, y, test_size=0.2, random_state=42)\n",
        "scaler = StandardScaler()\n",
        "X_train = scaler.fit_transform(X_train)\n",
        "X_test = scaler.transform(X_test)\n",
        "model = LogisticRegression()\n",
        "model.fit(X_train, y_train)\n",
        "y_pred = model.predict(X_test)\n",
        "accuracy = accuracy_score(y_test, y_pred)\n",
        "print(f\"Accuracy: {accuracy:.4f}\")\n",
        "print(\"Classification Report:\")\n",
        "print(classification_report(y_test, y_pred))"
      ],
      "metadata": {
        "colab": {
          "base_uri": "https://localhost:8080/"
        },
        "id": "PAxLfA98AnVt",
        "outputId": "d3af8941-44b1-43db-9102-d39be09e3939"
      },
      "execution_count": 27,
      "outputs": [
        {
          "output_type": "stream",
          "name": "stdout",
          "text": [
            "Accuracy: 0.8101\n",
            "Classification Report:\n",
            "              precision    recall  f1-score   support\n",
            "\n",
            "           0       0.83      0.86      0.84       105\n",
            "           1       0.79      0.74      0.76        74\n",
            "\n",
            "    accuracy                           0.81       179\n",
            "   macro avg       0.81      0.80      0.80       179\n",
            "weighted avg       0.81      0.81      0.81       179\n",
            "\n"
          ]
        }
      ]
    },
    {
      "cell_type": "code",
      "source": [
        "#15.Write a Python program to apply feature scaling (Standardization) before training a Logistic Regression model. Evaluate its accuracy and compare results with and without scaling.\n",
        "\n",
        "import numpy as np\n",
        "import pandas as pd\n",
        "from sklearn.model_selection import train_test_split\n",
        "from sklearn.preprocessing import StandardScaler\n",
        "from sklearn.linear_model import LogisticRegression\n",
        "from sklearn.metrics import accuracy_score\n",
        "from sklearn.datasets import load_iris\n",
        "\n",
        "data = load_iris()\n",
        "X = data.data\n",
        "y = (data.target != 0).astype(int)\n",
        "X_train, X_test, y_train, y_test = train_test_split(X, y, test_size=0.2, random_state=42)\n",
        "model_no_scaling = LogisticRegression()\n",
        "model_no_scaling.fit(X_train, y_train)\n",
        "y_pred_no_scaling = model_no_scaling.predict(X_test)\n",
        "accuracy_no_scaling = accuracy_score(y_test, y_pred_no_scaling)\n",
        "scaler = StandardScaler()\n",
        "X_train_scaled = scaler.fit_transform(X_train)\n",
        "X_test_scaled = scaler.transform(X_test)\n",
        "model_scaled = LogisticRegression()\n",
        "model_scaled.fit(X_train_scaled, y_train)\n",
        "y_pred_scaled = model_scaled.predict(X_test_scaled)\n",
        "accuracy_scaled = accuracy_score(y_test, y_pred_scaled)\n",
        "print(f\"Accuracy without scaling: {accuracy_no_scaling:.4f}\")\n",
        "print(f\"Accuracy with scaling: {accuracy_scaled:.4f}\")\n"
      ],
      "metadata": {
        "colab": {
          "base_uri": "https://localhost:8080/"
        },
        "id": "-r7HBgVFB-H7",
        "outputId": "dea47879-5e29-4749-f403-73690c2b889a"
      },
      "execution_count": 28,
      "outputs": [
        {
          "output_type": "stream",
          "name": "stdout",
          "text": [
            "Accuracy without scaling: 1.0000\n",
            "Accuracy with scaling: 1.0000\n"
          ]
        }
      ]
    },
    {
      "cell_type": "code",
      "source": [
        "#16.Write a Python program to train Logistic Regression and evaluate its performance using ROC-AUC score.\n",
        "\n",
        "import numpy as np\n",
        "import pandas as pd\n",
        "from sklearn.model_selection import train_test_split\n",
        "from sklearn.preprocessing import StandardScaler\n",
        "from sklearn.linear_model import LogisticRegression\n",
        "from sklearn.metrics import roc_auc_score, roc_curve\n",
        "import matplotlib.pyplot as plt\n",
        "\n",
        "from sklearn.datasets import make_classification\n",
        "data, labels = make_classification(n_samples=1000, n_features=10, random_state=42)\n",
        "X_train, X_test, y_train, y_test = train_test_split(data, labels, test_size=0.2, random_state=42)\n",
        "scaler = StandardScaler()\n",
        "X_train = scaler.fit_transform(X_train)\n",
        "X_test = scaler.transform(X_test)\n",
        "model = LogisticRegression()\n",
        "model.fit(X_train, y_train)\n",
        "y_probs = model.predict_proba(X_test)[:, 1]\n",
        "roc_auc = roc_auc_score(y_test, y_probs)\n",
        "print(f'ROC-AUC Score: {roc_auc:.4f}')\n",
        "fpr, tpr, _ = roc_curve(y_test, y_probs)\n",
        "plt.figure(figsize=(8, 6))\n",
        "plt.plot(fpr, tpr, color='blue', label=f'ROC Curve (AUC = {roc_auc:.4f})')\n",
        "plt.plot([0, 1], [0, 1], linestyle='--', color='gray')\n",
        "plt.xlabel('False Positive Rate')\n",
        "plt.ylabel('True Positive Rate')\n",
        "plt.title('Receiver Operating Characteristic (ROC) Curve')\n",
        "plt.legend()\n",
        "plt.show()"
      ],
      "metadata": {
        "colab": {
          "base_uri": "https://localhost:8080/",
          "height": 581
        },
        "id": "zftXnAEQCSPc",
        "outputId": "e3d367c0-9da5-4991-b237-97d94af11903"
      },
      "execution_count": 29,
      "outputs": [
        {
          "output_type": "stream",
          "name": "stdout",
          "text": [
            "ROC-AUC Score: 0.9128\n"
          ]
        },
        {
          "output_type": "display_data",
          "data": {
            "text/plain": [
              "<Figure size 800x600 with 1 Axes>"
            ],
            "image/png": "[encoded data removed]"
          },
          "metadata": {}
        }
      ]
    },
    {
      "cell_type": "code",
      "source": [
        "#17.Write a Python program to train Logistic Regression using a custom learning rate (C=0.5) and evaluate accuracy.\n",
        "\n",
        "import numpy as np\n",
        "import pandas as pd\n",
        "from sklearn.model_selection import train_test_split\n",
        "from sklearn.preprocessing import StandardScaler\n",
        "from sklearn.linear_model import LogisticRegression\n",
        "from sklearn.metrics import accuracy_score\n",
        "\n",
        "np.random.seed(42)\n",
        "X = np.random.rand(100, 5)\n",
        "y = np.random.randint(0, 2, 100)\n",
        "X_train, X_test, y_train, y_test = train_test_split(X, y, test_size=0.2, random_state=42)\n",
        "scaler = StandardScaler()\n",
        "X_train = scaler.fit_transform(X_train)\n",
        "X_test = scaler.transform(X_test)\n",
        "model = LogisticRegression(C=0.5, random_state=42)\n",
        "model.fit(X_train, y_train)\n",
        "y_pred = model.predict(X_test)\n",
        "accuracy = accuracy_score(y_test, y_pred)\n",
        "print(f\"Accuracy: {accuracy:.2f}\")"
      ],
      "metadata": {
        "colab": {
          "base_uri": "https://localhost:8080/"
        },
        "id": "WL1OxoBGKNSK",
        "outputId": "7692b282-fa93-4f9b-8c7a-790d92878ab9"
      },
      "execution_count": 30,
      "outputs": [
        {
          "output_type": "stream",
          "name": "stdout",
          "text": [
            "Accuracy: 0.50\n"
          ]
        }
      ]
    },
    {
      "cell_type": "code",
      "source": [
        "#18.Write a Python program to train Logistic Regression and identify important features based on model coefficients\n",
        "\n",
        "import numpy as np\n",
        "import pandas as pd\n",
        "from sklearn.model_selection import train_test_split\n",
        "from sklearn.preprocessing import StandardScaler\n",
        "from sklearn.linear_model import LogisticRegression\n",
        "from sklearn.datasets import load_breast_cancer\n",
        "\n",
        "data = load_breast_cancer()\n",
        "df = pd.DataFrame(data.data, columns=data.feature_names)\n",
        "y = data.target\n",
        "X_train, X_test, y_train, y_test = train_test_split(df, y, test_size=0.2, random_state=42)\n",
        "scaler = StandardScaler()\n",
        "X_train_scaled = scaler.fit_transform(X_train)\n",
        "X_test_scaled = scaler.transform(X_test)\n",
        "model = LogisticRegression(max_iter=1000)\n",
        "model.fit(X_train_scaled, y_train)\n",
        "feature_importance = np.abs(model.coef_[0])\n",
        "feature_importance_df = pd.DataFrame({'Feature': data.feature_names, 'Importance': feature_importance})\n",
        "feature_importance_df = feature_importance_df.sort_values(by='Importance', ascending=False)\n",
        "print(\"Top important features:\")\n",
        "print(feature_importance_df.head(10))"
      ],
      "metadata": {
        "colab": {
          "base_uri": "https://localhost:8080/"
        },
        "id": "TbV3ByJbKhxs",
        "outputId": "6478e5de-7bf6-48cb-f609-5ff238ebe8cf"
      },
      "execution_count": 31,
      "outputs": [
        {
          "output_type": "stream",
          "name": "stdout",
          "text": [
            "Top important features:\n",
            "                 Feature  Importance\n",
            "21         worst texture    1.350606\n",
            "10          radius error    1.268178\n",
            "28        worst symmetry    1.208200\n",
            "7    mean concave points    1.119804\n",
            "26       worst concavity    0.943053\n",
            "13            area error    0.907186\n",
            "20          worst radius    0.879840\n",
            "23            worst area    0.841846\n",
            "6         mean concavity    0.801458\n",
            "27  worst concave points    0.778217\n"
          ]
        }
      ]
    },
    {
      "cell_type": "code",
      "source": [
        "#19.Write a Python program to train Logistic Regression and evaluate its performance using Cohen’s Kappa Score.\n",
        "\n",
        "import numpy as np\n",
        "import pandas as pd\n",
        "from sklearn.model_selection import train_test_split\n",
        "from sklearn.preprocessing import StandardScaler\n",
        "from sklearn.linear_model import LogisticRegression\n",
        "from sklearn.metrics import cohen_kappa_score\n",
        "from sklearn.datasets import make_classification\n",
        "\n",
        "X, y = make_classification(n_samples=1000, n_features=10, random_state=42)\n",
        "X_train, X_test, y_train, y_test = train_test_split(X, y, test_size=0.2, random_state=42)\n",
        "scaler = StandardScaler()\n",
        "X_train = scaler.fit_transform(X_train)\n",
        "X_test = scaler.transform(X_test)\n",
        "model = LogisticRegression()\n",
        "model.fit(X_train, y_train)\n",
        "y_pred = model.predict(X_test)\n",
        "kappa_score = cohen_kappa_score(y_test, y_pred)\n",
        "print(f\"Cohen's Kappa Score: {kappa_score:.4f}\")"
      ],
      "metadata": {
        "colab": {
          "base_uri": "https://localhost:8080/"
        },
        "id": "luejLcbgK0kF",
        "outputId": "d236bbae-9c85-4139-9240-6996fd1afb62"
      },
      "execution_count": 33,
      "outputs": [
        {
          "output_type": "stream",
          "name": "stdout",
          "text": [
            "Cohen's Kappa Score: 0.6581\n"
          ]
        }
      ]
    },
    {
      "cell_type": "code",
      "source": [
        "#20.Write a Python program to train Logistic Regression and visualize the Precision-Recall Curve for binary classificatio.\n",
        "\n",
        "import numpy as np\n",
        "import matplotlib.pyplot as plt\n",
        "from sklearn.model_selection import train_test_split\n",
        "from sklearn.datasets import make_classification\n",
        "from sklearn.linear_model import LogisticRegression\n",
        "from sklearn.metrics import precision_recall_curve, auc\n",
        "\n",
        "\n",
        "X, y = make_classification(n_samples=1000, n_features=10, random_state=42)\n",
        "X_train, X_test, y_train, y_test = train_test_split(X, y, test_size=0.2, random_state=42)\n",
        "model = LogisticRegression()\n",
        "model.fit(X_train, y_train)\n",
        "y_scores = model.predict_proba(X_test)[:, 1]\n",
        "precision, recall, _ = precision_recall_curve(y_test, y_scores)\n",
        "pr_auc = auc(recall, precision)\n",
        "plt.figure(figsize=(8, 6))\n",
        "plt.plot(recall, precision, marker='.', label=f'Logistic Regression (AUC = {pr_auc:.2f})')\n",
        "plt.xlabel('Recall')\n",
        "plt.ylabel('Precision')\n",
        "plt.title('Precision-Recall Curve')\n",
        "plt.legend()\n",
        "plt.grid()\n",
        "plt.show()"
      ],
      "metadata": {
        "colab": {
          "base_uri": "https://localhost:8080/",
          "height": 564
        },
        "id": "9gzP5zguLJ6c",
        "outputId": "92db61a0-d32c-4650-b8b9-28f8c163be7f"
      },
      "execution_count": 34,
      "outputs": [
        {
          "output_type": "display_data",
          "data": {
            "text/plain": [
              "<Figure size 800x600 with 1 Axes>"
            ],
            "image/png": "[encoded data removed]"
          },
          "metadata": {}
        }
      ]
    },
    {
      "cell_type": "code",
      "source": [
        "#21.Write a Python program to train Logistic Regression with different solvers (liblinear, saga, lbfgs) and compare their accuracy.\n",
        "\n",
        "\n",
        "\n",
        "from sklearn.datasets import load_iris\n",
        "from sklearn.model_selection import train_test_split\n",
        "from sklearn.preprocessing import StandardScaler\n",
        "from sklearn.linear_model import LogisticRegression\n",
        "from sklearn.metrics import accuracy_score\n",
        "\n",
        "data = load_iris()\n",
        "X, y = data.data, data.target\n",
        "X_train, X_test, y_train, y_test = train_test_split(X, y, test_size=0.2, random_state=42)\n",
        "scaler = StandardScaler()\n",
        "X_train = scaler.fit_transform(X_train)\n",
        "X_test = scaler.transform(X_test)\n",
        "solvers = ['liblinear', 'saga', 'lbfgs']\n",
        "accuracy_results = {}\n",
        "for solver in solvers:\n",
        "    model = LogisticRegression(solver=solver, max_iter=500, random_state=42, multi_class='auto')\n",
        "    model.fit(X_train, y_train)\n",
        "    y_pred = model.predict(X_test)\n",
        "    accuracy = accuracy_score(y_test, y_pred)\n",
        "    accuracy_results[solver] = accuracy\n",
        "    print(f\"Solver: {solver}, Accuracy: {accuracy:.4f}\")\n",
        "print(\"\\nAccuracy Comparison:\")\n",
        "for solver, acc in accuracy_results.items():\n",
        "    print(f\"{solver}: {acc:.4f}\")"
      ],
      "metadata": {
        "colab": {
          "base_uri": "https://localhost:8080/"
        },
        "id": "RDsnBJC7LZ_x",
        "outputId": "5944b2d1-a5a0-4c56-866c-97b03e93a2de"
      },
      "execution_count": 35,
      "outputs": [
        {
          "output_type": "stream",
          "name": "stdout",
          "text": [
            "Solver: liblinear, Accuracy: 0.9667\n",
            "Solver: saga, Accuracy: 1.0000\n",
            "Solver: lbfgs, Accuracy: 1.0000\n",
            "\n",
            "Accuracy Comparison:\n",
            "liblinear: 0.9667\n",
            "saga: 1.0000\n",
            "lbfgs: 1.0000\n"
          ]
        }
      ]
    },
    {
      "cell_type": "code",
      "source": [
        "#22.Write a Python program to train Logistic Regression and evaluate its performance using Matthews Correlation Coefficient (MCC).\n",
        "\n",
        "import numpy as np\n",
        "import pandas as pd\n",
        "from sklearn.model_selection import train_test_split\n",
        "from sklearn.preprocessing import StandardScaler\n",
        "from sklearn.linear_model import LogisticRegression\n",
        "from sklearn.metrics import matthews_corrcoef\n",
        "\n",
        "np.random.seed(42)\n",
        "n_samples = 1000\n",
        "X = np.random.randn(n_samples, 5)\n",
        "y = np.random.choice([0, 1], size=n_samples)\n",
        "X_train, X_test, y_train, y_test = train_test_split(X, y, test_size=0.2, random_state=42)\n",
        "scaler = StandardScaler()\n",
        "X_train = scaler.fit_transform(X_train)\n",
        "X_test = scaler.transform(X_test)\n",
        "model = LogisticRegression()\n",
        "model.fit(X_train, y_train)\n",
        "y_pred = model.predict(X_test)\n",
        "mcc = matthews_corrcoef(y_test, y_pred)\n",
        "print(f\"Matthews Correlation Coefficient (MCC): {mcc:.4f}\")"
      ],
      "metadata": {
        "colab": {
          "base_uri": "https://localhost:8080/"
        },
        "id": "u0qbyqnGLsvo",
        "outputId": "ba8562ec-0a04-40af-b622-21dbccde777d"
      },
      "execution_count": 36,
      "outputs": [
        {
          "output_type": "stream",
          "name": "stdout",
          "text": [
            "Matthews Correlation Coefficient (MCC): -0.0329\n"
          ]
        }
      ]
    },
    {
      "cell_type": "code",
      "source": [
        "#23.Write a Python program to train Logistic Regression on both raw and standardized data. Compare their accuracy to see the impact of feature scaling.\n",
        "\n",
        "import numpy as np\n",
        "import pandas as pd\n",
        "from sklearn.model_selection import train_test_split\n",
        "from sklearn.preprocessing import StandardScaler\n",
        "from sklearn.linear_model import LogisticRegression\n",
        "from sklearn.metrics import accuracy_score\n",
        "from sklearn.datasets import load_breast_cancer\n",
        "\n",
        "data = load_breast_cancer()\n",
        "X, y = data.data, data.target\n",
        "X_train, X_test, y_train, y_test = train_test_split(X, y, test_size=0.2, random_state=42)\n",
        "model_raw = LogisticRegression(max_iter=1000, random_state=42)\n",
        "model_raw.fit(X_train, y_train)\n",
        "y_pred_raw = model_raw.predict(X_test)\n",
        "accuracy_raw = accuracy_score(y_test, y_pred_raw)\n",
        "scaler = StandardScaler()\n",
        "X_train_scaled = scaler.fit_transform(X_train)\n",
        "X_test_scaled = scaler.transform(X_test)\n",
        "model_scaled = LogisticRegression(max_iter=1000, random_state=42)\n",
        "model_scaled.fit(X_train_scaled, y_train)\n",
        "y_pred_scaled = model_scaled.predict(X_test_scaled)\n",
        "accuracy_scaled = accuracy_score(y_test, y_pred_scaled)\n",
        "print(f\"Accuracy on raw data: {accuracy_raw:.4f}\")\n",
        "print(f\"Accuracy on standardized data: {accuracy_scaled:.4f}\")"
      ],
      "metadata": {
        "colab": {
          "base_uri": "https://localhost:8080/"
        },
        "id": "gfjODAZFL91T",
        "outputId": "f311f6f5-72fc-4c34-8241-4b406bc7c086"
      },
      "execution_count": 37,
      "outputs": [
        {
          "output_type": "stream",
          "name": "stdout",
          "text": [
            "Accuracy on raw data: 0.9561\n",
            "Accuracy on standardized data: 0.9737\n"
          ]
        }
      ]
    },
    {
      "cell_type": "code",
      "source": [
        "#24. Write a Python program to train Logistic Regression and find the optimal C (regularization strength) using cross-validation.\n",
        "\n",
        "import numpy as np\n",
        "import pandas as pd\n",
        "from sklearn.model_selection import train_test_split, GridSearchCV\n",
        "from sklearn.preprocessing import StandardScaler\n",
        "from sklearn.linear_model import LogisticRegression\n",
        "from sklearn.metrics import accuracy_score\n",
        "from sklearn.datasets import make_classification\n",
        "\n",
        "X, y = make_classification(n_samples=1000, n_features=20, random_state=42)\n",
        "X_train, X_test, y_train, y_test = train_test_split(X, y, test_size=0.2, random_state=42)\n",
        "scaler = StandardScaler()\n",
        "X_train = scaler.fit_transform(X_train)\n",
        "X_test = scaler.transform(X_test)\n",
        "log_reg = LogisticRegression(max_iter=1000, solver='liblinear')\n",
        "param_grid = {'C': np.logspace(-4, 4, 10)}\n",
        "grid_search = GridSearchCV(log_reg, param_grid, cv=5, scoring='accuracy')\n",
        "grid_search.fit(X_train, y_train)\n",
        "best_C = grid_search.best_params_['C']\n",
        "print(f\"Optimal C: {best_C}\")\n",
        "best_log_reg = LogisticRegression(C=best_C, max_iter=1000, solver='liblinear')\n",
        "best_log_reg.fit(X_train, y_train)\n",
        "y_pred = best_log_reg.predict(X_test)\n",
        "accuracy = accuracy_score(y_test, y_pred)\n",
        "print(f\"Test Accuracy: {accuracy:.4f}\")"
      ],
      "metadata": {
        "colab": {
          "base_uri": "https://localhost:8080/"
        },
        "id": "6ZvBVUn5MQSK",
        "outputId": "41f5098e-e58f-4062-d011-cda2bb9a008c"
      },
      "execution_count": 38,
      "outputs": [
        {
          "output_type": "stream",
          "name": "stdout",
          "text": [
            "Optimal C: 0.046415888336127774\n",
            "Test Accuracy: 0.8600\n"
          ]
        }
      ]
    },
    {
      "cell_type": "code",
      "source": [
        "#25.Write a Python program to train Logistic Regression, save the trained model using joblib, and load it again to make predictions.\n",
        "\n",
        "import numpy as np\n",
        "import joblib\n",
        "from sklearn.model_selection import train_test_split\n",
        "from sklearn.preprocessing import StandardScaler\n",
        "from sklearn.linear_model import LogisticRegression\n",
        "from sklearn.datasets import load_iris\n",
        "\n",
        "iris = load_iris()\n",
        "X, y = iris.data, iris.target\n",
        "X_train, X_test, y_train, y_test = train_test_split(X, y, test_size=0.2, random_state=42)\n",
        "scaler = StandardScaler()\n",
        "X_train = scaler.fit_transform(X_train)\n",
        "X_test = scaler.transform(X_test)\n",
        "model = LogisticRegression(max_iter=200)\n",
        "model.fit(X_train, y_train)\n",
        "joblib.dump((model, scaler), 'logistic_regression_model.joblib')\n",
        "print(\"Model saved successfully.\")\n",
        "loaded_model, loaded_scaler = joblib.load('logistic_regression_model.joblib')\n",
        "print(\"Model loaded successfully.\")\n",
        "sample_data = np.array([[5.1, 3.5, 1.4, 0.2]])\n",
        "sample_data = loaded_scaler.transform(sample_data)\n",
        "prediction = loaded_model.predict(sample_data)\n",
        "print(\"Predicted class:\", iris.target_names[prediction][0])"
      ],
      "metadata": {
        "colab": {
          "base_uri": "https://localhost:8080/"
        },
        "id": "WeoNYQdaM49x",
        "outputId": "52ae23b6-6fea-4985-cde7-0ae6b341c0bb"
      },
      "execution_count": 40,
      "outputs": [
        {
          "output_type": "stream",
          "name": "stdout",
          "text": [
            "Model saved successfully.\n",
            "Model loaded successfully.\n",
            "Predicted class: setosa\n"
          ]
        }
      ]
    }
  ]
}