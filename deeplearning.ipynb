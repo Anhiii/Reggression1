{
  "nbformat": 4,
  "nbformat_minor": 0,
  "metadata": {
    "colab": {
      "provenance": []
    },
    "kernelspec": {
      "name": "python3",
      "display_name": "Python 3"
    },
    "language_info": {
      "name": "python"
    }
  },
  "cells": [
    {
      "cell_type": "markdown",
      "source": [
        "1.What is TensorFlow 2.0, and how is it different from TensorFlow 1.x2\n",
        "\n",
        "\n",
        "TensorFlow 2.0 is a major update to TensorFlow, the popular open-source machine learning framework developed by Google. It introduced several new features, simplifications, and changes to improve usability and flexibility compared to TensorFlow 1.x. Below are some key differences between TensorFlow 2.0 and TensorFlow 1.x:\n",
        "\n",
        "Key Features of TensorFlow 2.0:\n",
        "Eager Execution by Default:\n",
        "\n",
        "TensorFlow 2.0 enables eager execution by default. This allows operations to be evaluated immediately as they are run, making the code easier to debug and more intuitive. In TensorFlow 1.x, eager execution was not the default, and computations were constructed in a graph before being executed, which could be more challenging to debug.\n",
        "\n",
        "Keras as the High-Level API:\n",
        "\n",
        "In TensorFlow 2.0, Keras is the default high-level API for building and training neural networks. Keras was integrated as the core API to provide a more user-friendly interface for building models. In TensorFlow 1.x, Keras was available as an external package and was not the main API.\n",
        "\n",
        "Simplified Model Building:\n",
        "\n",
        "TensorFlow 2.0 emphasizes ease of use with simpler APIs for creating, training, and evaluating models. The tf.keras module simplifies many processes that were more complex in TensorFlow 1.x, such as defining and training models.\n",
        "\n",
        "TensorFlow Hub and TensorFlow Datasets:\n",
        "\n",
        "TensorFlow 2.0 introduces TensorFlow Hub for reusable model components and TensorFlow Datasets for easy access to standard datasets. This makes it easier to experiment and share models and datasets compared to TensorFlow 1.x.\n",
        "\n",
        "Support for tf.function:\n",
        "\n",
        "tf.function allows users to convert Python functions into TensorFlow graphs for improved performance while maintaining the flexibility of eager execution. This function allows TensorFlow 2.0 to have the benefits of both eager execution and graph execution.\n",
        "\n",
        "Unified API:\n",
        "\n",
        "TensorFlow 2.0 has unified the APIs for different functionalities like training, optimization, and model evaluation. This reduces the need to use different classes and modules for tasks that can now be done in a more streamlined way.\n",
        "\n",
        "Improved Performance:\n",
        "\n",
        "TensorFlow 2.0 improves execution speed, reduces memory consumption, and optimizes computation in several ways, particularly with GPU/TPU support. It also integrates better with hardware accelerators.\n",
        "\n"
      ],
      "metadata": {
        "id": "CkmBHthuJ7a0"
      }
    },
    {
      "cell_type": "markdown",
      "source": [
        "2.How do you install TensorFlow 2.02\n",
        "\n",
        "To install TensorFlow 2.0.2, you can follow these steps:\n",
        "\n",
        "1. Set up a Python environment\n",
        "If you're using a virtual environment, first create one:\n",
        "\n",
        "python -m venv tensorflow-env\n",
        "Activate the virtual environment:\n",
        "\n",
        "On Windows:\n",
        ".\\tensorflow-env\\Scripts\\activate\n",
        "On macOS/Linux:\n",
        "source tensorflow-env/bin/activate\n",
        "\n",
        "2. Install TensorFlow 2.0.2\n",
        "Run the following command to install TensorFlow 2.0.2 using pip:\n",
        "\n",
        "pip install tensorflow==2.0.2\n",
        "This will install TensorFlow 2.0.2 along with all required dependencies.\n",
        "\n",
        "3. Verify the installation\n",
        "After installation, verify that TensorFlow is working by running the following Python code:\n",
        "\n",
        "import tensorflow as tf\n",
        "print(tf.__version__)"
      ],
      "metadata": {
        "id": "6G1upnyZKK6q"
      }
    },
    {
      "cell_type": "markdown",
      "source": [
        "3.What is the primary function of the tf.function in TensorFlow 2.02\n",
        "\n",
        "The primary function of tf.function in TensorFlow 2.0+ is to convert a Python function into a TensorFlow graph, which significantly improves performance by enabling TensorFlow to optimize the execution of the function. This transformation is known as autograph, and it allows TensorFlow to execute the function more efficiently, especially when dealing with large datasets or complex models.\n",
        "\n",
        "Here's how it works:\n",
        "\n",
        "Graph Execution: TensorFlow executes the code inside a tf.function as a static computational graph, meaning that TensorFlow can optimize the operations and minimize redundant computations. This is in contrast to eager execution, where TensorFlow performs operations step by step.\n",
        "\n",
        "Performance: By converting the Python code into a graph, TensorFlow can optimize the computation, parallelize operations, and improve resource management.\n",
        "\n",
        "Improved Portability: Functions wrapped with tf.function can be used across different platforms (e.g., CPU, GPU, or TPU) without needing to modify the code for each specific hardware."
      ],
      "metadata": {
        "id": "hYrT4qVSKklq"
      }
    },
    {
      "cell_type": "markdown",
      "source": [
        "4.What is the purpose of the Model class in TensorFlow 2.02\n",
        "\n",
        "\n",
        "In TensorFlow 2.x (including version 2.0.2), the Model class is part of the Keras API, which is integrated into TensorFlow. The Model class serves as the base class for building and training neural networks. It provides an abstraction layer for defining the architecture of a neural network, including the layers, inputs, and outputs.\n",
        "\n",
        "Key purposes and functionalities of the Model class include:\n",
        "\n",
        "Defining Model Architecture: You can define the structure of the neural network (e.g., layers, activations, and connections) by subclassing Model or using the Sequential API.\n",
        "\n",
        "Compiling the Model: The Model class includes a compile method that allows you to specify the optimizer, loss function, and metrics for model training and evaluation.\n",
        "\n",
        "Training the Model: The Model class provides the fit method to train the model using data. It handles backpropagation and gradient updates during training.\n",
        "\n",
        "Evaluating the Model: The evaluate method allows you to test the trained model on new data to measure performance.\n",
        "\n",
        "Predicting with the Model: Once trained, the Model class provides the predict method to make predictions on new inputs.\n",
        "\n",
        "Saving and Loading the Model: The Model class supports saving the model architecture and weights, as well as loading saved models for reuse.\n",
        "\n"
      ],
      "metadata": {
        "id": "tj-WPidVK2E1"
      }
    },
    {
      "cell_type": "markdown",
      "source": [
        "5.How do you create a neural network using TensorFlow 2.02?\n",
        "\n",
        "To create a neural network using TensorFlow 2.0.2 (or any version 2.x), you'll generally follow these steps:\n",
        "\n",
        "Install TensorFlow: If you haven't already, install TensorFlow using pip:\n",
        "pip install tensorflow==2.0.2\n",
        "\n",
        "Import Necessary Libraries: You'll need to import TensorFlow, Keras (which is integrated into TensorFlow 2.x), and other essential libraries.\n",
        "import tensorflow as tf\n",
        "from tensorflow.keras import layers, models\n",
        "\n",
        "Prepare the Data: For demonstration, let's use the MNIST dataset (handwritten digits), which is often used in neural network examples.\n",
        "\n",
        "(train_images, train_labels), (test_images, test_labels) = tf.keras.datasets.mnist.load_data()\n",
        "\n",
        "train_images = train_images / 255.0\n",
        "test_images = test_images / 255.0\n",
        "\n",
        "train_images = train_images.reshape((train_images.shape[0], 28, 28, 1))\n",
        "test_images = test_images.reshape((test_images.shape[0], 28, 28, 1))\n",
        "Build the Neural Network: Define the architecture of your neural network using Keras' Sequential model. This example is a simple CNN (Convolutional Neural Network).\n",
        "model = models.Sequential([\n",
        "    layers.Conv2D(32, (3, 3), activation='relu', input_shape=(28, 28, 1)),\n",
        "    layers.MaxPooling2D((2, 2)),\n",
        "    layers.Conv2D(64, (3, 3), activation='relu'),\n",
        "    layers.MaxPooling2D((2, 2)),\n",
        "    layers.Conv2D(64, (3, 3), activation='relu'),\n",
        "    layers.Flatten(),\n",
        "    layers.Dense(64, activation='relu'),\n",
        "    layers.Dense(10, activation='softmax')  # 10 classes (0-9 digits)\n",
        "])\n",
        "\n",
        "Compile the Model: After building the model, compile it by specifying the optimizer, loss function, and metrics you want to track.\n",
        "model.compile(optimizer='adam',\n",
        "              loss='sparse_categorical_crossentropy',\n",
        "              metrics=['accuracy'])\n",
        "\n",
        "Train the Model: Use the fit method to train your model on the training data.\n",
        "model.fit(train_images, train_labels, epochs=5)\n",
        "\n",
        "Evaluate the Model: After training, evaluate the model on the test data to see how well it performs.\n",
        "test_loss, test_acc = model.evaluate(test_images, test_labels)\n",
        "print(f'Test accuracy: {test_acc}')\n",
        "\n",
        "Make Predictions: You can also use the trained model to make predictions.\n",
        "predictions = model.predict(test_images)\n",
        "print(f'Predicted label for the first test image: {predictions[0].argmax()}')"
      ],
      "metadata": {
        "id": "fcx1NAL9LDLa"
      }
    },
    {
      "cell_type": "markdown",
      "source": [
        "6.What is the importance of Tensor Space in TensorFlow2?\n",
        "\n",
        "In TensorFlow 2, \"tensor space\" isn't a specific, formal concept within the framework's official terminology, but it can refer to the way tensors are structured and handled in TensorFlow. Here’s why tensors and the way they are organized in \"tensor space\" are important:\n",
        "\n",
        "1. Tensors as the Core Data Structure\n",
        "Fundamental Unit: Tensors are the core data structure in TensorFlow. They represent multi-dimensional arrays (or n-dimensional arrays) that flow through the computational graph.\n",
        "\n",
        "Efficient Representation: Tensors hold data in a structured way that allows TensorFlow to perform high-efficiency computations, especially for deep learning tasks. TensorFlow optimizes tensor operations through hardware acceleration, such as GPU and TPU support.\n",
        "\n",
        "2. Shape and Rank of Tensors\n",
        "Tensor Dimensions: The rank of a tensor refers to the number of dimensions it has, and each dimension represents a different aspect of the data (e.g., time steps, batch size, feature size).\n",
        "\n",
        "Shape in Tensor Space: The shape of a tensor determines how data is organized in the tensor space. For example, a 2D tensor has rows and columns, whereas a 3D tensor can represent sequences of 2D matrices.\n",
        "\n",
        "Handling Complex Data: In tasks like image classification or NLP, different types of data (such as images, sequences, etc.) need different shapes of tensors, making understanding the tensor space vital.\n",
        "\n",
        "3. Operations in Tensor Space\n",
        "Matrix Operations: Operations such as addition, multiplication, and other linear algebra functions are applied in tensor space. TensorFlow provides efficient implementations of these operations, enabling complex machine learning models to be trained.\n",
        "\n",
        "Broadcasting: TensorFlow supports broadcasting (automatically expanding tensors with different shapes to make operations feasible). Understanding how tensor dimensions work in this space is essential for designing models.\n",
        "\n",
        "4. Memory Management and Optimization\n",
        "Memory Efficiency: TensorFlow is designed to manage large amounts of data in tensor space efficiently. It can minimize memory usage by reusing memory buffers and optimizing tensor storage in GPU/TPU environments.\n",
        "\n",
        "Lazy Execution: With eager execution in TensorFlow 2, computations happen immediately, but in graph mode (often used in TensorFlow 1.x), TensorFlow optimizes operations in the computational graph, ensuring tensors are processed efficiently.\n",
        "\n",
        "5. Model Training\n",
        "Backpropagation: In neural networks, tensors hold the gradients during backpropagation. The tensor space here involves calculating the gradients efficiently and updating the model parameters in a way that minimizes the loss function.\n",
        "\n",
        "Dataflow: TensorFlow manages the flow of tensors through various layers in a neural network. Each operation or layer transforms tensors, and understanding how tensors flow in the model is crucial for debugging and optimization.\n",
        "\n",
        "6. Scalability Across Devices\n",
        "Distributed Computing: TensorFlow allows you to perform operations in tensor space across multiple devices (GPUs, TPUs, or different machines), which is crucial for scaling models to large datasets and complex architectures. TensorFlow’s distributed strategies help manage tensor operations in such multi-device environments."
      ],
      "metadata": {
        "id": "psHQzEsjLuYS"
      }
    },
    {
      "cell_type": "markdown",
      "source": [
        "7.How can TensorBoard be integrated with TensorFlow 2.02?\n",
        "\n",
        "To integrate TensorBoard with TensorFlow 2.0.2, follow these steps:\n",
        "\n",
        "Install TensorBoard: Ensure you have TensorBoard installed. If it's not installed yet, use the following command:\n",
        "pip install tensorboard\n",
        "\n",
        "Import TensorBoard in Your Script: TensorFlow 2.x provides a simplified integration with TensorBoard. You'll use the tensorflow.keras.callbacks.TensorBoard callback for logging data.\n",
        "\n",
        "import tensorflow as tf\n",
        "from tensorflow.keras.callbacks import TensorBoard\n",
        "\n",
        "Set Up the TensorBoard Callback: Specify the directory where the logs will be saved. This directory will be used by TensorBoard to track your training progress.\n",
        "\n",
        "log_dir = \"logs/fit/\"  # Path where TensorBoard logs will be saved\n",
        "tensorboard_callback = TensorBoard(log_dir=log_dir, histogram_freq=1)\n",
        "\n",
        "Train the Model with the Callback: Add the TensorBoard callback to the list of callbacks during model training.\n",
        "\n",
        "model = tf.keras.Sequential([\n",
        "    tf.keras.layers.Dense(128, activation='relu', input_shape=(784,)),\n",
        "    tf.keras.layers.Dense(10, activation='softmax')\n",
        "])\n",
        "\n",
        "model.compile(optimizer='adam',\n",
        "              loss='sparse_categorical_crossentropy',\n",
        "              metrics=['accuracy'])\n",
        "\n",
        "\n",
        "model.fit(train_data, train_labels,\n",
        "          epochs=10,\n",
        "          validation_data=(val_data, val_labels),\n",
        "          callbacks=[tensorboard_callback])\n",
        "Launch TensorBoard: After training, you can launch TensorBoard to visualize your model's performance. Use the following command in the\n",
        "\n",
        "terminal:\n",
        "\n",
        "tensorboard --logdir=logs/fit\n",
        "Then open your browser and navigate to the displayed address\n",
        "\n",
        "Key Notes:\n",
        "log_dir: The directory where your logs will be saved. You can customize the path, but ensure the folder exists or TensorFlow will create it.\n",
        "\n",
        "histogram_freq=1: This argument enables histogram logging for weights and biases at each epoch, which is helpful for detailed visualization.\n",
        "\n",
        "Other useful parameters in the TensorBoard callback:\n",
        "\n",
        "write_graph=True: Logs the computation graph.\n",
        "\n",
        "write_images=True: Logs the model weights as images (can be large).\n",
        "\n",
        "update_freq='epoch': Set how often you want to update the logs."
      ],
      "metadata": {
        "id": "_wKI0uqcL7C9"
      }
    },
    {
      "cell_type": "markdown",
      "source": [
        "8.What is the purpose of TensorFlow Playground?\n",
        "\n",
        "TensorFlow Playground is an interactive visualization tool designed to help people understand how neural networks work. It allows users to experiment with machine learning models in real-time, making it easier to grasp how different parameters (such as network architecture, activation functions, and learning rate) affect the training and performance of a neural network.\n",
        "\n",
        "Though TensorFlow Playground 2 doesn't seem to be a commonly known name, it likely refers to an updated or enhanced version of the original tool. The purpose of TensorFlow Playground (in its various versions) is:\n",
        "\n",
        "Visualization of Neural Networks: You can create neural networks and visualize their training process and how they learn from data.\n",
        "\n",
        "Interactive Learning: It helps users interact with a neural network, adjusting parameters like the number of layers, neurons, and activation functions to see how these changes impact the results.\n",
        "\n",
        "Educational Tool: It's designed for people who are learning about machine learning and neural networks, especially those without a deep technical background, by providing an intuitive interface to understand core concepts.\n",
        "\n",
        "Experimentation with Parameters: It allows users to experiment with different data, such as simple patterns (e.g., XOR or spiral data), and observe how different configurations of a neural network can solve classification problems."
      ],
      "metadata": {
        "id": "bdbEYJG8MfJH"
      }
    },
    {
      "cell_type": "markdown",
      "source": [
        "9.What is Netron, and how is it useful for deep learning models?\n",
        "\n",
        "Netron is a popular open-source tool used for visualizing and analyzing deep learning models. It supports a wide range of model formats, including those from frameworks like TensorFlow, PyTorch, Keras, ONNX, and many others. Here's how it can be useful for deep learning models:\n",
        "\n",
        "Key Features and Uses:\n",
        "Model Visualization:\n",
        "\n",
        "Netron can display the architecture of a model, showing layers, operations, and their connections. This is particularly useful for understanding complex models and ensuring that the architecture is as expected.\n",
        "\n",
        "Graph Representation:\n",
        "\n",
        "It represents the model as a computational graph, where nodes correspond to layers or operations, and edges represent data flow. This can help in identifying potential issues or inefficiencies in the model.\n",
        "\n",
        "Inspect Layer Details:\n",
        "\n",
        "It allows you to inspect each layer of the model, including input/output shapes, parameters, and other details. This can be helpful for debugging or optimizing the model.\n",
        "\n",
        "Model Conversion and Compatibility:\n",
        "\n",
        "Netron supports a wide variety of model formats and can be used to inspect models from different frameworks, which is useful when working with models converted between different tools or platforms.\n",
        "\n",
        "Interpretability and Debugging:\n",
        "\n",
        "By providing a clear visual representation, Netron aids in interpreting how the model processes data. This can help in identifying which layers are overfitting or underfitting, or where potential bottlenecks or inefficiencies exist in the model.\n",
        "\n",
        "Lightweight and Interactive:\n",
        "\n",
        "It's a web-based tool that can be accessed directly through the browser, providing an interactive and user-friendly interface for inspecting models."
      ],
      "metadata": {
        "id": "HRi4Si9bMnoR"
      }
    },
    {
      "cell_type": "markdown",
      "source": [
        "10.What is the difference between TensorFlow and PyTorch?\n",
        "\n",
        "The main differences between TensorFlow and PyTorch 2 are:\n",
        "\n",
        "Framework Type:\n",
        "\n",
        "TensorFlow: Initially, TensorFlow had a more rigid static computation graph structure, but with the introduction of TensorFlow 2, it embraced dynamic execution (eager execution) to make it more flexible and similar to PyTorch. It still supports both static and dynamic computation graphs.\n",
        "\n",
        "PyTorch 2: PyTorch has always been known for its dynamic computation graph, which is more intuitive and easier to debug. PyTorch 2 brings performance improvements, including support for JIT (Just-in-Time) compilation and optimizations for distributed training.\n",
        "\n",
        "Ease of Use:\n",
        "\n",
        "TensorFlow: TensorFlow 2 has made significant improvements in ease of use, but it still has a steeper learning curve for newcomers, particularly when it comes to managing complex workflows like deployment and multi-platform support.\n",
        "\n",
        "PyTorch : PyTorch is generally considered easier to use and more Pythonic. Its API is cleaner and more flexible, making it preferred by researchers and developers who need rapid prototyping.\n",
        "\n",
        "Deployment:\n",
        "\n",
        "TensorFlow: TensorFlow has strong deployment capabilities with TensorFlow Serving, TensorFlow Lite (for mobile), and TensorFlow.js (for browsers). TensorFlow’s ecosystem is more mature for production environments.\n",
        "\n",
        "PyTorch : While PyTorch has historically been less production-oriented, PyTorch  offers improved deployment options with tools like TorchServe, and better integration with cloud and mobile platforms.\n",
        "\n",
        "Performance:\n",
        "\n",
        "TensorFlow: TensorFlow has been optimized for performance and scalability in production, with better support for distributed computing (especially in large-scale systems like Google Cloud).\n",
        "\n",
        "PyTorch : With the introduction of PyTorch , the framework has improved its performance, especially with support for features like automatic mixed precision (AMP) and accelerated GPU operations, making it more competitive in large-scale production environments.\n",
        "\n",
        "Ecosystem and Community:\n",
        "\n",
        "TensorFlow: TensorFlow has a more extensive ecosystem, including tools like TensorFlow Hub, TensorFlow Extended (TFX), and TensorFlow.js. It also has a broader industry adoption and more corporate support, particularly from Google.\n",
        "\n",
        "PyTorch : PyTorch, though more popular among researchers, has grown significantly and now has a strong ecosystem with tools like TorchVision, TorchText, and other domain-specific libraries. It is increasingly gaining traction in the industry.\n",
        "\n",
        "Debugging:\n",
        "\n",
        "TensorFlow: TensorFlow 2 has improved debugging with the introduction of eager execution, but it still has some complexities when dealing with static graphs.\n",
        "\n",
        "PyTorch : PyTorch is often praised for its easy debugging since it’s based on dynamic graphs, and errors are immediately visible, making it more developer-friendly."
      ],
      "metadata": {
        "id": "I-AiTgwBMyMA"
      }
    },
    {
      "cell_type": "markdown",
      "source": [
        "11.How do you install PyTorch?\n",
        "\n",
        "To install PyTorch, follow these steps depending on your system setup and whether you want to use GPU acceleration or just CPU.\n",
        "\n",
        "1. Install PyTorch via pip\n",
        "The simplest way to install PyTorch is using pip. Open a terminal or command prompt and execute the following commands.\n",
        "\n",
        "For CPU-only version:\n",
        "bash\n",
        "Copy\n",
        "Edit\n",
        "pip install torch torchvision torchaudio\n",
        "For CUDA (GPU version) – choose the appropriate version based on your CUDA version:\n",
        "\n",
        "CUDA 11.3:\n",
        "pip install torch torchvision torchaudio -f https://download.pytorch.org/whl/cuda/11.3/torch_stable.html\n",
        "\n",
        "CUDA 11.6:\n",
        "pip install torch torchvision torchaudio -f https://download.pytorch.org/whl/cuda/11.6/torch_stable.html\n",
        "\n",
        "CUDA 11.7:\n",
        "pip install torch torchvision torchaudio -f https://download.pytorch.org/whl/cuda/11.7/torch_stable.html\n",
        "\n",
        "2. Install PyTorch via Conda (Opti\n",
        "Copyonal)\n",
        "If you're using Conda, this will manage dependencies and CUDA compatibility more easily. You can install it with the following command:\n",
        "\n",
        "For CPU-only version:\n",
        "\n",
        "conda install pytorch torchvision torchaudio cpuonly -c pytorch\n",
        "For CUDA-enabled version (CUDA 11.3):\n",
        "conda install pytorch torchvision torchaudio cudatoolkit=11.3 -c pytorch\n",
        "Replace 11.3 with the CUDA version that corresponds to your system (you can choose between 11.1, 11.3, 11.6, etc.).\n",
        "\n",
        "3. Verify the Installation\n",
        "Once you've installed PyTorch, you can verify the installation by running the following in a Python script or interpreter:\n",
        "\n",
        "import torch\n",
        "print(torch.__version__)  # This should print the installed version of PyTorch\n",
        "You can also check if PyTorch can detect your GPU (if you installed the\n",
        "\n",
        "CUDA version) with:\n",
        "print(torch.cuda.is_available())"
      ],
      "metadata": {
        "id": "CIMco9z1NMrU"
      }
    },
    {
      "cell_type": "markdown",
      "source": [
        "12.What is the basic structure of a PyTorch neural network?\n",
        "\n",
        "In PyTorch, a neural network is typically structured using the torch.nn.Module class, which serves as the base class for all neural network modules. Here's a basic outline of the structure:\n",
        "\n",
        "Import the necessary libraries: You'll need torch for tensors and neural network functionality, and torch.nn for defining layers and the model itself.\n",
        "\n",
        "Define a subclass of torch.nn.Module: This subclass will represent the model, and it must define two key methods:\n",
        "\n",
        "__init__(): Initializes the network's layers.\n",
        "\n",
        "forward(): Defines the data flow through the network.\n",
        "\n",
        "Define layers in __init__() method: Here, you set up the layers such as nn.Linear (fully connected layers), nn.Conv2d (convolutional layers), nn.ReLU (activation function), etc.\n",
        "\n",
        "Define the forward pass in forward() method: In this method, you specify how data moves through the layers of the network, using the layers initialized in __init__()."
      ],
      "metadata": {
        "id": "cQy_LVCfNy4d"
      }
    },
    {
      "cell_type": "markdown",
      "source": [
        "13.What is the significance of tensors in PyTorch?\n",
        "\n",
        "In PyTorch, tensors are the core data structure used for storing and manipulating data, similar to arrays in NumPy but with additional capabilities, especially for deep learning and GPU acceleration.\n",
        "\n",
        "The significance of tensors in PyTorch includes:\n",
        "Multi-dimensional Arrays: Tensors are n-dimensional arrays that can represent scalars (0D), vectors (1D), matrices (2D), and higher-dimensional data (3D, 4D, etc.). This flexibility makes them suitable for representing a wide variety of data types, from simple numbers to complex image data and more.\n",
        "\n",
        "GPU Acceleration: Tensors are designed to work seamlessly with GPUs. PyTorch provides efficient tensor operations on both CPUs and GPUs. This is essential for deep learning tasks, where GPU acceleration can drastically improve performance by speeding up matrix operations, training models, etc.\n",
        "\n",
        "Automatic Differentiation: Tensors in PyTorch support automatic differentiation through the autograd system. This means that PyTorch can track operations on tensors and automatically compute gradients, which is vital for backpropagation in neural networks.\n",
        "\n",
        "Compatibility with Neural Networks: Tensors are the input/output of all PyTorch neural network layers. For instance, each layer of a neural network processes input tensors, applies transformations (like linear, activation functions, etc.), and returns output tensors.\n",
        "\n",
        "Flexible Data Representation: Tensors can be initialized from various sources like NumPy arrays, Python lists, or directly from data files. They can also be reshaped, sliced, and manipulated, allowing for flexible data processing and preparation, crucial in deep learning workflows.\n",
        "\n",
        "Support for Operations: PyTorch provides an extensive set of operations on tensors—mathematical, statistical, and more. This includes addition, multiplication, reshaping, slicing, and aggregation, making it a comprehensive tool for scientific computing.\n",
        "\n",
        "Easy Conversion: You can easily convert tensors to and from NumPy arrays, which enables interoperability with other libraries that might rely on NumPy."
      ],
      "metadata": {
        "id": "bE_pMkzcODOS"
      }
    },
    {
      "cell_type": "markdown",
      "source": [
        "14.What is the difference between torch.Tensor and torch.cuda.Tensor in PyTorch?\n",
        "\n",
        "In PyTorch, torch.Tensor and torch.cuda.Tensor are both used to represent multi-dimensional arrays (tensors), but they are different in terms of where the tensor data is stored and processed:\n",
        "\n",
        "torch.Tensor:\n",
        "\n",
        "This is the standard tensor in PyTorch.\n",
        "\n",
        "By default, it is created on the CPU (Central Processing Unit), which means its data is stored in the system’s RAM.\n",
        "\n",
        "Operations on this tensor will run on the CPU, unless explicitly moved to the GPU.\n",
        "\n",
        "torch.cuda.Tensor:\n",
        "\n",
        "This is a tensor that resides on the GPU (Graphics Processing Unit) memory.\n",
        "\n",
        "It is created using torch.Tensor and then transferred to the GPU using .to('cuda') or .cuda().\n",
        "\n",
        "Operations on this tensor will run on the GPU, taking advantage of parallel processing for faster computations, especially useful for deep learning tasks.\n",
        "\n",
        "Key Differences:\n",
        "Location:\n",
        "\n",
        "torch.Tensor is on the CPU.\n",
        "\n",
        "torch.cuda.Tensor is on the GPU (CUDA-enabled device).\n",
        "\n",
        "Performance:\n",
        "\n",
        "Operations on torch.Tensor are performed on the CPU, which is slower for large-scale tensor operations.\n",
        "\n",
        "Operations on torch.cuda.Tensor are performed on the GPU, which is much faster for large tensor computations and neural network training."
      ],
      "metadata": {
        "id": "WNtBRiMMOL_1"
      }
    },
    {
      "cell_type": "markdown",
      "source": [
        "15.What is the purpose of the torch.optim module in PyTorch?\n",
        "\n",
        "The torch.optim module in PyTorch provides a collection of optimization algorithms for training machine learning models. These optimizers are responsible for updating the parameters (weights) of the model during training, based on the gradients calculated through backpropagation. They implement various optimization techniques to minimize the loss function and improve the model's performance over time.\n",
        "\n",
        "Some of the key optimizers in torch.optim include:\n",
        "\n",
        "SGD (Stochastic Gradient Descent): A simple and widely-used optimization algorithm. It updates the model parameters by taking small steps in the direction of the negative gradient.\n",
        "\n",
        "Adam (Adaptive Moment Estimation): A more advanced optimization algorithm that combines the benefits of both Adagrad and RMSProp, adapting learning rates for each parameter.\n",
        "\n",
        "RMSprop: An adaptive learning rate method that divides the learning rate by an exponentially decaying average of squared gradients.\n",
        "\n",
        "Adagrad: Adapts the learning rate for each parameter based on the past gradients, which helps to improve performance for sparse data.\n",
        "\n",
        "Adadelta: An extension of Adagrad that seeks to resolve its problem of aggressively decaying learning rates.\n",
        "\n",
        "LBFGS: A quasi-Newton method that approximates the inverse Hessian matrix, often used for optimization problems where high accuracy is needed."
      ],
      "metadata": {
        "id": "5xeKX-V4OaXC"
      }
    },
    {
      "cell_type": "markdown",
      "source": [
        "In neural networks, activation functions are used to introduce non-linearity into the model, enabling it to learn complex patterns. Here are some common activation functions:\n",
        "\n",
        "Sigmoid (Logistic):\n",
        "\n",
        "Range: (0, 1)\n",
        "\n",
        "Pros: Outputs values between 0 and 1, making it useful for binary classification problems.\n",
        "\n",
        "Cons: Can cause vanishing gradients, especially for large positive or negative inputs.\n",
        "\n",
        "Tanh (Hyperbolic Tangent):\n",
        "\n",
        "Range: (-1, 1)\n",
        "\n",
        "Pros: Zero-centered, which can make training more efficient.\n",
        "\n",
        "Cons: Like sigmoid, it can also suffer from vanishing gradients.\n",
        "\n",
        "ReLU (Rectified Linear Unit):\n",
        "\n",
        "Formula:\n",
        "ReLU(x)=max(0,x)\n",
        "\n",
        "Range: [0, ∞)\n",
        "\n",
        "Pros: Computationally efficient, reduces likelihood of vanishing gradients, and promotes sparsity.\n",
        "\n",
        "Cons: Can lead to \"dying ReLU\" problem, where neurons become inactive and stop learning.\n",
        "\n",
        "Leaky ReLU:\n",
        "\n",
        "Formula:\n",
        "Leaky ReLU(x)=max(αx,x) (where\n",
        "\n",
        "α is a small constant, typically 0.01)\n",
        "\n",
        "Range: (-∞, ∞)\n",
        "\n",
        "Pros: Allows a small, non-zero gradient when the unit is not active (avoiding dying ReLU).\n",
        "\n",
        "Cons: Still has the possibility of large gradients during backpropagation.\n",
        "\n",
        "ELU (Exponential Linear Unit):\n",
        "\n",
        "Formula:\n",
        "\n",
        "Range: (-α, ∞)\n",
        "\n",
        "Pros: Helps mitigate vanishing gradients and has smooth, non-linear characteristics.\n",
        "\n",
        "Cons: More computationally expensive than ReLU.\n",
        "\n",
        "Softmax:\n",
        "Range: (0, 1) for each class, and outputs a probability distribution.\n",
        "\n",
        "Pros: Often used in the output layer of a classification network to produce probabilities for multi-class classification."
      ],
      "metadata": {
        "id": "H_sr_fokOsNM"
      }
    },
    {
      "cell_type": "markdown",
      "source": [
        "17.What is the difference between torch.nn.Module and torch.nn.Sequential in PyTorch?\n",
        "\n",
        "**torch.nn.Module:**\n",
        "\n",
        "Base class for all models in PyTorch.\n",
        "\n",
        "You manually define layers in __init__().\n",
        "\n",
        "You manually define the forward pass in forward().\n",
        "\n",
        "Supports complex architectures (branches, skips, loops).\n",
        "\n",
        "Needed when you want full control over model behavior.\n",
        "\n",
        "Used for advanced models (e.g., ResNet, Transformer).\n",
        "\n",
        "**torch.nn.Sequential:**\n",
        "\n",
        "A child class of nn.Module.\n",
        "\n",
        "Layers are added in order (one after the other).\n",
        "\n",
        "No need to manually write a forward() method.\n",
        "\n",
        "Only supports simple, straight pipelines.\n",
        "\n",
        "Good for quick and simple models.\n",
        "\n",
        "Cannot handle multiple inputs/outputs or nonlinear flow."
      ],
      "metadata": {
        "id": "q8gG1YT2PIUW"
      }
    },
    {
      "cell_type": "markdown",
      "source": [
        "18.How can you monitor training progress in TensorFlow 2.0?\n",
        "\n",
        "In TensorFlow 2.0, you can monitor training progress mainly using:\n",
        "\n",
        "Callbacks — especially tf.keras.callbacks:\n",
        "\n",
        "TensorBoard callback (tf.keras.callbacks.TensorBoard): Logs metrics like loss and accuracy, so you can visualize them nicely.\n",
        "\n",
        "EarlyStopping (tf.keras.callbacks.EarlyStopping): Stops training when a monitored metric has stopped improving.\n",
        "\n",
        "ModelCheckpoint (tf.keras.callbacks.ModelCheckpoint): Saves model checkpoints during training.\n",
        "\n",
        "ReduceLROnPlateau (tf.keras.callbacks.ReduceLROnPlateau): Reduces learning rate when a metric has stopped improving.\n",
        "\n",
        "Verbose Output:\n",
        "\n",
        "When you call model.fit(), setting verbose=1 or verbose=2 shows a live progress bar or one-line updates per epoch.\n",
        "\n",
        "Custom Callbacks:\n",
        "\n",
        "You can make your own by subclassing tf.keras.callbacks.Callback to print or log anything after each batch or epoch."
      ],
      "metadata": {
        "id": "6ZBepCwAP6CC"
      }
    },
    {
      "cell_type": "markdown",
      "source": [
        "19.How does the Keras API fit into TensorFlow 2.0?\n",
        "\n",
        "Good question — and it's super important if you're working with TensorFlow 2.0 and beyond.\n",
        "\n",
        "In TensorFlow 2.0, Keras is officially integrated as the high-level API for building and training deep learning models.\n",
        "Here’s a simple way to think about it:\n",
        "\n",
        "Keras inside TensorFlow 2.x is not a separate library anymore — it’s part of TensorFlow itself.\n",
        "\n",
        "You use it via tf.keras, like this:\n",
        "\n",
        "from tensorflow import keras\n",
        "\n",
        "from tensorflow.keras import layers"
      ],
      "metadata": {
        "id": "8gTGyqnjQPlj"
      }
    },
    {
      "cell_type": "markdown",
      "source": [
        "What is an example of a deep learning project that can be implemented using TensorFlow 2.0?\n",
        "\n",
        "import tensorflow as tf\n",
        "\n",
        "\n",
        "from tensorflow.keras import layers, models\n",
        "\n",
        "\n",
        "mnist = tf.keras.datasets.mnist\n",
        "(x_train, y_train), (x_test, y_test) = mnist.load_data()\n",
        "\n",
        "\n",
        "x_train, x_test = x_train / 255.0, x_test / 255.0\n",
        "\n",
        "\n",
        "model = models.Sequential([\n",
        "    layers.Flatten(input_shape=(28, 28)),\n",
        "    layers.Dense(128, activation='relu'),\n",
        "    layers.Dropout(0.2),\n",
        "    layers.Dense(10)\n",
        "])\n",
        "\n",
        "\n",
        "model.compile(optimizer='adam',\n",
        "              loss=tf.keras.losses.SparseCategoricalCrossentropy(from_logits=True),\n",
        "              metrics=['accuracy'])\n",
        "\n",
        "\n",
        "model.fit(x_train, y_train, epochs=5)\n",
        "\n",
        "\n",
        "model.evaluate(x_test, y_test)\n"
      ],
      "metadata": {
        "id": "I1LrcLJ0QZnm"
      }
    },
    {
      "cell_type": "markdown",
      "source": [
        "21.What is the main advantage of using pre-trained models in TensorFlow and PyTorch?\n",
        "The main advantage of using pre-trained models in TensorFlow and PyTorch is:\n",
        "\n",
        "They save you time, resources, and effort by allowing you to use models that have already been trained on large datasets, achieving strong performance without needing to train from scratch.\n",
        "\n",
        "In short, you can fine-tune or directly use these models for your own tasks, even if you have limited data or computing power"
      ],
      "metadata": {
        "id": "wJvRbjHaQ1QJ"
      }
    },
    {
      "cell_type": "code",
      "source": [
        "#1.How do you install and verify that TensorFlow 2.0 was installed successfully\n",
        "\n",
        "import tensorflow as tf\n",
        "\n",
        "# Print TensorFlow version\n",
        "print(\"TensorFlow version:\", tf.__version__)\n",
        "\n",
        "# Simple test to check if TensorFlow can run operations\n",
        "hello = tf.constant(\"Hello, TensorFlow!\")\n",
        "print(hello.numpy())\n"
      ],
      "metadata": {
        "colab": {
          "base_uri": "https://localhost:8080/"
        },
        "id": "YCZw0oAFRXfp",
        "outputId": "3bdb2afe-851d-4095-db25-c83f7b76c468"
      },
      "execution_count": null,
      "outputs": [
        {
          "output_type": "stream",
          "name": "stdout",
          "text": [
            "TensorFlow version: 2.18.0\n",
            "b'Hello, TensorFlow!'\n"
          ]
        }
      ]
    },
    {
      "cell_type": "code",
      "source": [
        "#2.How can you define a simple function in TensorFlow 2.0 to perform addition\n",
        "\n",
        "import tensorflow as tf\n",
        "\n",
        "# Define a simple addition function\n",
        "@tf.function\n",
        "def add_tensors(a, b):\n",
        "    return a + b\n",
        "\n",
        "# Example usage\n",
        "x = tf.constant(5)\n",
        "y = tf.constant(3)\n",
        "\n",
        "result = add_tensors(x, y)\n",
        "print(result)"
      ],
      "metadata": {
        "colab": {
          "base_uri": "https://localhost:8080/"
        },
        "id": "Hi71CwtbSHxf",
        "outputId": "0a276dc7-5f42-4c76-a7c0-b0f1eb775615"
      },
      "execution_count": null,
      "outputs": [
        {
          "output_type": "stream",
          "name": "stdout",
          "text": [
            "tf.Tensor(8, shape=(), dtype=int32)\n"
          ]
        }
      ]
    },
    {
      "cell_type": "code",
      "source": [
        "#3.How can you create a simple neural network in TensorFlow 2.0 with one hidden layer\n",
        "import tensorflow as tf\n",
        "from tensorflow.keras.models import Sequential\n",
        "from tensorflow.keras.layers import Dense\n",
        "\n",
        "# Create the dataset (dummy example)\n",
        "import numpy as np\n",
        "X = np.random.rand(100, 3)  # 100 samples, 3 features each\n",
        "y = np.random.randint(2, size=100)  # Binary target (0 or 1)\n",
        "\n",
        "# Define the neural network\n",
        "model = Sequential([\n",
        "    Dense(8, activation='relu', input_shape=(3,)),  # Hidden layer with 8 neurons\n",
        "    Dense(1, activation='sigmoid')  # Output layer for binary classification\n",
        "])\n",
        "\n",
        "# Compile the model\n",
        "model.compile(optimizer='adam',\n",
        "              loss='binary_crossentropy',\n",
        "              metrics=['accuracy'])\n",
        "\n",
        "# Train the model\n",
        "model.fit(X, y, epochs=10, batch_size=8)\n",
        "\n",
        "# Evaluate the model\n",
        "loss, accuracy = model.evaluate(X, y)\n",
        "print(f'Loss: {loss}, Accuracy: {accuracy}')"
      ],
      "metadata": {
        "colab": {
          "base_uri": "https://localhost:8080/"
        },
        "id": "Fg7be3nYSqMJ",
        "outputId": "ab18fd90-0199-45d2-e04e-95d759dcfbcb"
      },
      "execution_count": null,
      "outputs": [
        {
          "output_type": "stream",
          "name": "stdout",
          "text": [
            "Epoch 1/10\n"
          ]
        },
        {
          "output_type": "stream",
          "name": "stderr",
          "text": [
            "/usr/local/lib/python3.11/dist-packages/keras/src/layers/core/dense.py:87: UserWarning: Do not pass an `input_shape`/`input_dim` argument to a layer. When using Sequential models, prefer using an `Input(shape)` object as the first layer in the model instead.\n",
            "  super().__init__(activity_regularizer=activity_regularizer, **kwargs)\n"
          ]
        },
        {
          "output_type": "stream",
          "name": "stdout",
          "text": [
            "\u001b[1m13/13\u001b[0m \u001b[32m━━━━━━━━━━━━━━━━━━━━\u001b[0m\u001b[37m\u001b[0m \u001b[1m2s\u001b[0m 6ms/step - accuracy: 0.3996 - loss: 0.7096\n",
            "Epoch 2/10\n",
            "\u001b[1m13/13\u001b[0m \u001b[32m━━━━━━━━━━━━━━━━━━━━\u001b[0m\u001b[37m\u001b[0m \u001b[1m0s\u001b[0m 6ms/step - accuracy: 0.3951 - loss: 0.7076  \n",
            "Epoch 3/10\n",
            "\u001b[1m13/13\u001b[0m \u001b[32m━━━━━━━━━━━━━━━━━━━━\u001b[0m\u001b[37m\u001b[0m \u001b[1m0s\u001b[0m 6ms/step - accuracy: 0.3891 - loss: 0.7077 \n",
            "Epoch 4/10\n",
            "\u001b[1m13/13\u001b[0m \u001b[32m━━━━━━━━━━━━━━━━━━━━\u001b[0m\u001b[37m\u001b[0m \u001b[1m0s\u001b[0m 5ms/step - accuracy: 0.4069 - loss: 0.6998 \n",
            "Epoch 5/10\n",
            "\u001b[1m13/13\u001b[0m \u001b[32m━━━━━━━━━━━━━━━━━━━━\u001b[0m\u001b[37m\u001b[0m \u001b[1m0s\u001b[0m 6ms/step - accuracy: 0.4823 - loss: 0.6929 \n",
            "Epoch 6/10\n",
            "\u001b[1m13/13\u001b[0m \u001b[32m━━━━━━━━━━━━━━━━━━━━\u001b[0m\u001b[37m\u001b[0m \u001b[1m0s\u001b[0m 6ms/step - accuracy: 0.3946 - loss: 0.7029 \n",
            "Epoch 7/10\n",
            "\u001b[1m13/13\u001b[0m \u001b[32m━━━━━━━━━━━━━━━━━━━━\u001b[0m\u001b[37m\u001b[0m \u001b[1m0s\u001b[0m 6ms/step - accuracy: 0.4807 - loss: 0.6927 \n",
            "Epoch 8/10\n",
            "\u001b[1m13/13\u001b[0m \u001b[32m━━━━━━━━━━━━━━━━━━━━\u001b[0m\u001b[37m\u001b[0m \u001b[1m0s\u001b[0m 3ms/step - accuracy: 0.4945 - loss: 0.6936 \n",
            "Epoch 9/10\n",
            "\u001b[1m13/13\u001b[0m \u001b[32m━━━━━━━━━━━━━━━━━━━━\u001b[0m\u001b[37m\u001b[0m \u001b[1m0s\u001b[0m 4ms/step - accuracy: 0.5049 - loss: 0.6930 \n",
            "Epoch 10/10\n",
            "\u001b[1m13/13\u001b[0m \u001b[32m━━━━━━━━━━━━━━━━━━━━\u001b[0m\u001b[37m\u001b[0m \u001b[1m0s\u001b[0m 4ms/step - accuracy: 0.4965 - loss: 0.6930 \n",
            "\u001b[1m4/4\u001b[0m \u001b[32m━━━━━━━━━━━━━━━━━━━━\u001b[0m\u001b[37m\u001b[0m \u001b[1m0s\u001b[0m 10ms/step - accuracy: 0.5813 - loss: 0.6908 \n",
            "Loss: 0.6911795139312744, Accuracy: 0.5600000023841858\n"
          ]
        }
      ]
    },
    {
      "cell_type": "code",
      "source": [
        "#4.How can you visualize the training progress using TensorFlow and Matplotlib\n",
        "import matplotlib.pyplot as plt\n",
        "import numpy as np\n",
        "import tensorflow as tf\n",
        "from tensorflow.keras.models import Sequential\n",
        "from tensorflow.keras.layers import Dense\n",
        "\n",
        "# Create the dataset (dummy example)\n",
        "X = np.random.rand(100, 3)\n",
        "y = np.random.randint(2, size=100)\n",
        "\n",
        "# Define the neural network\n",
        "model = Sequential([\n",
        "    Dense(8, activation='relu', input_shape=(3,)),\n",
        "    Dense(1, activation='sigmoid')\n",
        "])\n",
        "\n",
        "# Compile the model\n",
        "model.compile(optimizer='adam',\n",
        "              loss='binary_crossentropy',\n",
        "              metrics=['accuracy'])\n",
        "\n",
        "# Train the model and save the history\n",
        "history = model.fit(X, y, epochs=20, batch_size=8, validation_split=0.2)\n",
        "\n",
        "# Visualize training progress\n",
        "def plot_training_progress(history):\n",
        "    # Extract values from history\n",
        "    epochs = range(1, len(history.history['loss']) + 1)\n",
        "    train_loss = history.history['loss']\n",
        "    val_loss = history.history['val_loss']\n",
        "    train_acc = history.history['accuracy']\n",
        "    val_acc = history.history['val_accuracy']\n",
        "\n",
        "    # Create subplots for loss and accuracy\n",
        "    plt.figure(figsize=(12, 5))\n",
        "\n",
        "    # Plot Loss\n",
        "    plt.subplot(1, 2, 1)\n",
        "    plt.plot(epochs, train_loss, label='Training Loss')\n",
        "    plt.plot(epochs, val_loss, label='Validation Loss')\n",
        "    plt.title('Loss Progress')\n",
        "    plt.xlabel('Epochs')\n",
        "    plt.ylabel('Loss')\n",
        "    plt.legend()\n",
        "\n",
        "    # Plot Accuracy\n",
        "    plt.subplot(1, 2, 2)\n",
        "    plt.plot(epochs, train_acc, label='Training Accuracy')\n",
        "    plt.plot(epochs, val_acc, label='Validation Accuracy')\n",
        "    plt.title('Accuracy Progress')\n",
        "    plt.xlabel('Epochs')\n",
        "    plt.ylabel('Accuracy')\n",
        "    plt.legend()\n",
        "\n",
        "    plt.tight_layout()\n",
        "    plt.show()\n",
        "\n",
        "# Call the function to plot the progress\n",
        "plot_training_progress(history)"
      ],
      "metadata": {
        "colab": {
          "base_uri": "https://localhost:8080/",
          "height": 1000
        },
        "id": "ZKunxEnkTTsE",
        "outputId": "f581be26-5c42-4cd8-f3d7-8141f8dbf776"
      },
      "execution_count": null,
      "outputs": [
        {
          "output_type": "stream",
          "name": "stdout",
          "text": [
            "Epoch 1/20\n",
            "\u001b[1m10/10\u001b[0m \u001b[32m━━━━━━━━━━━━━━━━━━━━\u001b[0m\u001b[37m\u001b[0m \u001b[1m1s\u001b[0m 29ms/step - accuracy: 0.2825 - loss: 0.7232 - val_accuracy: 0.7000 - val_loss: 0.6762\n",
            "Epoch 2/20\n",
            "\u001b[1m10/10\u001b[0m \u001b[32m━━━━━━━━━━━━━━━━━━━━\u001b[0m\u001b[37m\u001b[0m \u001b[1m0s\u001b[0m 9ms/step - accuracy: 0.3261 - loss: 0.7138 - val_accuracy: 0.6000 - val_loss: 0.6793\n",
            "Epoch 3/20\n",
            "\u001b[1m10/10\u001b[0m \u001b[32m━━━━━━━━━━━━━━━━━━━━\u001b[0m\u001b[37m\u001b[0m \u001b[1m0s\u001b[0m 11ms/step - accuracy: 0.3515 - loss: 0.7083 - val_accuracy: 0.5000 - val_loss: 0.6835\n",
            "Epoch 4/20\n",
            "\u001b[1m10/10\u001b[0m \u001b[32m━━━━━━━━━━━━━━━━━━━━\u001b[0m\u001b[37m\u001b[0m \u001b[1m0s\u001b[0m 15ms/step - accuracy: 0.3877 - loss: 0.7038 - val_accuracy: 0.5000 - val_loss: 0.6857\n",
            "Epoch 5/20\n",
            "\u001b[1m10/10\u001b[0m \u001b[32m━━━━━━━━━━━━━━━━━━━━\u001b[0m\u001b[37m\u001b[0m \u001b[1m0s\u001b[0m 10ms/step - accuracy: 0.3817 - loss: 0.7085 - val_accuracy: 0.4500 - val_loss: 0.6896\n",
            "Epoch 6/20\n",
            "\u001b[1m10/10\u001b[0m \u001b[32m━━━━━━━━━━━━━━━━━━━━\u001b[0m\u001b[37m\u001b[0m \u001b[1m0s\u001b[0m 14ms/step - accuracy: 0.4071 - loss: 0.7054 - val_accuracy: 0.4500 - val_loss: 0.6935\n",
            "Epoch 7/20\n",
            "\u001b[1m10/10\u001b[0m \u001b[32m━━━━━━━━━━━━━━━━━━━━\u001b[0m\u001b[37m\u001b[0m \u001b[1m0s\u001b[0m 10ms/step - accuracy: 0.3834 - loss: 0.7040 - val_accuracy: 0.4500 - val_loss: 0.6950\n",
            "Epoch 8/20\n",
            "\u001b[1m10/10\u001b[0m \u001b[32m━━━━━━━━━━━━━━━━━━━━\u001b[0m\u001b[37m\u001b[0m \u001b[1m0s\u001b[0m 9ms/step - accuracy: 0.3568 - loss: 0.7047 - val_accuracy: 0.4500 - val_loss: 0.6960\n",
            "Epoch 9/20\n",
            "\u001b[1m10/10\u001b[0m \u001b[32m━━━━━━━━━━━━━━━━━━━━\u001b[0m\u001b[37m\u001b[0m \u001b[1m0s\u001b[0m 10ms/step - accuracy: 0.3391 - loss: 0.7034 - val_accuracy: 0.4000 - val_loss: 0.6984\n",
            "Epoch 10/20\n",
            "\u001b[1m10/10\u001b[0m \u001b[32m━━━━━━━━━━━━━━━━━━━━\u001b[0m\u001b[37m\u001b[0m \u001b[1m0s\u001b[0m 10ms/step - accuracy: 0.3835 - loss: 0.7075 - val_accuracy: 0.4000 - val_loss: 0.7003\n",
            "Epoch 11/20\n",
            "\u001b[1m10/10\u001b[0m \u001b[32m━━━━━━━━━━━━━━━━━━━━\u001b[0m\u001b[37m\u001b[0m \u001b[1m0s\u001b[0m 13ms/step - accuracy: 0.4619 - loss: 0.7030 - val_accuracy: 0.4000 - val_loss: 0.7025\n",
            "Epoch 12/20\n",
            "\u001b[1m10/10\u001b[0m \u001b[32m━━━━━━━━━━━━━━━━━━━━\u001b[0m\u001b[37m\u001b[0m \u001b[1m0s\u001b[0m 9ms/step - accuracy: 0.4626 - loss: 0.7040 - val_accuracy: 0.4000 - val_loss: 0.7039\n",
            "Epoch 13/20\n",
            "\u001b[1m10/10\u001b[0m \u001b[32m━━━━━━━━━━━━━━━━━━━━\u001b[0m\u001b[37m\u001b[0m \u001b[1m0s\u001b[0m 10ms/step - accuracy: 0.5275 - loss: 0.6910 - val_accuracy: 0.3500 - val_loss: 0.7061\n",
            "Epoch 14/20\n",
            "\u001b[1m10/10\u001b[0m \u001b[32m━━━━━━━━━━━━━━━━━━━━\u001b[0m\u001b[37m\u001b[0m \u001b[1m0s\u001b[0m 9ms/step - accuracy: 0.5145 - loss: 0.6995 - val_accuracy: 0.3000 - val_loss: 0.7076\n",
            "Epoch 15/20\n",
            "\u001b[1m10/10\u001b[0m \u001b[32m━━━━━━━━━━━━━━━━━━━━\u001b[0m\u001b[37m\u001b[0m \u001b[1m0s\u001b[0m 10ms/step - accuracy: 0.5683 - loss: 0.6971 - val_accuracy: 0.3000 - val_loss: 0.7083\n",
            "Epoch 16/20\n",
            "\u001b[1m10/10\u001b[0m \u001b[32m━━━━━━━━━━━━━━━━━━━━\u001b[0m\u001b[37m\u001b[0m \u001b[1m0s\u001b[0m 10ms/step - accuracy: 0.5704 - loss: 0.6925 - val_accuracy: 0.3000 - val_loss: 0.7107\n",
            "Epoch 17/20\n",
            "\u001b[1m10/10\u001b[0m \u001b[32m━━━━━━━━━━━━━━━━━━━━\u001b[0m\u001b[37m\u001b[0m \u001b[1m0s\u001b[0m 10ms/step - accuracy: 0.6348 - loss: 0.6878 - val_accuracy: 0.3000 - val_loss: 0.7124\n",
            "Epoch 18/20\n",
            "\u001b[1m10/10\u001b[0m \u001b[32m━━━━━━━━━━━━━━━━━━━━\u001b[0m\u001b[37m\u001b[0m \u001b[1m0s\u001b[0m 10ms/step - accuracy: 0.5193 - loss: 0.7001 - val_accuracy: 0.3000 - val_loss: 0.7128\n",
            "Epoch 19/20\n",
            "\u001b[1m10/10\u001b[0m \u001b[32m━━━━━━━━━━━━━━━━━━━━\u001b[0m\u001b[37m\u001b[0m \u001b[1m0s\u001b[0m 9ms/step - accuracy: 0.4769 - loss: 0.7068 - val_accuracy: 0.3000 - val_loss: 0.7128\n",
            "Epoch 20/20\n",
            "\u001b[1m10/10\u001b[0m \u001b[32m━━━━━━━━━━━━━━━━━━━━\u001b[0m\u001b[37m\u001b[0m \u001b[1m0s\u001b[0m 10ms/step - accuracy: 0.6213 - loss: 0.6882 - val_accuracy: 0.3000 - val_loss: 0.7153\n"
          ]
        },
        {
          "output_type": "display_data",
          "data": {
            "text/plain": [
              "<Figure size 1200x500 with 2 Axes>"
            ],
            "image/png": "[encoded data removed]"
          },
          "metadata": {}
        }
      ]
    },
    {
      "cell_type": "code",
      "source": [
        "#5.How do you install PyTorch and verify the PyTorch installation\n",
        "\n",
        "import torch\n",
        "\n",
        "# Check PyTorch version\n",
        "print(\"PyTorch version:\", torch.__version__)\n",
        "\n",
        "# Check if GPU is available\n",
        "print(\"Is CUDA available:\", torch.cuda.is_available())\n",
        "\n",
        "# If GPU is available, check the CUDA version\n",
        "if torch.cuda.is_available():\n",
        "    print(\"CUDA version:\", torch.version.cuda)\n",
        "    print(\"Number of GPUs available:\", torch.cuda.device_count())\n",
        "    print(\"Current GPU:\", torch.cuda.current_device())"
      ],
      "metadata": {
        "colab": {
          "base_uri": "https://localhost:8080/"
        },
        "id": "0OYh_L-iT060",
        "outputId": "bbbdd379-8068-4a47-f899-88a7c13a019c"
      },
      "execution_count": null,
      "outputs": [
        {
          "output_type": "stream",
          "name": "stdout",
          "text": [
            "PyTorch version: 2.6.0+cu118\n",
            "Is CUDA available: False\n"
          ]
        }
      ]
    },
    {
      "cell_type": "code",
      "source": [
        "#6.How do you create a simple neural network in PyTorch\n",
        "\n",
        "import torch\n",
        "import torch.nn as nn\n",
        "import torch.optim as optim\n",
        "\n",
        "# Create dummy dataset\n",
        "X = torch.rand(100, 3)  # 100 samples, 3 features each\n",
        "y = torch.randint(0, 2, (100,))  # Binary targets (0 or 1)\n",
        "\n",
        "# Define a simple neural network\n",
        "class SimpleNN(nn.Module):\n",
        "    def __init__(self):\n",
        "        super(SimpleNN, self).__init__()\n",
        "        self.hidden = nn.Linear(3, 8)  # Input layer to hidden layer with 8 neurons\n",
        "        self.output = nn.Linear(8, 1)  # Hidden layer to output layer\n",
        "\n",
        "    def forward(self, x):\n",
        "        x = torch.relu(self.hidden(x))  # ReLU activation for hidden layer\n",
        "        x = torch.sigmoid(self.output(x))  # Sigmoid activation for output layer\n",
        "        return x\n",
        "\n",
        "# Instantiate the model\n",
        "model = SimpleNN()\n",
        "\n",
        "# Define loss function and optimizer\n",
        "criterion = nn.BCELoss()  # Binary Cross-Entropy Loss for binary classification\n",
        "optimizer = optim.Adam(model.parameters(), lr=0.01)\n",
        "\n",
        "# Training loop\n",
        "epochs = 10\n",
        "for epoch in range(epochs):\n",
        "    model.train()  # Set model to training mode\n",
        "    optimizer.zero_grad()  # Clear previous gradients\n",
        "    predictions = model(X).squeeze()  # Forward pass\n",
        "    loss = criterion(predictions, y.float())  # Compute loss\n",
        "    loss.backward()  # Backward pass\n",
        "    optimizer.step()  # Update weights\n",
        "\n",
        "    print(f'Epoch {epoch+1}/{epochs}, Loss: {loss.item()}')\n",
        "\n",
        "# Evaluate the model\n",
        "model.eval()\n",
        "with torch.no_grad():\n",
        "    outputs = model(X).squeeze()\n",
        "    predicted = (outputs > 0.5).float()  # Convert probabilities to binary predictions\n",
        "    accuracy = (predicted == y).float().mean()\n",
        "    print(f'Accuracy: {accuracy * 100:.2f}%')"
      ],
      "metadata": {
        "colab": {
          "base_uri": "https://localhost:8080/"
        },
        "id": "9vKotBGaVH0U",
        "outputId": "e21e6eda-c42c-454e-f481-25c7c39df9d6"
      },
      "execution_count": null,
      "outputs": [
        {
          "output_type": "stream",
          "name": "stdout",
          "text": [
            "Epoch 1/10, Loss: 0.7025062441825867\n",
            "Epoch 2/10, Loss: 0.7002357244491577\n",
            "Epoch 3/10, Loss: 0.6983953714370728\n",
            "Epoch 4/10, Loss: 0.6970071196556091\n",
            "Epoch 5/10, Loss: 0.6959758996963501\n",
            "Epoch 6/10, Loss: 0.6952109336853027\n",
            "Epoch 7/10, Loss: 0.6945977210998535\n",
            "Epoch 8/10, Loss: 0.6940500736236572\n",
            "Epoch 9/10, Loss: 0.6935616135597229\n",
            "Epoch 10/10, Loss: 0.6930961012840271\n",
            "Accuracy: 51.00%\n"
          ]
        }
      ]
    },
    {
      "cell_type": "code",
      "source": [
        "#7.How do you define a loss function and optimizer in PyTorch\n",
        "\n",
        "import torch\n",
        "import torch.nn as nn\n",
        "import torch.optim as optim\n",
        "\n",
        "# === Data ===\n",
        "X = torch.randn(100, 10)         # 100 samples, 10 features\n",
        "y = torch.randint(0, 2, (100,))  # Binary class labels (0 or 1)\n",
        "\n",
        "# === Model ===\n",
        "model = nn.Sequential(\n",
        "    nn.Linear(10, 5),\n",
        "    nn.ReLU(),\n",
        "    nn.Linear(5, 2)  # Output for 2 classes\n",
        ")\n",
        "\n",
        "# === Loss and Optimizer ===\n",
        "loss_fn = nn.CrossEntropyLoss()\n",
        "optimizer = optim.SGD(model.parameters(), lr=0.01)\n",
        "\n",
        "# === Training ===\n",
        "for epoch in range(5):  # 5 epochs\n",
        "    outputs = model(X)\n",
        "    loss = loss_fn(outputs, y)\n",
        "\n",
        "    optimizer.zero_grad()\n",
        "    loss.backward()\n",
        "    optimizer.step()\n",
        "\n",
        "    print(f\"Epoch {epoch+1}, Loss: {loss.item():.4f}\")\n"
      ],
      "metadata": {
        "id": "UXCA34LcVnQM",
        "colab": {
          "base_uri": "https://localhost:8080/"
        },
        "outputId": "26e02254-44ff-400d-d4f2-e2237662d2c7"
      },
      "execution_count": 5,
      "outputs": [
        {
          "output_type": "stream",
          "name": "stdout",
          "text": [
            "Epoch 1, Loss: 0.6976\n",
            "Epoch 2, Loss: 0.6975\n",
            "Epoch 3, Loss: 0.6974\n",
            "Epoch 4, Loss: 0.6973\n",
            "Epoch 5, Loss: 0.6973\n"
          ]
        }
      ]
    },
    {
      "cell_type": "code",
      "source": [
        "#8.How do you implement a custom loss function in PyTorch\n",
        "\n",
        "import torch\n",
        "\n",
        "# Define a custom loss function (e.g., Mean Absolute Error)\n",
        "def custom_loss_function(predictions, targets):\n",
        "    # Compute the absolute differences\n",
        "    loss = torch.mean(torch.abs(predictions - targets))\n",
        "    return loss\n",
        "\n",
        "# Example usage\n",
        "predictions = torch.tensor([0.2, 0.5, 0.8])\n",
        "targets = torch.tensor([0.0, 1.0, 1.0])\n",
        "loss = custom_loss_function(predictions, targets)\n",
        "print(\"Custom Loss:\", loss.item())"
      ],
      "metadata": {
        "colab": {
          "base_uri": "https://localhost:8080/"
        },
        "id": "rcqph-cuWEl8",
        "outputId": "361dfeaa-5318-4445-900e-5465d0005b46"
      },
      "execution_count": null,
      "outputs": [
        {
          "output_type": "stream",
          "name": "stdout",
          "text": [
            "Custom Loss: 0.29999998211860657\n"
          ]
        }
      ]
    },
    {
      "cell_type": "code",
      "source": [
        "#9.How do you save and load a TensorFlow model\n",
        "\n",
        "import tensorflow as tf\n",
        "import numpy as np\n",
        "\n",
        "# Create sample data\n",
        "x_train = np.random.random((1000, 100))\n",
        "y_train = tf.keras.utils.to_categorical(np.random.randint(10, size=(1000, 1)), num_classes=10)\n",
        "\n",
        "# Define the model\n",
        "model = tf.keras.Sequential([\n",
        "    tf.keras.layers.Dense(64, activation='relu', input_shape=(100,)),\n",
        "    tf.keras.layers.Dense(10, activation='softmax')\n",
        "])\n",
        "\n",
        "# Compile and train briefly\n",
        "model.compile(optimizer='adam', loss='categorical_crossentropy', metrics=['accuracy'])\n",
        "model.fit(x_train, y_train, epochs=1, batch_size=32)\n",
        "\n",
        "# === Save the model ===\n",
        "\n",
        "# Native Keras format\n",
        "model.save(\"model.keras\")\n",
        "\n",
        "# HDF5 format\n",
        "model.save(\"model.h5\")\n",
        "\n",
        "# SavedModel (for serving or TFLite)\n",
        "model.export(\"saved_model\")\n",
        "\n",
        "# === Load and evaluate ===\n",
        "\n",
        "# Load .keras\n",
        "loaded_keras = tf.keras.models.load_model(\"model.keras\")\n",
        "print(\"Keras model loaded. Evaluation:\", loaded_keras.evaluate(x_train, y_train, verbose=0))\n",
        "\n",
        "# Load .h5\n",
        "loaded_h5 = tf.keras.models.load_model(\"model.h5\")\n",
        "print(\"HDF5 model loaded. Evaluation:\", loaded_h5.evaluate(x_train, y_train, verbose=0))\n"
      ],
      "metadata": {
        "colab": {
          "base_uri": "https://localhost:8080/"
        },
        "id": "2MBmpyNoW1X2",
        "outputId": "9dd7a61e-6801-4377-c19a-bb79ee5c5f07"
      },
      "execution_count": 3,
      "outputs": [
        {
          "output_type": "stream",
          "name": "stderr",
          "text": [
            "/usr/local/lib/python3.11/dist-packages/keras/src/layers/core/dense.py:87: UserWarning: Do not pass an `input_shape`/`input_dim` argument to a layer. When using Sequential models, prefer using an `Input(shape)` object as the first layer in the model instead.\n",
            "  super().__init__(activity_regularizer=activity_regularizer, **kwargs)\n"
          ]
        },
        {
          "output_type": "stream",
          "name": "stdout",
          "text": [
            "\u001b[1m32/32\u001b[0m \u001b[32m━━━━━━━━━━━━━━━━━━━━\u001b[0m\u001b[37m\u001b[0m \u001b[1m1s\u001b[0m 2ms/step - accuracy: 0.1167 - loss: 2.3637\n"
          ]
        },
        {
          "output_type": "stream",
          "name": "stderr",
          "text": [
            "WARNING:absl:You are saving your model as an HDF5 file via `model.save()` or `keras.saving.save_model(model)`. This file format is considered legacy. We recommend using instead the native Keras format, e.g. `model.save('my_model.keras')` or `keras.saving.save_model(model, 'my_model.keras')`. \n"
          ]
        },
        {
          "output_type": "stream",
          "name": "stdout",
          "text": [
            "Saved artifact at 'saved_model'. The following endpoints are available:\n",
            "\n",
            "* Endpoint 'serve'\n",
            "  args_0 (POSITIONAL_ONLY): TensorSpec(shape=(None, 100), dtype=tf.float32, name='keras_tensor_3')\n",
            "Output Type:\n",
            "  TensorSpec(shape=(None, 10), dtype=tf.float32, name=None)\n",
            "Captures:\n",
            "  140362618877136: TensorSpec(shape=(), dtype=tf.resource, name=None)\n",
            "  140362618877712: TensorSpec(shape=(), dtype=tf.resource, name=None)\n",
            "  140362618878288: TensorSpec(shape=(), dtype=tf.resource, name=None)\n",
            "  140362618878864: TensorSpec(shape=(), dtype=tf.resource, name=None)\n"
          ]
        },
        {
          "output_type": "stream",
          "name": "stderr",
          "text": [
            "WARNING:absl:Compiled the loaded model, but the compiled metrics have yet to be built. `model.compile_metrics` will be empty until you train or evaluate the model.\n"
          ]
        },
        {
          "output_type": "stream",
          "name": "stdout",
          "text": [
            "Keras model loaded. Evaluation: [2.311760663986206, 0.10700000077486038]\n",
            "HDF5 model loaded. Evaluation: [2.311760663986206, 0.10700000077486038]\n"
          ]
        }
      ]
    }
  ]
}