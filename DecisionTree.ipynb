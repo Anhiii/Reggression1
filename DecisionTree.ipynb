{
  "nbformat": 4,
  "nbformat_minor": 0,
  "metadata": {
    "colab": {
      "provenance": []
    },
    "kernelspec": {
      "name": "python3",
      "display_name": "Python 3"
    },
    "language_info": {
      "name": "python"
    }
  },
  "cells": [
    {
      "cell_type": "markdown",
      "source": [
        "**Theoretical**\n",
        "\n",
        "\n",
        "1.What is a Decision Tree, and how does it work\n",
        "\n",
        "A Decision Tree is a supervised machine learning algorithm used for classification and regression tasks. It is a tree-like structure where each internal node represents a decision based on a feature, each branch represents an outcome of the decision, and each leaf node represents a final classification or prediction.\n",
        "\n",
        "How Does a Decision Tree Work?\n",
        "\n",
        "Feature Selection:\n",
        "\n",
        "The algorithm selects the best feature to split the data.\n",
        "It uses criteria like Gini Impurity, Entropy (Information Gain), or Mean Squared Error (MSE) for regression.\n",
        "\n",
        "\n",
        "Splitting:\n",
        "\n",
        "The dataset is split into subsets based on the selected feature.\n",
        "The goal is to create groups that are as pure as possible (i.e., contain similar target values).\n",
        "\n",
        "Stopping Criteria:\n",
        "\n",
        "The tree stops growing when a stopping condition is met, such as:\n",
        "A maximum depth is reached.\n",
        "No further gain in purity.\n",
        "A minimum number of samples in a node is reached.\n",
        "\n",
        "Prediction:\n",
        "\n",
        "For classification: The majority class in the leaf node is assigned as the predicted label.\n",
        "For regression: The average of the target values in the leaf node is used as the prediction."
      ],
      "metadata": {
        "id": "E9PdCNKKhLzi"
      }
    },
    {
      "cell_type": "markdown",
      "source": [
        "2.What are impurity measures in Decision Trees\n",
        "\n",
        "mpurity measures in Decision Trees help determine how mixed the classes are within a node. Lower impurity means better splits, leading to a more effective decision tree. The common impurity measures are:\n",
        "\n",
        "1. Gini Impurity\n",
        "Measures how often a randomly chosen element would be incorrectly classified.\n",
        "Formula:\n",
        "\n",
        "Gini=1−∑p\n",
        "i\n",
        "2\n",
        "​\n",
        "\n",
        "Where\n",
        "\n",
        "p\n",
        "i\n",
        "​\n",
        "  is the probability of a class in the node.\n",
        "A lower Gini value means purer nodes.\n",
        "2. Entropy (Information Gain)\n",
        "Based on the concept of information theory.\n",
        "Formula:\n",
        "\n",
        "Entropy=−∑p\n",
        "i\n",
        "​\n",
        " log\n",
        "2\n",
        "​\n",
        " p\n",
        "i\n",
        "​\n",
        "\n",
        "A higher entropy means more disorder; splitting should aim to minimize entropy.\n",
        "3. Variance (For Regression Trees)\n",
        "Measures how much target values vary within a node.\n",
        "Formula:\n",
        "\n",
        "Variance=\n",
        "N\n",
        "1\n",
        "​\n",
        " ∑(y\n",
        "i\n",
        "​\n",
        " −\n",
        "y\n",
        "ˉ\n",
        "​\n",
        " )\n",
        "2\n",
        "\n",
        "A lower variance means more homogeneous nodes.\n",
        "\n",
        "Comparison & Selection:\n",
        "Gini vs. Entropy: Gini is faster to compute, while entropy is more information-theoretic.\n",
        "Variance is used when dealing with continuous output in regression trees."
      ],
      "metadata": {
        "id": "h6iL5HxNhjwB"
      }
    },
    {
      "cell_type": "markdown",
      "source": [
        "3.What is the mathematical formula for Gini Impurity\n",
        "\n",
        "Gini = 1 - ∑(pi²)\n",
        "Where:\n",
        "\n",
        "\n",
        "p\n",
        "i\n",
        "​\n",
        "  is the probability of class\n",
        "\n",
        "i in the dataset.\n",
        "\n",
        "n is the number of classes."
      ],
      "metadata": {
        "id": "q--qA2kqh4cy"
      }
    },
    {
      "cell_type": "markdown",
      "source": [
        "4.What is the mathematical formula for Entropy\n",
        "\n",
        "H(X) = - ∑ P(x_i) log_b P(x_i)\n",
        "\n",
        "Where:\n",
        "\n",
        "\n",
        "H(X) is the entropy of the random variable\n",
        "X.\n",
        "\n",
        "P(x\n",
        "i\n",
        "​\n",
        " ) is the probability of occurrence of state\n",
        "𝑥\n",
        "𝑖\n",
        " .\n",
        "\n",
        "b is the base of the logarithm (commonly 2 for bits,\n",
        "\n",
        "e for nats, or 10 for dits)."
      ],
      "metadata": {
        "id": "NHfY5IJ5iVx4"
      }
    },
    {
      "cell_type": "markdown",
      "source": [
        "5.What is Information Gain, and how is it used in Decision Trees\n",
        "\n",
        "Information Gain in Decision Trees\n",
        "Information Gain (IG) is a key concept in decision trees used to measure how much a feature improves the purity of a dataset after splitting it. It helps in selecting the best feature for making decisions at each node of the tree.\n",
        "\n",
        "Definition\n",
        "\n",
        "Information Gain is calculated using Entropy, which quantifies the uncertainty or impurity in a dataset. It is defined as:\n",
        "\n",
        "\n",
        "IG=Entropy(parent)−∑(\n",
        "∣parent∣\n",
        "∣subset∣\n",
        "​\n",
        " ×Entropy(subset))\n",
        "where:\n",
        "\n",
        "Entropy(parent): The uncertainty in the original dataset before splitting.\n",
        "\n",
        "Entropy(subset): The uncertainty in each subset after splitting on a particular feature.\n",
        "\n",
        "|subset| / |parent|: The proportion of data points in each subset.\n",
        "\n",
        "How It Works in Decision Trees\n",
        "\n",
        "Calculate Entropy of the Parent Node\n",
        "Measure the overall uncertainty in the dataset.\n",
        "Split the Data on a Feature\n",
        "Divide the dataset based on a chosen feature.\n",
        "Calculate Entropy of Each Subset\n",
        "Compute the entropy for each resulting subset.\n",
        "Compute Information Gain\n",
        "Subtract the weighted sum of subset entropies from the parent entropy.\n",
        "Choose the Best Feature\n",
        "The feature with the highest Information Gain is selected for splitting.\n",
        "Example\n",
        "Suppose we have a dataset of emails labeled as Spam (1) or Not Spam (0), and we want to determine if a feature like \"Contains 'Free'\" is a good split.\n",
        "\n",
        "Compute Entropy before splitting.\n",
        "\n",
        "Divide emails into subsets: one containing \"Free\" and one not containing it.\n",
        "Compute the Entropy for each subset.\n",
        "Compute Information Gain and choose the best feature accordingly.\n",
        "Why Is Information Gain Important?\n",
        "Helps build efficient decision trees by selecting the most informative features.\n",
        "Reduces tree depth and prevents overfitting.\n",
        "Used in ID3, C4.5, and CART algorithms for decision tree construction."
      ],
      "metadata": {
        "id": "IXWFWPXViozy"
      }
    },
    {
      "cell_type": "markdown",
      "source": [
        "6.What is the difference between Gini Impurity and Entropy\n",
        "\n",
        "Gini Impurity and Entropy\n",
        "\n",
        "Gini Impurity and Entropy are impurity measures used in decision tree algorithms to determine the best feature splits.\n",
        "\n",
        "Gini Impurity: Measures the probability that a randomly chosen element would be incorrectly classified if randomly labeled according to the distribution of labels in the node. Lower values indicate a purer node.\n",
        "\n",
        "Entropy: Originates from information theory and measures the amount of uncertainty or randomness in a dataset. Lower entropy signifies more order and less impurity in the node."
      ],
      "metadata": {
        "id": "9fIZZ3nTjcLG"
      }
    },
    {
      "cell_type": "markdown",
      "source": [
        "7.What is the mathematical explanation behind Decision Trees\n",
        "\n",
        "Decision Trees are a powerful supervised learning algorithm used for classification and regression tasks. Their mathematical foundation is based on recursive partitioning of the feature space, entropy, information gain, and Gini impurity. Let's break it down step by step.\n",
        "\n",
        "1. Structure of a Decision Tree\n",
        "A decision tree consists of:\n",
        "\n",
        "Root Node: The starting point, which contains the entire dataset.\n",
        "Internal Nodes: Decision points based on feature values.\n",
        "Leaf Nodes: Terminal nodes that contain the final prediction.\n",
        "The goal is to split the dataset in a way that maximizes homogeneity in the resulting subsets.\n",
        "\n",
        "2. Splitting Criterion\n",
        "At each node, the algorithm selects the best feature to split the dataset using a mathematical criterion:\n",
        "\n",
        "For Classification:\n",
        "Entropy & Information Gain (ID3, C4.5)\n",
        "Gini Impurity (CART)\n",
        "For Regression:\n",
        "Variance Reduction\n",
        "Mean Squared Error (MSE)\n",
        "Entropy & Information Gain\n",
        "Entropy measures the impurity of a node. It is given by:\n",
        "\n",
        "\n",
        "H(S)=−\n",
        "i=1\n",
        "∑\n",
        "c\n",
        "​\n",
        " p\n",
        "i\n",
        "​\n",
        " log\n",
        "2\n",
        "​\n",
        " p\n",
        "i\n",
        "​\n",
        "\n",
        "where\n",
        "\n",
        "p\n",
        "i\n",
        "is the probability of class\n",
        "\n",
        "i in set\n",
        "\n",
        "S, and\n",
        "\n",
        "c is the number of classes.\n",
        "\n",
        "The Information Gain (IG) is defined as:\n",
        "\n",
        "\n",
        "IG(S,A)=H(S)−\n",
        "v∈A\n",
        "∑\n",
        "​\n",
        "  \n",
        "∣S∣\n",
        "∣S\n",
        "v\n",
        "​\n",
        " ∣\n",
        "​\n",
        " H(S\n",
        "v\n",
        "​\n",
        " )\n",
        "where:\n",
        "\n",
        "\n",
        "H(S) is the entropy of the original set,\n",
        "\n",
        "S\n",
        "v\n",
        "  is the subset obtained by splitting on feature\n",
        "\n",
        "A,\n",
        "\n",
        "∣S∣\n",
        "∣S\n",
        "v\n",
        "​\n",
        " ∣\n",
        "​\n",
        "  is the proportion of samples in subset\n",
        "𝑆\n",
        "𝑣\n",
        "S\n",
        "v\n",
        "​\n",
        " .\n",
        "A feature with the highest Information Gain is chosen for splitting.\n",
        "\n",
        "Gini Impurity\n",
        "Gini impurity is another measure of impurity:\n",
        "\n",
        "𝐺\n",
        "𝑖\n",
        "𝑛\n",
        "𝑖\n",
        "(\n",
        "𝑆\n",
        ")\n",
        "=\n",
        "1\n",
        "−\n",
        "∑\n",
        "𝑖\n",
        "=\n",
        "1\n",
        "𝑐\n",
        "𝑝\n",
        "𝑖\n",
        "2\n",
        "Gini(S)=1−\n",
        "i=1\n",
        "∑\n",
        "c\n",
        "​\n",
        " p\n",
        "i\n",
        "2\n",
        "​\n",
        "\n",
        "A lower Gini value means a purer node. The CART algorithm chooses the split that minimizes the weighted sum of Gini impurities.\n",
        "\n",
        "3. Stopping Criteria\n",
        "The tree stops growing when:\n",
        "\n",
        "A node becomes pure (all instances belong to one class).\n",
        "The tree reaches a maximum depth.\n",
        "The number of samples in a node falls below a threshold.\n",
        "Information gain is too small.\n",
        "4. Regression Decision Trees\n",
        "For regression tasks, decision trees minimize the variance of target values:\n",
        "\n",
        "MSE\n",
        "=\n",
        "1\n",
        "𝑛\n",
        "∑\n",
        "𝑖\n",
        "=\n",
        "1\n",
        "𝑛\n",
        "(\n",
        "𝑦\n",
        "𝑖\n",
        "−\n",
        "𝑦\n",
        "ˉ\n",
        ")\n",
        "2\n",
        "MSE=\n",
        "n\n",
        "1\n",
        "​\n",
        "  \n",
        "i=1\n",
        "∑\n",
        "n\n",
        "​\n",
        " (y\n",
        "i\n",
        "​\n",
        " −\n",
        "y\n",
        "ˉ\n",
        "​\n",
        " )\n",
        "2\n",
        "\n",
        "where\n",
        "𝑦\n",
        "𝑖\n",
        "y\n",
        "i\n",
        "​\n",
        "  are actual values and\n",
        "𝑦\n",
        "ˉ\n",
        "y\n",
        "ˉ\n",
        "​\n",
        "  is the mean of the subset.\n",
        "\n",
        "The feature that results in the lowest variance (or highest variance reduction) is chosen.\n",
        "\n",
        "5. Pruning (Regularization)\n",
        "To prevent overfitting, decision trees use:\n",
        "\n",
        "Pre-pruning: Stop tree growth early (e.g., depth limit).\n",
        "Post-pruning: Grow the tree fully and then remove unimportant nodes based on complexity measures like cost complexity pruning.\n",
        "\n",
        "6. Computational Complexity\n",
        "Training Complexity:\n",
        "\n",
        ")\n",
        "O(nlogn) for balanced trees.\n",
        "\n",
        "Testing Complexity:\n",
        "\n",
        "O(logn) for balanced trees.\n",
        "Conclusion\n",
        "Decision Trees split the feature space recursively using entropy, Gini impurity, or variance reduction. They are simple yet powerful and serve as the foundation for more advanced algorithms like Random Forests and Gradient Boosting."
      ],
      "metadata": {
        "id": "QvCdkdfZjhXD"
      }
    },
    {
      "cell_type": "markdown",
      "source": [
        "8.What is Pre-Pruning in Decision Trees\n",
        "\n",
        "Pre-Pruning in Decision Trees (Early Stopping)\n",
        "Pre-pruning, also known as early stopping, is a technique used in decision tree algorithms to prevent overfitting by restricting the tree's growth during its construction. It involves applying certain stopping criteria before the tree reaches its full depth.\n",
        "\n",
        "Key Concepts of Pre-Pruning\n",
        "Stopping Criteria: The decision tree stops growing if:\n",
        "\n",
        "The tree depth exceeds a predefined threshold.\n",
        "The number of samples in a node falls below a set minimum.\n",
        "The information gain or Gini improvement is below a certain threshold.\n",
        "The number of leaf nodes reaches a predefined limit.\n",
        "Benefits of Pre-Pruning:\n",
        "\n",
        "Reduces overfitting by limiting tree complexity.\n",
        "Improves generalization to new data.\n",
        "Reduces training time and computational cost.\n",
        "Drawbacks:\n",
        "\n",
        "Risk of underfitting if the tree is pruned too early.\n",
        "May miss important patterns in the data.\n",
        "Example in Practice\n",
        "In scikit-learn's DecisionTreeClassifier, pre-pruning can be applied using parameters such as:\n",
        "\n",
        "max_depth: Limits the maximum depth of the tree.\n",
        "min_samples_split: Specifies the minimum number of samples required to split a node.\n",
        "min_samples_leaf: Defines the minimum number of samples required in a leaf node.\n",
        "min_impurity_decrease: Stops splitting if impurity reduction is below this threshold."
      ],
      "metadata": {
        "id": "eOklzSVMkJMD"
      }
    },
    {
      "cell_type": "markdown",
      "source": [
        "9.What is Post-Pruning in Decision Trees\n",
        "\n",
        "\n",
        "Post-Pruning in Decision Trees\n",
        "Definition:\n",
        "Post-pruning is a technique used in decision tree learning to reduce overfitting by removing branches from the tree after it has been fully grown. The goal is to simplify the model, making it more generalizable to new data.\n",
        "\n",
        "Why is Post-Pruning Needed?\n",
        "Decision trees tend to overfit the training data, capturing noise and unnecessary details.\n",
        "A fully grown tree might be too complex, leading to poor performance on unseen data.\n",
        "Post-pruning helps improve accuracy on test data by reducing complexity.\n",
        "Post-Pruning Process:\n",
        "Grow the Full Tree:\n",
        "\n",
        "The decision tree is trained to its maximum depth, allowing it to capture all possible patterns.\n",
        "Evaluate Performance:\n",
        "\n",
        "The tree is tested on a validation dataset to assess its effectiveness.\n",
        "Prune the Tree:\n",
        "\n",
        "Remove branches that do not improve performance on the validation set.\n",
        "The pruning decision can be based on statistical measures like the error rate or information gain.\n",
        "Select the Optimal Tree:\n",
        "\n",
        "The pruned tree that performs best on the validation set is chosen for final use.\n",
        "Post-Pruning Techniques:\n",
        "Cost Complexity Pruning (CCP):\n",
        "\n",
        "Also known as weakest link pruning, it removes nodes based on a complexity parameter that balances tree size and accuracy.\n",
        "Reduced Error Pruning (REP):\n",
        "\n",
        "Nodes are pruned if their removal does not increase the error on the validation dataset.\n",
        "Advantages of Post-Pruning:\n",
        "✔ Reduces overfitting, improving generalization.\n",
        "✔ Results in a simpler, more interpretable model.\n",
        "✔ Enhances performance on unseen data.\n",
        "\n",
        "Disadvantages:\n",
        "✖ Requires a validation dataset for effective pruning.\n",
        "✖ Might remove useful splits if not tuned properly.\n",
        "\n",
        "Post-pruning is a widely used technique in decision tree algorithms like CART, C4.5, and ID3 to ensure better performance and robustness.\n",
        "\n"
      ],
      "metadata": {
        "id": "kD4B7ebLkiKL"
      }
    },
    {
      "cell_type": "markdown",
      "source": [
        "10.What is the difference between Pre-Pruning and Post-Pruning\n",
        "\n",
        "Difference Between Pre-Pruning and Post-Pruning\n",
        "Pruning is a technique used in decision trees to reduce overfitting and improve generalization. It involves removing unnecessary branches that do not contribute significantly to the predictive power of the model. There are two types of pruning: Pre-Pruning and Post-Pruning.\n",
        "\n",
        "Pre-Pruning (Early Stopping)\n",
        "\n",
        "Pre-pruning halts the growth of the decision tree during the training phase by setting a stopping criterion.\n",
        "\n",
        "It stops further splitting of nodes if certain conditions are met, such as:\n",
        "\n",
        "The depth of the tree reaches a predefined threshold.\n",
        "\n",
        "The number of samples in a node falls below a certain limit.\n",
        "\n",
        "The improvement in information gain or Gini index is below a set threshold.\n",
        "\n",
        "This technique prevents the tree from growing too complex, reducing overfitting.\n",
        "\n",
        "However, it may lead to underfitting if the stopping criteria are too strict, as the tree might miss important patterns.\n",
        "\n",
        "Post-Pruning (Pruning After Training)\n",
        "\n",
        "Post-pruning involves allowing the decision tree to grow fully and then removing branches that provide little predictive power.\n",
        "\n",
        "It works by:\n",
        "\n",
        "Removing branches that do not significantly improve accuracy on a validation dataset.\n",
        "\n",
        "Using techniques like cost complexity pruning (used in CART) to penalize complex trees.\n",
        "\n",
        "This method is more reliable as it allows the tree to capture all patterns before simplifying it.\n",
        "\n",
        "It typically results in better generalization compared to pre-pruning."
      ],
      "metadata": {
        "id": "rigv7bpkk7AE"
      }
    },
    {
      "cell_type": "markdown",
      "source": [
        "11.What is a Decision Tree Regressor\n",
        "\n",
        "A Decision Tree Regressor is a machine learning algorithm used for regression tasks. It is based on a decision tree, which splits the data into different branches based on feature values to predict continuous target values.\n",
        "\n",
        "How It Works\n",
        "\n",
        "Splitting: The data is recursively split into subsets based on the feature that minimizes the error (e.g., Mean Squared Error or Mean Absolute Error).\n",
        "\n",
        "Leaf Nodes: Each branch ends at a leaf node, which contains the predicted continuous value (often the mean of the data points in that region).\n",
        "\n",
        "Prediction: For a new input, the algorithm follows the decision tree splits and assigns a prediction based on the corresponding leaf node.\n",
        "\n",
        "Key Advantages\n",
        "\n",
        "Can model non-linear relationships.\n",
        "Handles both numerical and categorical data.\n",
        "Easy to interpret and visualize.\n",
        "\n",
        "Key Disadvantages\n",
        "\n",
        "Prone to overfitting, especially with deep trees.\n",
        "Can be sensitive to small changes in data."
      ],
      "metadata": {
        "id": "PBtWid6DlTVo"
      }
    },
    {
      "cell_type": "markdown",
      "source": [
        "12.What are the advantages and disadvantages of Decision Trees\n",
        "\n",
        "Advantages and Disadvantages of Decision Trees\n",
        "✅ Advantages:\n",
        "Easy to Understand & Interpret:\n",
        "\n",
        "Decision trees have a simple, intuitive structure that makes them easy to visualize and explain.\n",
        "No Need for Feature Scaling:\n",
        "\n",
        "Unlike algorithms such as SVM or k-NN, decision trees do not require normalization or standardization of data.\n",
        "Handles Both Categorical & Numerical Data:\n",
        "\n",
        "Can be used for classification and regression tasks without requiring extensive data preprocessing.\n",
        "Requires Less Data Preparation:\n",
        "\n",
        "Does not require feature selection or complex transformations; it can automatically select important features.\n",
        "Handles Non-Linearity Well:\n",
        "\n",
        "Can model complex relationships without requiring linear assumptions.\n",
        "Works Well with Missing Data:\n",
        "\n",
        "Can handle datasets with missing values without the need for imputation.\n",
        "Fast Training & Prediction:\n",
        "\n",
        "Decision trees are relatively fast to train and make predictions, especially on small to medium datasets.\n",
        "Feature Importance Ranking:\n",
        "\n",
        "Can provide insights into which features are most influential in making predictions.\n",
        "❌ Disadvantages:\n",
        "Prone to Overfitting:\n",
        "\n",
        "A deep tree can memorize training data rather than generalizing well to new data.\n",
        "High Variance (Unstable Model):\n",
        "\n",
        "Small changes in data can lead to different tree structures, making decision trees unstable.\n",
        "Greedy Algorithm Limitation:\n",
        "\n",
        "The splitting criteria used (e.g., Gini Index, Information Gain) may not always result in a globally optimal tree.\n",
        "Biased with Imbalanced Data:\n",
        "\n",
        "If some classes dominate the dataset, the tree may become biased toward them.\n",
        "Not Ideal for Large Datasets:\n",
        "\n",
        "As the dataset grows, the tree becomes deep and computationally expensive.\n",
        "Poor Performance on Complex Relationships:\n",
        "\n",
        "Struggles with capturing relationships that require multiple interactions between variables.\n",
        "Sensitive to Noisy Data:\n",
        "\n",
        "Noisy data or outliers can easily change the structure of the tree.\n"
      ],
      "metadata": {
        "id": "Gnho--l8lkAh"
      }
    },
    {
      "cell_type": "markdown",
      "source": [
        "13.How does a Decision Tree handle missing values\n",
        "\n",
        "A Decision Tree can handle missing values in several ways:\n",
        "\n",
        "1. Ignoring Missing Values in Splitting\n",
        "Some decision tree algorithms, like CART (Classification and Regression Trees), can split on features without missing values while ignoring instances with missing values for that feature.\n",
        "2. Surrogate Splitting (CART)\n",
        "When a value is missing, the model uses an alternative feature (a surrogate split) that is highly correlated with the original splitting feature.\n",
        "This allows the tree to still make a decision even if a feature value is missing.\n",
        "3. Assigning the Most Common Value (for Categorical Features)\n",
        "If a categorical feature is missing, the tree can assign the most frequent category in the training dataset.\n",
        "4. Using the Mean/Median for Numerical Features\n",
        "Missing numerical values can be replaced with the mean or median of the feature.\n",
        "5. Using Probabilistic Assignment\n",
        "Some algorithms distribute the instance among the possible branches based on the probability of different feature values.\n",
        "6. Using Missingness as a Separate Category\n",
        "The missing values can be treated as a separate category when dealing with categorical variables.\n",
        "7. Dropping Rows with Missing Values (Simple Approach)\n",
        "If missing values are rare, rows with missing values can be removed before training the tree."
      ],
      "metadata": {
        "id": "cp8qAW3Cly7X"
      }
    },
    {
      "cell_type": "markdown",
      "source": [
        "14.How does a Decision Tree handle categorical features\n",
        "\n",
        "A Decision Tree handles categorical features by splitting the data based on unique feature values. Here's how it works:\n",
        "\n",
        "1. Splitting on Categorical Features\n",
        "Each categorical feature can take one of several discrete values.\n",
        "The tree decides how to split by evaluating different splitting criteria such as Gini impurity or entropy (for classification trees) and variance reduction (for regression trees).\n",
        "When a categorical feature is encountered, the tree branches into different paths based on each unique value.\n",
        "2. Handling Multi-Class Categorical Features\n",
        "If a categorical feature has low cardinality (few unique values), the tree can create a separate branch for each category.\n",
        "If a categorical feature has high cardinality (many unique values), the tree may:\n",
        "Merge some categories based on similarity in terms of the target variable.\n",
        "Use one-hot encoding to convert categories into binary features.\n",
        "Use ordinal encoding (if the categories have a meaningful order).\n",
        "3. Mathematical Computation\n",
        "The algorithm calculates the impurity reduction for each possible split.\n",
        "Example: If a feature \"Color\" has values {Red, Blue, Green}, the tree checks how splitting at each color value impacts classification accuracy.\n",
        "4. Decision Tree Algorithms & Categorical Features\n",
        "CART (Classification and Regression Trees): Handles only numerical features directly, requiring encoding of categorical features.\n",
        "ID3, C4.5, and C5.0: Natively handle categorical data without encoding.\n",
        "5. Preprocessing for Decision Trees\n",
        "If using scikit-learn's DecisionTreeClassifier, categorical features need to be encoded (e.g., Label Encoding or One-Hot Encoding).\n",
        "Some tree-based models like LightGBM and CatBoost can directly process categorical variables."
      ],
      "metadata": {
        "id": "7D1o-271l9RC"
      }
    },
    {
      "cell_type": "markdown",
      "source": [
        "15.What are some real-world applications of Decision Trees?\n",
        "\n",
        "Decision Trees are widely used in various industries due to their interpretability and effectiveness. Here are some real-world applications:\n",
        "\n",
        "1. Finance & Banking\n",
        "Credit Risk Assessment: Banks use decision trees to evaluate loan applications and determine the likelihood of default.\n",
        "Fraud Detection: Identifies fraudulent transactions based on patterns in past data.\n",
        "2. Healthcare\n",
        "Medical Diagnosis: Helps doctors diagnose diseases based on symptoms and test results.\n",
        "Treatment Recommendation: Assists in suggesting personalized treatments by analyzing patient history.\n",
        "3. Marketing & Customer Analytics\n",
        "Customer Segmentation: Identifies different customer groups based on purchasing behavior.\n",
        "Churn Prediction: Predicts customers who are likely to stop using a service, helping with retention strategies.\n",
        "4. Manufacturing & Quality Control\n",
        "Defect Detection: Classifies defective and non-defective products in production lines.\n",
        "Predictive Maintenance: Anticipates equipment failures and schedules maintenance before breakdowns.\n",
        "5. Retail & E-Commerce\n",
        "Recommendation Systems: Suggests products based on past purchases and browsing behavior.\n",
        "Demand Forecasting: Predicts product demand to optimize inventory management.\n",
        "6. Human Resources (HR)\n",
        "Employee Attrition Prediction: Identifies employees likely to leave the company.\n",
        "Hiring Decisions: Helps shortlist candidates based on qualifications and interview performance.\n",
        "7. Agriculture\n",
        "Crop Disease Detection: Diagnoses plant diseases based on environmental conditions and symptoms.\n",
        "Yield Prediction: Estimates crop yield based on weather, soil conditions, and farming techniques.\n",
        "8. Autonomous Systems\n",
        "Self-Driving Cars: Helps in decision-making for navigation and obstacle avoidance.\n",
        "Robotic Process Automation (RPA): Automates repetitive tasks based on predefined rules."
      ],
      "metadata": {
        "id": "JViPQQ0amH9i"
      }
    },
    {
      "cell_type": "code",
      "execution_count": 1,
      "metadata": {
        "colab": {
          "base_uri": "https://localhost:8080/"
        },
        "id": "cdFG_i4GeNGF",
        "outputId": "4adcc201-e334-4f36-fc63-44e2fa403946"
      },
      "outputs": [
        {
          "output_type": "stream",
          "name": "stdout",
          "text": [
            "Model Accuracy: 1.00\n"
          ]
        }
      ],
      "source": [
        "#Practical\n",
        "\n",
        "#16.Write a Python program to train a Decision Tree Classifier on the Iris dataset and print the model accuracy.\n",
        "\n",
        "from sklearn.datasets import load_iris\n",
        "from sklearn.model_selection import train_test_split\n",
        "from sklearn.tree import DecisionTreeClassifier\n",
        "from sklearn.metrics import accuracy_score\n",
        "\n",
        "# Load the Iris dataset\n",
        "iris = load_iris()\n",
        "X, y = iris.data, iris.target\n",
        "\n",
        "# Split the dataset into training and testing sets\n",
        "X_train, X_test, y_train, y_test = train_test_split(X, y, test_size=0.2, random_state=42)\n",
        "\n",
        "# Create a Decision Tree Classifier\n",
        "clf = DecisionTreeClassifier()\n",
        "\n",
        "# Train the classifier\n",
        "clf.fit(X_train, y_train)\n",
        "\n",
        "# Make predictions\n",
        "y_pred = clf.predict(X_test)\n",
        "\n",
        "# Calculate and print the accuracy\n",
        "accuracy = accuracy_score(y_test, y_pred)\n",
        "print(f\"Model Accuracy: {accuracy:.2f}\")"
      ]
    },
    {
      "cell_type": "code",
      "source": [
        "#17.Write a Python program to train a Decision Tree Classifier using Gini Impurity as the criterion and print the feature importances.\n",
        "\n",
        "from sklearn.datasets import load_iris\n",
        "from sklearn.model_selection import train_test_split\n",
        "from sklearn.tree import DecisionTreeClassifier\n",
        "import pandas as pd\n",
        "\n",
        "# Load dataset\n",
        "data = load_iris()\n",
        "X = data.data\n",
        "y = data.target\n",
        "\n",
        "# Split dataset into training and testing sets\n",
        "X_train, X_test, y_train, y_test = train_test_split(X, y, test_size=0.2, random_state=42)\n",
        "\n",
        "# Train Decision Tree Classifier using Gini Impurity\n",
        "clf = DecisionTreeClassifier(criterion='gini', random_state=42)\n",
        "clf.fit(X_train, y_train)\n",
        "\n",
        "# Print feature importances\n",
        "feature_importances = pd.DataFrame({'Feature': data.feature_names, 'Importance': clf.feature_importances_})\n",
        "print(feature_importances.sort_values(by='Importance', ascending=False))"
      ],
      "metadata": {
        "colab": {
          "base_uri": "https://localhost:8080/"
        },
        "id": "ifgpJMgpei3G",
        "outputId": "98795268-d9f4-4519-8593-41174d52c4ac"
      },
      "execution_count": 2,
      "outputs": [
        {
          "output_type": "stream",
          "name": "stdout",
          "text": [
            "             Feature  Importance\n",
            "2  petal length (cm)    0.906143\n",
            "3   petal width (cm)    0.077186\n",
            "1   sepal width (cm)    0.016670\n",
            "0  sepal length (cm)    0.000000\n"
          ]
        }
      ]
    },
    {
      "cell_type": "code",
      "source": [
        "#18.Write a Python program to train a Decision Tree Classifier using Entropy as the splitting criterion and print the model accuracy.\n",
        "\n",
        "import numpy as np\n",
        "import pandas as pd\n",
        "from sklearn.model_selection import train_test_split\n",
        "from sklearn.tree import DecisionTreeClassifier\n",
        "from sklearn.metrics import accuracy_score\n",
        "\n",
        "# Sample dataset (Iris dataset)\n",
        "from sklearn.datasets import load_iris\n",
        "data = load_iris()\n",
        "X = data.data\n",
        "y = data.target\n",
        "\n",
        "# Splitting the dataset into training and testing sets\n",
        "X_train, X_test, y_train, y_test = train_test_split(X, y, test_size=0.2, random_state=42)\n",
        "\n",
        "# Creating and training the Decision Tree Classifier using Entropy\n",
        "clf = DecisionTreeClassifier(criterion='entropy', random_state=42)\n",
        "clf.fit(X_train, y_train)\n",
        "\n",
        "# Making predictions\n",
        "y_pred = clf.predict(X_test)\n",
        "\n",
        "# Calculating accuracy\n",
        "accuracy = accuracy_score(y_test, y_pred)\n",
        "print(f\"Model Accuracy: {accuracy:.2f}\")"
      ],
      "metadata": {
        "colab": {
          "base_uri": "https://localhost:8080/"
        },
        "id": "2UmhIRChetgY",
        "outputId": "2d07212f-9f98-429b-c677-a88d5397736c"
      },
      "execution_count": 3,
      "outputs": [
        {
          "output_type": "stream",
          "name": "stdout",
          "text": [
            "Model Accuracy: 1.00\n"
          ]
        }
      ]
    },
    {
      "cell_type": "code",
      "source": [
        "#19.Write a Python program to train a Decision Tree Regressor on a housing dataset and evaluate using Mean Squared Error (MSE).\n",
        "\n",
        "import numpy as np\n",
        "import pandas as pd\n",
        "from sklearn.model_selection import train_test_split\n",
        "from sklearn.tree import DecisionTreeRegressor\n",
        "from sklearn.metrics import mean_squared_error\n",
        "from sklearn.datasets import fetch_california_housing\n",
        "\n",
        "# Load the California housing dataset\n",
        "data = fetch_california_housing()\n",
        "df = pd.DataFrame(data.data, columns=data.feature_names)\n",
        "df['Target'] = data.target\n",
        "\n",
        "# Split the dataset into features and target variable\n",
        "X = df.drop(columns=['Target'])\n",
        "y = df['Target']\n",
        "\n",
        "# Split the data into training and testing sets\n",
        "X_train, X_test, y_train, y_test = train_test_split(X, y, test_size=0.2, random_state=42)\n",
        "\n",
        "# Initialize the Decision Tree Regressor\n",
        "regressor = DecisionTreeRegressor(random_state=42)\n",
        "\n",
        "# Train the model\n",
        "regressor.fit(X_train, y_train)\n",
        "\n",
        "# Make predictions\n",
        "y_pred = regressor.predict(X_test)\n",
        "\n",
        "# Evaluate using Mean Squared Error (MSE)\n",
        "mse = mean_squared_error(y_test, y_pred)\n",
        "print(f\"Mean Squared Error: {mse}\")"
      ],
      "metadata": {
        "colab": {
          "base_uri": "https://localhost:8080/"
        },
        "id": "I74q5r-9e5Mp",
        "outputId": "6b8a9e17-76f7-41c6-f0ef-62bc88125677"
      },
      "execution_count": 4,
      "outputs": [
        {
          "output_type": "stream",
          "name": "stdout",
          "text": [
            "Mean Squared Error: 0.495235205629094\n"
          ]
        }
      ]
    },
    {
      "cell_type": "code",
      "source": [
        "#20.Write a Python program to train a Decision Tree Classifier and visualize the tree using graphviz.\n",
        "\n",
        "import graphviz\n",
        "import numpy as np\n",
        "import pandas as pd\n",
        "from sklearn import datasets\n",
        "from sklearn.tree import DecisionTreeClassifier, export_graphviz\n",
        "from sklearn.model_selection import train_test_split\n",
        "\n",
        "# Load dataset (Iris dataset as an example)\n",
        "iris = datasets.load_iris()\n",
        "X = iris.data\n",
        "y = iris.target\n",
        "\n",
        "# Split the dataset into training and testing sets\n",
        "X_train, X_test, y_train, y_test = train_test_split(X, y, test_size=0.2, random_state=42)\n",
        "\n",
        "# Train the Decision Tree Classifier\n",
        "clf = DecisionTreeClassifier(criterion='entropy', max_depth=3, random_state=42)\n",
        "clf.fit(X_train, y_train)\n",
        "\n",
        "# Visualizing the Decision Tree\n",
        "dot_data = export_graphviz(clf, out_file=None,\n",
        "                           feature_names=iris.feature_names,\n",
        "                           class_names=iris.target_names,\n",
        "                           filled=True, rounded=True, special_characters=True)\n",
        "\n",
        "graph = graphviz.Source(dot_data)\n",
        "graph.render(\"decision_tree\")  # Saves the tree visualization as a PDF file\n",
        "\n",
        "graph.view()  # Opens the visualization"
      ],
      "metadata": {
        "colab": {
          "base_uri": "https://localhost:8080/",
          "height": 36
        },
        "id": "Rxye61K1fDMS",
        "outputId": "866f0730-388f-471b-c1dd-156de982c919"
      },
      "execution_count": 6,
      "outputs": [
        {
          "output_type": "execute_result",
          "data": {
            "text/plain": [
              "'decision_tree.pdf'"
            ],
            "application/vnd.google.colaboratory.intrinsic+json": {
              "type": "string"
            }
          },
          "metadata": {},
          "execution_count": 6
        }
      ]
    },
    {
      "cell_type": "code",
      "source": [
        "#21.Write a Python program to train a Decision Tree Classifier with a maximum depth of 3 and compare its accuracy with a fully grown tree.\n",
        "\n",
        "from sklearn.datasets import load_iris\n",
        "from sklearn.model_selection import train_test_split\n",
        "from sklearn.tree import DecisionTreeClassifier\n",
        "from sklearn.metrics import accuracy_score\n",
        "\n",
        "# Load the Iris dataset\n",
        "iris = load_iris()\n",
        "X, y = iris.data, iris.target\n",
        "\n",
        "# Split dataset into training and testing sets\n",
        "X_train, X_test, y_train, y_test = train_test_split(X, y, test_size=0.2, random_state=42)\n",
        "\n",
        "# Train a Decision Tree Classifier with a maximum depth of 3\n",
        "dt_limited = DecisionTreeClassifier(max_depth=3, random_state=42)\n",
        "dt_limited.fit(X_train, y_train)\n",
        "y_pred_limited = dt_limited.predict(X_test)\n",
        "accuracy_limited = accuracy_score(y_test, y_pred_limited)\n",
        "\n",
        "# Train a fully grown Decision Tree Classifier (no depth limit)\n",
        "dt_full = DecisionTreeClassifier(random_state=42)\n",
        "dt_full.fit(X_train, y_train)\n",
        "y_pred_full = dt_full.predict(X_test)\n",
        "accuracy_full = accuracy_score(y_test, y_pred_full)\n",
        "\n",
        "# Print accuracy results\n",
        "print(f\"Accuracy of Decision Tree with max depth 3: {accuracy_limited:.4f}\")\n",
        "print(f\"Accuracy of fully grown Decision Tree: {accuracy_full:.4f}\")"
      ],
      "metadata": {
        "colab": {
          "base_uri": "https://localhost:8080/"
        },
        "id": "lC0OxdbefXAg",
        "outputId": "8b087288-fff2-4c42-bc39-d426c7e78d76"
      },
      "execution_count": 7,
      "outputs": [
        {
          "output_type": "stream",
          "name": "stdout",
          "text": [
            "Accuracy of Decision Tree with max depth 3: 1.0000\n",
            "Accuracy of fully grown Decision Tree: 1.0000\n"
          ]
        }
      ]
    },
    {
      "cell_type": "code",
      "source": [
        "#22.Write a Python program to train a Decision Tree Classifier using min_samples_split=5 and compare its accuracy with a default tree.\n",
        "\n",
        "from sklearn.datasets import load_iris\n",
        "from sklearn.model_selection import train_test_split\n",
        "from sklearn.tree import DecisionTreeClassifier\n",
        "from sklearn.metrics import accuracy_score\n",
        "\n",
        "# Load the dataset\n",
        "iris = load_iris()\n",
        "X, y = iris.data, iris.target\n",
        "\n",
        "# Split the data into training and testing sets\n",
        "X_train, X_test, y_train, y_test = train_test_split(X, y, test_size=0.2, random_state=42)\n",
        "\n",
        "# Train the default Decision Tree Classifier\n",
        "default_tree = DecisionTreeClassifier(random_state=42)\n",
        "default_tree.fit(X_train, y_train)\n",
        "y_pred_default = default_tree.predict(X_test)\n",
        "default_accuracy = accuracy_score(y_test, y_pred_default)\n",
        "\n",
        "# Train the Decision Tree Classifier with min_samples_split=5\n",
        "dt_min_samples = DecisionTreeClassifier(min_samples_split=5, random_state=42)\n",
        "dt_min_samples.fit(X_train, y_train)\n",
        "y_pred_min_samples = dt_min_samples.predict(X_test)\n",
        "min_samples_accuracy = accuracy_score(y_test, y_pred_min_samples)\n",
        "\n",
        "# Print the accuracy results\n",
        "print(f\"Accuracy of default Decision Tree: {default_accuracy:.4f}\")\n",
        "print(f\"Accuracy of Decision Tree with min_samples_split=5: {min_samples_accuracy:.4f}\")"
      ],
      "metadata": {
        "colab": {
          "base_uri": "https://localhost:8080/"
        },
        "id": "suOTWmrXfkTP",
        "outputId": "70845d7d-37ce-4382-fb35-fd92ea101132"
      },
      "execution_count": 8,
      "outputs": [
        {
          "output_type": "stream",
          "name": "stdout",
          "text": [
            "Accuracy of default Decision Tree: 1.0000\n",
            "Accuracy of Decision Tree with min_samples_split=5: 1.0000\n"
          ]
        }
      ]
    },
    {
      "cell_type": "code",
      "source": [
        "#23.Write a Python program to apply feature scaling before training a Decision Tree Classifier and compare its accuracy with unscaled data.\n",
        "\n",
        "import numpy as np\n",
        "import pandas as pd\n",
        "from sklearn.model_selection import train_test_split\n",
        "from sklearn.preprocessing import StandardScaler\n",
        "from sklearn.tree import DecisionTreeClassifier\n",
        "from sklearn.metrics import accuracy_score\n",
        "from sklearn.datasets import load_iris\n",
        "\n",
        "# Load dataset\n",
        "data = load_iris()\n",
        "X, y = data.data, data.target\n",
        "\n",
        "# Split data into training and testing sets\n",
        "X_train, X_test, y_train, y_test = train_test_split(X, y, test_size=0.2, random_state=42)\n",
        "\n",
        "# Train Decision Tree Classifier without feature scaling\n",
        "clf_unscaled = DecisionTreeClassifier(random_state=42)\n",
        "clf_unscaled.fit(X_train, y_train)\n",
        "y_pred_unscaled = clf_unscaled.predict(X_test)\n",
        "accuracy_unscaled = accuracy_score(y_test, y_pred_unscaled)\n",
        "\n",
        "# Apply feature scaling\n",
        "scaler = StandardScaler()\n",
        "X_train_scaled = scaler.fit_transform(X_train)\n",
        "X_test_scaled = scaler.transform(X_test)\n",
        "\n",
        "# Train Decision Tree Classifier with scaled data\n",
        "clf_scaled = DecisionTreeClassifier(random_state=42)\n",
        "clf_scaled.fit(X_train_scaled, y_train)\n",
        "y_pred_scaled = clf_scaled.predict(X_test_scaled)\n",
        "accuracy_scaled = accuracy_score(y_test, y_pred_scaled)\n",
        "\n",
        "# Print accuracy comparison\n",
        "print(f\"Accuracy without scaling: {accuracy_unscaled:.4f}\")\n",
        "print(f\"Accuracy with scaling: {accuracy_scaled:.4f}\")"
      ],
      "metadata": {
        "colab": {
          "base_uri": "https://localhost:8080/"
        },
        "id": "LfnYtCREfvSk",
        "outputId": "5cbdf8b7-c74a-4f4b-dd1d-a59009aa544b"
      },
      "execution_count": 9,
      "outputs": [
        {
          "output_type": "stream",
          "name": "stdout",
          "text": [
            "Accuracy without scaling: 1.0000\n",
            "Accuracy with scaling: 1.0000\n"
          ]
        }
      ]
    },
    {
      "cell_type": "code",
      "source": [
        "#24.Write a Python program to train a Decision Tree Classifier using One-vs-Rest (OvR) strategy for multiclass classification.\n",
        "\n",
        "from sklearn.datasets import load_iris\n",
        "from sklearn.model_selection import train_test_split\n",
        "from sklearn.tree import DecisionTreeClassifier\n",
        "from sklearn.multiclass import OneVsRestClassifier\n",
        "from sklearn.metrics import accuracy_score\n",
        "\n",
        "# Load dataset\n",
        "iris = load_iris()\n",
        "X, y = iris.data, iris.target\n",
        "\n",
        "# Split dataset into training and testing sets\n",
        "X_train, X_test, y_train, y_test = train_test_split(X, y, test_size=0.2, random_state=42)\n",
        "\n",
        "# Create a Decision Tree Classifier wrapped in OneVsRest strategy\n",
        "ovr_classifier = OneVsRestClassifier(DecisionTreeClassifier())\n",
        "\n",
        "# Train the classifier\n",
        "ovr_classifier.fit(X_train, y_train)\n",
        "\n",
        "# Predict on test data\n",
        "y_pred = ovr_classifier.predict(X_test)\n",
        "\n",
        "# Evaluate the model\n",
        "accuracy = accuracy_score(y_test, y_pred)\n",
        "print(f'Accuracy: {accuracy:.2f}')"
      ],
      "metadata": {
        "colab": {
          "base_uri": "https://localhost:8080/"
        },
        "id": "98n58L5Gf5w9",
        "outputId": "3a9bcd88-934a-40d7-ad7f-be3288c9b839"
      },
      "execution_count": 10,
      "outputs": [
        {
          "output_type": "stream",
          "name": "stdout",
          "text": [
            "Accuracy: 1.00\n"
          ]
        }
      ]
    },
    {
      "cell_type": "code",
      "source": [
        "#25.Write a Python program to train a Decision Tree Classifier and display the feature importance scores.\n",
        "\n",
        "import numpy as np\n",
        "import pandas as pd\n",
        "from sklearn.model_selection import train_test_split\n",
        "from sklearn.tree import DecisionTreeClassifier\n",
        "from sklearn.datasets import load_iris\n",
        "import matplotlib.pyplot as plt\n",
        "\n",
        "# Load dataset (Iris dataset for demonstration)\n",
        "data = load_iris()\n",
        "X = pd.DataFrame(data.data, columns=data.feature_names)\n",
        "y = data.target\n",
        "\n",
        "# Split data into training and testing sets\n",
        "X_train, X_test, y_train, y_test = train_test_split(X, y, test_size=0.2, random_state=42)\n",
        "\n",
        "# Initialize and train Decision Tree Classifier\n",
        "clf = DecisionTreeClassifier(random_state=42)\n",
        "clf.fit(X_train, y_train)\n",
        "\n",
        "# Get feature importance scores\n",
        "feature_importances = clf.feature_importances_\n",
        "\n",
        "# Display feature importance scores\n",
        "feature_importance_df = pd.DataFrame({'Feature': X.columns, 'Importance': feature_importances})\n",
        "feature_importance_df = feature_importance_df.sort_values(by='Importance', ascending=False)\n",
        "print(feature_importance_df)\n",
        "\n",
        "# Plot feature importance\n",
        "plt.figure(figsize=(8, 6))\n",
        "plt.barh(feature_importance_df['Feature'], feature_importance_df['Importance'], color='skyblue')\n",
        "plt.xlabel('Importance Score')\n",
        "plt.ylabel('Feature')\n",
        "plt.title('Feature Importance in Decision Tree Classifier')\n",
        "plt.gca().invert_yaxis()\n",
        "plt.show()"
      ],
      "metadata": {
        "colab": {
          "base_uri": "https://localhost:8080/",
          "height": 651
        },
        "id": "pNnxfrM2gBD4",
        "outputId": "c282a130-e7a6-4ed6-be29-05995a05c729"
      },
      "execution_count": 11,
      "outputs": [
        {
          "output_type": "stream",
          "name": "stdout",
          "text": [
            "             Feature  Importance\n",
            "2  petal length (cm)    0.906143\n",
            "3   petal width (cm)    0.077186\n",
            "1   sepal width (cm)    0.016670\n",
            "0  sepal length (cm)    0.000000\n"
          ]
        },
        {
          "output_type": "display_data",
          "data": {
            "text/plain": [
              "<Figure size 800x600 with 1 Axes>"
            ],
            "image/png": "[encoded data removed]"
          },
          "metadata": {}
        }
      ]
    },
    {
      "cell_type": "code",
      "source": [
        "#26.Write a Python program to train a Decision Tree Regressor with max_depth=5 and compare its performance with an unrestricted tree.\n",
        "\n",
        "import numpy as np\n",
        "import matplotlib.pyplot as plt\n",
        "from sklearn.tree import DecisionTreeRegressor\n",
        "from sklearn.metrics import mean_squared_error\n",
        "from sklearn.model_selection import train_test_split\n",
        "\n",
        "# Generate synthetic data\n",
        "np.random.seed(42)\n",
        "X = np.sort(5 * np.random.rand(80, 1), axis=0)\n",
        "y = np.sin(X).ravel() + np.random.normal(0, 0.1, X.shape[0])\n",
        "\n",
        "# Split data into training and testing sets\n",
        "X_train, X_test, y_train, y_test = train_test_split(X, y, test_size=0.2, random_state=42)\n",
        "\n",
        "# Train Decision Tree Regressor with max_depth=5\n",
        "tree_limited = DecisionTreeRegressor(max_depth=5, random_state=42)\n",
        "tree_limited.fit(X_train, y_train)\n",
        "y_pred_limited = tree_limited.predict(X_test)\n",
        "mse_limited = mean_squared_error(y_test, y_pred_limited)\n",
        "\n",
        "# Train an unrestricted Decision Tree Regressor\n",
        "tree_unrestricted = DecisionTreeRegressor(random_state=42)\n",
        "tree_unrestricted.fit(X_train, y_train)\n",
        "y_pred_unrestricted = tree_unrestricted.predict(X_test)\n",
        "mse_unrestricted = mean_squared_error(y_test, y_pred_unrestricted)\n",
        "\n",
        "# Print MSE for comparison\n",
        "print(f\"MSE with max_depth=5: {mse_limited:.4f}\")\n",
        "print(f\"MSE with unrestricted depth: {mse_unrestricted:.4f}\")\n",
        "\n",
        "# Plot the results\n",
        "X_grid = np.arange(0, 5, 0.01).reshape(-1, 1)\n",
        "y_limited_pred = tree_limited.predict(X_grid)\n",
        "y_unrestricted_pred = tree_unrestricted.predict(X_grid)\n",
        "\n",
        "plt.figure(figsize=(10, 5))\n",
        "plt.scatter(X, y, color=\"black\", label=\"Data\")\n",
        "plt.plot(X_grid, y_limited_pred, color=\"blue\", label=\"max_depth=5\")\n",
        "plt.plot(X_grid, y_unrestricted_pred, color=\"red\", label=\"Unrestricted\")\n",
        "plt.legend()\n",
        "plt.xlabel(\"X\")\n",
        "plt.ylabel(\"y\")\n",
        "plt.title(\"Decision Tree Regression Comparison\")\n",
        "plt.show()"
      ],
      "metadata": {
        "colab": {
          "base_uri": "https://localhost:8080/",
          "height": 522
        },
        "id": "G_IP-xqqgUoF",
        "outputId": "c859eeff-409d-47e1-9029-221ac35112a0"
      },
      "execution_count": 12,
      "outputs": [
        {
          "output_type": "stream",
          "name": "stdout",
          "text": [
            "MSE with max_depth=5: 0.0130\n",
            "MSE with unrestricted depth: 0.0083\n"
          ]
        },
        {
          "output_type": "display_data",
          "data": {
            "text/plain": [
              "<Figure size 1000x500 with 1 Axes>"
            ],
            "image/png": "[encoded data removed]"
          },
          "metadata": {}
        }
      ]
    },
    {
      "cell_type": "code",
      "source": [
        "#27.Write a Python program to train a Decision Tree Classifier, apply Cost Complexity Pruning (CCP), and visualize its effect on accuracy.\n",
        "\n",
        "import numpy as np\n",
        "import matplotlib.pyplot as plt\n",
        "from sklearn.tree import DecisionTreeClassifier\n",
        "from sklearn.model_selection import train_test_split\n",
        "from sklearn.metrics import accuracy_score\n",
        "from sklearn.datasets import load_iris\n",
        "\n",
        "# Load dataset\n",
        "data = load_iris()\n",
        "X, y = data.data, data.target\n",
        "\n",
        "# Split data into training and testing sets\n",
        "X_train, X_test, y_train, y_test = train_test_split(X, y, test_size=0.2, random_state=42)\n",
        "\n",
        "# Train a Decision Tree Classifier without pruning\n",
        "dt = DecisionTreeClassifier(random_state=42)\n",
        "dt.fit(X_train, y_train)\n",
        "initial_accuracy = accuracy_score(y_test, dt.predict(X_test))\n",
        "print(f'Initial Accuracy (No Pruning): {initial_accuracy:.4f}')\n",
        "\n",
        "# Compute Cost Complexity Pruning Path\n",
        "path = dt.cost_complexity_pruning_path(X_train, y_train)\n",
        "ccp_alphas = path.ccp_alphas[:-1]  # Exclude the maximum alpha for a trivial tree\n",
        "\n",
        "# Train and evaluate Decision Trees with different pruning strengths\n",
        "train_accuracies = []\n",
        "test_accuracies = []\n",
        "\n",
        "for ccp_alpha in ccp_alphas:\n",
        "    dt_pruned = DecisionTreeClassifier(random_state=42, ccp_alpha=ccp_alpha)\n",
        "    dt_pruned.fit(X_train, y_train)\n",
        "    train_accuracies.append(accuracy_score(y_train, dt_pruned.predict(X_train)))\n",
        "    test_accuracies.append(accuracy_score(y_test, dt_pruned.predict(X_test)))\n",
        "\n",
        "# Plot accuracy vs. alpha\n",
        "plt.figure(figsize=(10, 6))\n",
        "plt.plot(ccp_alphas, train_accuracies, marker='o', label='Train Accuracy')\n",
        "plt.plot(ccp_alphas, test_accuracies, marker='s', label='Test Accuracy')\n",
        "plt.xlabel('CCP Alpha')\n",
        "plt.ylabel('Accuracy')\n",
        "plt.title('Effect of Cost Complexity Pruning on Decision Tree Accuracy')\n",
        "plt.legend()\n",
        "plt.grid()\n",
        "plt.show()"
      ],
      "metadata": {
        "colab": {
          "base_uri": "https://localhost:8080/",
          "height": 581
        },
        "id": "IejNXnYEgf_2",
        "outputId": "271cd80f-f202-4442-a026-c05490257006"
      },
      "execution_count": 13,
      "outputs": [
        {
          "output_type": "stream",
          "name": "stdout",
          "text": [
            "Initial Accuracy (No Pruning): 1.0000\n"
          ]
        },
        {
          "output_type": "display_data",
          "data": {
            "text/plain": [
              "<Figure size 1000x600 with 1 Axes>"
            ],
            "image/png": "[encoded data removed]"
          },
          "metadata": {}
        }
      ]
    },
    {
      "cell_type": "code",
      "source": [
        "#28.Write a Python program to train a Decision Tree Classifier and evaluate its performance using Precision, Recall, and F1-Score.\n",
        "\n",
        "from sklearn.datasets import load_iris\n",
        "from sklearn.model_selection import train_test_split\n",
        "from sklearn.tree import DecisionTreeClassifier\n",
        "from sklearn.metrics import precision_score, recall_score, f1_score\n",
        "\n",
        "# Load dataset\n",
        "data = load_iris()\n",
        "X, y = data.data, data.target\n",
        "\n",
        "# Split into training and testing sets\n",
        "X_train, X_test, y_train, y_test = train_test_split(X, y, test_size=0.2, random_state=42)\n",
        "\n",
        "# Train Decision Tree Classifier\n",
        "clf = DecisionTreeClassifier()\n",
        "clf.fit(X_train, y_train)\n",
        "\n",
        "# Make predictions\n",
        "y_pred = clf.predict(X_test)\n",
        "\n",
        "# Evaluate model performance\n",
        "precision = precision_score(y_test, y_pred, average='weighted')\n",
        "recall = recall_score(y_test, y_pred, average='weighted')\n",
        "f1 = f1_score(y_test, y_pred, average='weighted')\n",
        "\n",
        "# Print evaluation metrics\n",
        "print(f'Precision: {precision:.2f}')\n",
        "print(f'Recall: {recall:.2f}')\n",
        "print(f'F1-Score: {f1:.2f}')"
      ],
      "metadata": {
        "colab": {
          "base_uri": "https://localhost:8080/"
        },
        "id": "UIrhYRobgqrg",
        "outputId": "a1211142-fda3-400c-d8fc-51cce9956e9a"
      },
      "execution_count": 14,
      "outputs": [
        {
          "output_type": "stream",
          "name": "stdout",
          "text": [
            "Precision: 1.00\n",
            "Recall: 1.00\n",
            "F1-Score: 1.00\n"
          ]
        }
      ]
    },
    {
      "cell_type": "code",
      "source": [
        "#29.Write a Python program to train a Decision Tree Classifier and visualize the confusion matrix using seaborn.\n",
        "\n",
        "import seaborn as sns\n",
        "import matplotlib.pyplot as plt\n",
        "from sklearn.datasets import load_iris\n",
        "from sklearn.model_selection import train_test_split\n",
        "from sklearn.tree import DecisionTreeClassifier\n",
        "from sklearn.metrics import confusion_matrix\n",
        "import pandas as pd\n",
        "\n",
        "# Load dataset\n",
        "data = load_iris()\n",
        "X, y = data.data, data.target\n",
        "\n",
        "# Split dataset into training and testing sets\n",
        "X_train, X_test, y_train, y_test = train_test_split(X, y, test_size=0.2, random_state=42)\n",
        "\n",
        "# Train Decision Tree Classifier\n",
        "clf = DecisionTreeClassifier()\n",
        "clf.fit(X_train, y_train)\n",
        "\n",
        "# Predict on test set\n",
        "y_pred = clf.predict(X_test)\n",
        "\n",
        "# Compute confusion matrix\n",
        "cm = confusion_matrix(y_test, y_pred)\n",
        "\n",
        "# Convert to DataFrame for better visualization\n",
        "cm_df = pd.DataFrame(cm, index=data.target_names, columns=data.target_names)\n",
        "\n",
        "# Plot confusion matrix\n",
        "plt.figure(figsize=(6, 4))\n",
        "sns.heatmap(cm_df, annot=True, cmap='Blues', fmt='d')\n",
        "plt.xlabel(\"Predicted Label\")\n",
        "plt.ylabel(\"True Label\")\n",
        "plt.title(\"Confusion Matrix for Decision Tree Classifier\")\n",
        "plt.show()"
      ],
      "metadata": {
        "colab": {
          "base_uri": "https://localhost:8080/",
          "height": 410
        },
        "id": "5f9BhNNUg0v6",
        "outputId": "7b4007dc-4656-42a0-9586-ba86adf23a8a"
      },
      "execution_count": 15,
      "outputs": [
        {
          "output_type": "display_data",
          "data": {
            "text/plain": [
              "<Figure size 600x400 with 2 Axes>"
            ],
            "image/png": "[encoded data removed]"
          },
          "metadata": {}
        }
      ]
    },
    {
      "cell_type": "code",
      "source": [
        "#30.Write a Python program to train a Decision Tree Classifier and use GridSearchCV to find the optimal values for max_depth and min_samples_split.\n",
        "\n",
        "import numpy as np\n",
        "import pandas as pd\n",
        "from sklearn.datasets import load_iris\n",
        "from sklearn.model_selection import train_test_split, GridSearchCV\n",
        "from sklearn.tree import DecisionTreeClassifier\n",
        "from sklearn.metrics import accuracy_score\n",
        "\n",
        "# Load dataset\n",
        "iris = load_iris()\n",
        "X, y = iris.data, iris.target\n",
        "\n",
        "# Split data into training and testing sets\n",
        "X_train, X_test, y_train, y_test = train_test_split(X, y, test_size=0.2, random_state=42)\n",
        "\n",
        "# Define the Decision Tree Classifier\n",
        "dt = DecisionTreeClassifier(random_state=42)\n",
        "\n",
        "# Define the parameter grid\n",
        "param_grid = {\n",
        "    'max_depth': [3, 5, 10, None],\n",
        "    'min_samples_split': [2, 5, 10]\n",
        "}\n",
        "\n",
        "# Perform Grid Search\n",
        "grid_search = GridSearchCV(dt, param_grid, cv=5, scoring='accuracy', n_jobs=-1)\n",
        "grid_search.fit(X_train, y_train)\n",
        "\n",
        "# Get the best parameters and train the model with them\n",
        "best_params = grid_search.best_params_\n",
        "best_dt = DecisionTreeClassifier(**best_params, random_state=42)\n",
        "best_dt.fit(X_train, y_train)\n",
        "\n",
        "# Make predictions\n",
        "y_pred = best_dt.predict(X_test)\n",
        "\n",
        "# Evaluate the model\n",
        "accuracy = accuracy_score(y_test, y_pred)\n",
        "\n",
        "print(\"Best Parameters:\", best_params)\n",
        "print(\"Test Set Accuracy:\", accuracy)"
      ],
      "metadata": {
        "colab": {
          "base_uri": "https://localhost:8080/"
        },
        "id": "QvupvKcfg_qD",
        "outputId": "07abfa42-aec1-4243-c4f8-e074c84722ca"
      },
      "execution_count": 16,
      "outputs": [
        {
          "output_type": "stream",
          "name": "stdout",
          "text": [
            "Best Parameters: {'max_depth': 10, 'min_samples_split': 2}\n",
            "Test Set Accuracy: 1.0\n"
          ]
        }
      ]
    }
  ]
}